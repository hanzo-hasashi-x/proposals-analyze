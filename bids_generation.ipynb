{
 "cells": [
  {
   "cell_type": "code",
   "execution_count": 42,
   "id": "03130a9f",
   "metadata": {
    "executionInfo": {
     "elapsed": 2501,
     "status": "ok",
     "timestamp": 1701875717958,
     "user": {
      "displayName": "English Molecule",
      "userId": "15680542099001298495"
     },
     "user_tz": -60
    },
    "id": "03130a9f"
   },
   "outputs": [
    {
     "data": {
      "text/plain": [
       "True"
      ]
     },
     "execution_count": 42,
     "metadata": {},
     "output_type": "execute_result"
    }
   ],
   "source": [
    "from openai import OpenAI\n",
    "\n",
    "from dotenv import load_dotenv\n",
    "import numpy as np\n",
    "import pandas as pd\n",
    "import requests\n",
    "import joblib\n",
    "import os\n",
    "import re\n",
    "\n",
    "import utils\n",
    "\n",
    "load_dotenv()"
   ]
  },
  {
   "cell_type": "markdown",
   "id": "b84e52d5",
   "metadata": {
    "id": "b84e52d5"
   },
   "source": [
    "### Load data"
   ]
  },
  {
   "cell_type": "code",
   "execution_count": 43,
   "id": "f9b14fab",
   "metadata": {
    "executionInfo": {
     "elapsed": 6,
     "status": "ok",
     "timestamp": 1701875717959,
     "user": {
      "displayName": "English Molecule",
      "userId": "15680542099001298495"
     },
     "user_tz": -60
    },
    "id": "f9b14fab"
   },
   "outputs": [],
   "source": [
    "import json"
   ]
  },
  {
   "cell_type": "code",
   "execution_count": 44,
   "id": "66baf311",
   "metadata": {},
   "outputs": [],
   "source": [
    "with open('parser/config.json', 'r') as f:\n",
    "    dataset_name = json.load(f)['dataset_name']"
   ]
  },
  {
   "cell_type": "code",
   "execution_count": 45,
   "id": "8816015d",
   "metadata": {
    "executionInfo": {
     "elapsed": 1836,
     "status": "ok",
     "timestamp": 1701875719790,
     "user": {
      "displayName": "English Molecule",
      "userId": "15680542099001298495"
     },
     "user_tz": -60
    },
    "id": "8816015d"
   },
   "outputs": [],
   "source": [
    "with open(f'data/{dataset_name}.json', 'r') as f:\n",
    "    projects = json.load(f)"
   ]
  },
  {
   "cell_type": "code",
   "execution_count": 46,
   "id": "72ddba5b",
   "metadata": {
    "executionInfo": {
     "elapsed": 1547,
     "status": "ok",
     "timestamp": 1701875721332,
     "user": {
      "displayName": "English Molecule",
      "userId": "15680542099001298495"
     },
     "user_tz": -60
    },
    "id": "72ddba5b"
   },
   "outputs": [],
   "source": [
    "df = utils.load_bids_df(dataset_name=dataset_name)\n",
    "\n",
    "df['bid_description'] = df['bid_description'].fillna('')\n",
    "\n",
    "df_prepared = utils.prepare_df(df)"
   ]
  },
  {
   "cell_type": "code",
   "execution_count": 47,
   "id": "q83qOdgZfc-1",
   "metadata": {
    "executionInfo": {
     "elapsed": 8,
     "status": "ok",
     "timestamp": 1701875721332,
     "user": {
      "displayName": "English Molecule",
      "userId": "15680542099001298495"
     },
     "user_tz": -60
    },
    "id": "q83qOdgZfc-1"
   },
   "outputs": [],
   "source": [
    "def generate_bid(bid, bid_text):\n",
    "\n",
    "    # Transforming generated bid text in features\n",
    "    text_before, text_after = bid_text.split('Description:')\n",
    "\n",
    "    period = re.findall('(?<=Period of work: )\\d+?', text_before)[0]\n",
    "    bid['bid_period'] = int(period)\n",
    "\n",
    "    amount = re.findall('(?<=Price of work: \\$)\\d*', text_before)[0]\n",
    "    bid['bid_amount'] = float(amount)\n",
    "\n",
    "    bid['bid_description'] = text_after\n",
    "\n",
    "    one_bid_df = pd.DataFrame(columns=list(bid.to_dict().keys()), data=[bid.values.tolist()])\n",
    "    one_bid_df = utils.prepare_df(one_bid_df)\n",
    "\n",
    "    return one_bid_df"
   ]
  },
  {
   "cell_type": "markdown",
   "id": "a57ce344",
   "metadata": {
    "id": "a57ce344"
   },
   "source": [
    "#### Get user data"
   ]
  },
  {
   "cell_type": "code",
   "execution_count": 48,
   "id": "905c0314",
   "metadata": {
    "executionInfo": {
     "elapsed": 437,
     "status": "ok",
     "timestamp": 1701875721763,
     "user": {
      "displayName": "English Molecule",
      "userId": "15680542099001298495"
     },
     "user_tz": -60
    },
    "id": "905c0314"
   },
   "outputs": [],
   "source": [
    "access_token = '' or os.getenv('FREELANCER_ACCESS_TOKEN')\n",
    "# /users/0.1/\n",
    "user_id = '70505411'\n",
    "url = f\"https://www.freelancer.com/api/users/0.1/reputations/\"\n",
    "\n",
    "headers = {'freelancer-oauth-v1': access_token}\n",
    "params = {\"users[]\": [int(user_id)]}\n",
    "response = requests.request(\"GET\", url, headers=headers, params=params)\n",
    "\n",
    "user_data = response.json()['result'][user_id]"
   ]
  },
  {
   "cell_type": "markdown",
   "id": "2a7fa9db",
   "metadata": {
    "id": "2a7fa9db"
   },
   "source": [
    "#### ChatGPT API generation"
   ]
  },
  {
   "cell_type": "code",
   "execution_count": 49,
   "id": "d7a8fc6b",
   "metadata": {
    "executionInfo": {
     "elapsed": 5,
     "status": "ok",
     "timestamp": 1701875721763,
     "user": {
      "displayName": "English Molecule",
      "userId": "15680542099001298495"
     },
     "user_tz": -60
    },
    "id": "d7a8fc6b"
   },
   "outputs": [],
   "source": [
    "API_KEY = '' or os.getenv('OPENAI_API_KEY')"
   ]
  },
  {
   "cell_type": "code",
   "execution_count": 50,
   "id": "c57ddd64",
   "metadata": {
    "executionInfo": {
     "elapsed": 359,
     "status": "ok",
     "timestamp": 1701875722118,
     "user": {
      "displayName": "English Molecule",
      "userId": "15680542099001298495"
     },
     "user_tz": -60
    },
    "id": "c57ddd64"
   },
   "outputs": [],
   "source": [
    "client = OpenAI(api_key=API_KEY)\n",
    "\n",
    "system_content = (\"You are a freelancer which specializes in machine learning.\"\n",
    "                  \"You have an understanding of the field, because you have learnt a lot, \"\n",
    "                  \"but you haven't done anything important in this field.\"\n",
    "                  \"You work on freelancer.com and you want to be adwarded for this project.\"\n",
    "                  \"Propose to the client the way of solving the problem.\"\n",
    "                  \"You can write no more than 250 words. You need to be polite enough. \"\n",
    "                  \"You need to answer by such model: Period of work: [number] days;\"\n",
    "                  \" Price of work: $[price]; Description: [your proposition].\")\n",
    "\n",
    "def get_bid_text(project):\n",
    "\n",
    "    project_title = project['project_title'].iloc[0]\n",
    "    project_description = project['project_description'].iloc[0]\n",
    "\n",
    "    project_min_amount = project['project_min_amount'].iloc[0]\n",
    "    project_max_amount = project['project_max_amount'].iloc[0]\n",
    "\n",
    "    completion = client.chat.completions.create(\n",
    "      model=\"gpt-3.5-turbo\",\n",
    "      messages=[\n",
    "        {\"role\": \"system\", \"content\": system_content},\n",
    "        {\"role\": \"user\", \"content\": (f\"Title: {project_title}\\nProject desired min amount: {project_min_amount}\"\n",
    "                                     f\"Project desired max amount: {project_max_amount}\\n\"\n",
    "                                     f\"Description: {project_description}\")}\n",
    "      ]\n",
    "    )\n",
    "\n",
    "    return completion.choices[0].message.content.replace('[Your Name]', '@username')"
   ]
  },
  {
   "cell_type": "code",
   "execution_count": 51,
   "id": "598f02ad",
   "metadata": {
    "executionInfo": {
     "elapsed": 3,
     "status": "ok",
     "timestamp": 1701875722118,
     "user": {
      "displayName": "English Molecule",
      "userId": "15680542099001298495"
     },
     "user_tz": -60
    },
    "id": "598f02ad"
   },
   "outputs": [],
   "source": [
    "import random\n",
    "\n",
    "def get_random_project():\n",
    "\n",
    "    project_id = random.choice(df['project_id'].unique())\n",
    "    project_bids_indexes = np.where(df['project_id'] == project_id)[0]\n",
    "\n",
    "    project = df.iloc[project_bids_indexes]\n",
    "\n",
    "    return project"
   ]
  },
  {
   "cell_type": "markdown",
   "id": "bcbb7377",
   "metadata": {},
   "source": [
    "### Formatting base template"
   ]
  },
  {
   "cell_type": "code",
   "execution_count": 52,
   "id": "05c8c346",
   "metadata": {},
   "outputs": [],
   "source": [
    "def show_awarded_proportion(df, *args, name=''):\n",
    "    prop = sum(df['bid_award_status']) / len(df) * 100\n",
    "    print('Proportion of awarded', name+':', prop, '%', *args)    "
   ]
  },
  {
   "cell_type": "markdown",
   "id": "5caf298b",
   "metadata": {},
   "source": [
    "#### choosing the best greetings"
   ]
  },
  {
   "cell_type": "code",
   "execution_count": 53,
   "id": "dd7b604d",
   "metadata": {
    "scrolled": true
   },
   "outputs": [
    {
     "name": "stdout",
     "output_type": "stream",
     "text": [
      "Proportion of awarded with_greetings: 8.40949455170551 %\n",
      "Proportion of awarded without_greetings: 9.57910014513788 %\n"
     ]
    }
   ],
   "source": [
    "target_df = df_prepared.loc[df_prepared['bid_greetings'].values.astype(bool)]\n",
    "show_awarded_proportion(target_df, name='with_greetings')\n",
    "\n",
    "target_df = df_prepared.loc[~df_prepared['bid_greetings'].values.astype(bool)]\n",
    "show_awarded_proportion(target_df, name='without_greetings')"
   ]
  },
  {
   "cell_type": "code",
   "execution_count": 54,
   "id": "9e2acf16",
   "metadata": {},
   "outputs": [
    {
     "name": "stdout",
     "output_type": "stream",
     "text": [
      "Proportion of awarded good afternoon: 0.0 % 5\n",
      "Proportion of awarded without_good afternoon: 8.458961474036851 % 9552\n",
      "\n",
      "Proportion of awarded good morning: 0.0 % 6\n",
      "Proportion of awarded without_good morning: 8.459847136425505 % 9551\n",
      "\n",
      "Proportion of awarded how are you: 20.603015075376884 % 398\n",
      "Proportion of awarded without_how are you: 7.926629544710122 % 9159\n",
      "\n",
      "Proportion of awarded dear sir: 8.108108108108109 % 74\n",
      "Proportion of awarded without_dear sir: 8.45723927027312 % 9483\n",
      "\n",
      "Proportion of awarded hi: 7.760090960773167 % 3518\n",
      "Proportion of awarded without_hi: 8.859082629574432 % 6039\n",
      "\n",
      "Proportion of awarded hello: 7.920792079207921 % 2222\n",
      "Proportion of awarded without_hello: 8.61622358554874 % 7335\n",
      "\n",
      "Proportion of awarded greetings: 20.88235294117647 % 340\n",
      "Proportion of awarded without_greetings: 7.996094173809265 % 9217\n",
      "\n",
      "Proportion of awarded regards: 0.0 % 2\n",
      "Proportion of awarded without_regards: 8.456305599162741 % 9555\n",
      "\n"
     ]
    }
   ],
   "source": [
    "for greeting in utils.greetings+['greetings']+['regards']:\n",
    "    target_index = df['bid_description'].apply(lambda x: x.lower()[:30].find(greeting)!=-1)\n",
    "    target_df = df.loc[target_index]\n",
    "    \n",
    "    if len(target_df) > 0.:\n",
    "        show_awarded_proportion(target_df, len(target_df), name=greeting)\n",
    "        \n",
    "        target_df = df.loc[~target_index]\n",
    "        show_awarded_proportion(target_df, len(target_df), name='without_'+greeting)\n",
    "        print()"
   ]
  },
  {
   "cell_type": "code",
   "execution_count": 55,
   "id": "8c4161f5",
   "metadata": {},
   "outputs": [
    {
     "name": "stdout",
     "output_type": "stream",
     "text": [
      "Hello, how are you? \n",
      " I just saw your jo\n",
      "\n",
      "Greetings!\n",
      "How are you today?\n",
      "Thanks for\n",
      "\n",
      "Hi, How are you? \n",
      "Very glad to bid your \n",
      "\n",
      "Hi. How are you? \n",
      "I have just read your \n",
      "\n",
      "Hello, How Are You? I have read your job\n"
     ]
    }
   ],
   "source": [
    "target_index = df['bid_description'].apply(lambda x: x.lower().find('how are you')!=-1)\n",
    "target_df = df.loc[target_index]\n",
    "\n",
    "print('\\n\\n'.join([text[:40] for text in target_df['bid_description'].head(5).values]))"
   ]
  },
  {
   "cell_type": "code",
   "execution_count": 56,
   "id": "2882954b",
   "metadata": {},
   "outputs": [
    {
     "name": "stdout",
     "output_type": "stream",
     "text": [
      "Proportion of awarded hello: 11.956521739130435 % 92\n",
      "Proportion of awarded without_hello: 8.06233893729292 % 8149\n",
      "\n",
      "Proportion of awarded hi: 12.70718232044199 % 181\n",
      "Proportion of awarded without_hi: 8.002481389578165 % 8060\n",
      "\n",
      "Proportion of awarded greetings: 50.56179775280899 % 89\n",
      "Proportion of awarded without_greetings: 7.642296368989205 % 8152\n",
      "\n"
     ]
    }
   ],
   "source": [
    "df_without_sealed = df.drop(np.where(df['bid_sealed'])[0]).reset_index(drop=True)\n",
    "\n",
    "for greeting in [['hello', 'how are you'], ['hi', 'how are you'], ['greetings', 'how are you']]:\n",
    "    target_index = df_without_sealed['bid_description'].apply(lambda x: x.lower()[:30]\n",
    "                                              ).apply(lambda x: x.find(greeting[0])!=-1 and x.find(greeting[1])!=-1)\n",
    "    target_df = df_without_sealed.loc[target_index]\n",
    "    \n",
    "    if len(target_df) > 0.:\n",
    "        show_awarded_proportion(target_df, len(target_df), name=greeting[0])\n",
    "        \n",
    "        target_df = df_without_sealed.loc[~target_index]\n",
    "        show_awarded_proportion(target_df, len(target_df), name='without_'+greeting[0])\n",
    "        print()"
   ]
  },
  {
   "cell_type": "code",
   "execution_count": 57,
   "id": "8ca9b034",
   "metadata": {},
   "outputs": [
    {
     "data": {
      "text/plain": [
       "17     Greetings!\\nHow are you today?\\nThanks for pos...\n",
       "131    Greetings!\\nHow are you today?\\nThanks for pos...\n",
       "527    Greetings!\\nHow are you today?\\nThanks for pos...\n",
       "576    Greetings!\\nHow are you today?\\nThanks for pos...\n",
       "665    Greetings!\\nHow are you today?\\nThanks for pos...\n",
       "Name: bid_description, dtype: object"
      ]
     },
     "execution_count": 57,
     "metadata": {},
     "output_type": "execute_result"
    }
   ],
   "source": [
    "target_index = df_without_sealed['bid_description'].apply(lambda x: x.lower()[:30]\n",
    "                                        ).apply(lambda x: x.find('greetings')!=-1 and x.find('how are you')!=-1)\n",
    "df_without_sealed.loc[target_index]['bid_description'].apply(lambda x: x[:50]).head()"
   ]
  },
  {
   "cell_type": "code",
   "execution_count": 58,
   "id": "cd013a46",
   "metadata": {},
   "outputs": [
    {
     "data": {
      "text/plain": [
       "24     Hi, How are you? \\nVery glad to bid your proje...\n",
       "38     Hi. How are you? \\nI have just read your propo...\n",
       "269    Hi, How are you? \\nVery glad to bid your proje...\n",
       "290    Hi, How are you?\\nUpon reading brief details I...\n",
       "296    Hi, How are you? I am expert in Matlab and mac...\n",
       "Name: bid_description, dtype: object"
      ]
     },
     "execution_count": 58,
     "metadata": {},
     "output_type": "execute_result"
    }
   ],
   "source": [
    "target_index = df_without_sealed['bid_description'].apply(lambda x: x.lower()[:30]\n",
    "                                        ).apply(lambda x: x.find('hi')!=-1 and x.find('how are you')!=-1)\n",
    "df_without_sealed.loc[target_index]['bid_description'].apply(lambda x: x[:50]).head()"
   ]
  },
  {
   "cell_type": "markdown",
   "id": "3521bba9",
   "metadata": {},
   "source": [
    "Greetings: Hi, How are you?"
   ]
  },
  {
   "cell_type": "markdown",
   "id": "cf50d44a",
   "metadata": {},
   "source": [
    "#### finding optimal length"
   ]
  },
  {
   "cell_type": "code",
   "execution_count": 59,
   "id": "2be2f96b",
   "metadata": {},
   "outputs": [
    {
     "data": {
      "text/plain": [
       "bid_descr_len              -0.050411\n",
       "proj/bid_lens_proportion   -0.016700\n",
       "Name: bid_award_status, dtype: float64"
      ]
     },
     "execution_count": 59,
     "metadata": {},
     "output_type": "execute_result"
    }
   ],
   "source": [
    "corr_matrix = df_prepared.corr()\n",
    "corr_matrix['bid_award_status'].sort_values(ascending=False)[['bid_descr_len', 'proj/bid_lens_proportion']]"
   ]
  },
  {
   "cell_type": "code",
   "execution_count": 60,
   "id": "f1175c31",
   "metadata": {},
   "outputs": [
    {
     "data": {
      "text/plain": [
       "array([[<Axes: title={'center': 'bid_descr_len'}>,\n",
       "        <Axes: title={'center': 'proj/bid_lens_proportion'}>]],\n",
       "      dtype=object)"
      ]
     },
     "execution_count": 60,
     "metadata": {},
     "output_type": "execute_result"
    },
    {
     "data": {
      "image/png": "[encoded data removed]",
      "text/plain": [
       "<Figure size 640x480 with 2 Axes>"
      ]
     },
     "metadata": {},
     "output_type": "display_data"
    }
   ],
   "source": [
    "df_prepared[df['bid_award_status'].astype(bool)][['bid_descr_len', 'proj/bid_lens_proportion']].hist()"
   ]
  },
  {
   "cell_type": "code",
   "execution_count": 61,
   "id": "f410d56b",
   "metadata": {},
   "outputs": [
    {
     "name": "stdout",
     "output_type": "stream",
     "text": [
      "mean: 16 words\n"
     ]
    }
   ],
   "source": [
    "target_df = df_prepared.loc[(df_prepared['bid_descr_len'] > 30.) & (~df_prepared['bid_sealed'].astype(bool)) & \n",
    "                            (df['bid_award_status'].astype(bool) )] # ignoring descr of 5 words\n",
    "\n",
    "mean_word_len = 5\n",
    "bid_len = target_df['bid_descr_len'].mean()\n",
    "\n",
    "print('mean:', round(bid_len/mean_word_len),'words')"
   ]
  },
  {
   "cell_type": "code",
   "execution_count": 62,
   "id": "0c2c28b9",
   "metadata": {},
   "outputs": [
    {
     "name": "stdout",
     "output_type": "stream",
     "text": [
      "mean: 28% of project len\n"
     ]
    }
   ],
   "source": [
    "target_df = df_prepared.loc[(df_prepared['proj/bid_lens_proportion'] > 0.) & (~df_prepared['bid_sealed'].astype(bool)) & \n",
    "                            (df['bid_award_status'].astype(bool) )] # ignoring descr of 5 words\n",
    "\n",
    "proportion = target_df['proj/bid_lens_proportion'].mean()\n",
    "\n",
    "print(f'mean: {round(1 / proportion*100)}% of project len')"
   ]
  },
  {
   "cell_type": "markdown",
   "id": "5e380ff2",
   "metadata": {},
   "source": [
    "#### others columns"
   ]
  },
  {
   "cell_type": "code",
   "execution_count": 63,
   "id": "6382aee2",
   "metadata": {},
   "outputs": [
    {
     "data": {
      "text/plain": [
       "Index(['project_id', 'bid_score', 'bid_sealed', 'bid_period', 'bid_quality',\n",
       "       'bid_communication', 'bid_professionalism', 'bid_award_status',\n",
       "       'project/bid_amount_proportion', 'bid_delay',\n",
       "       'same_words_title/bid_proportion', 'same_words_descr/bid_proportion',\n",
       "       'bid_descr_len', 'proj/bid_lens_proportion', 'bid_greetings'],\n",
       "      dtype='object')"
      ]
     },
     "execution_count": 63,
     "metadata": {},
     "output_type": "execute_result"
    }
   ],
   "source": [
    "df_prepared.columns"
   ]
  },
  {
   "cell_type": "markdown",
   "id": "63041cca",
   "metadata": {},
   "source": [
    "with others columns, it's better than higgher, such as than faster will be written bid, than better"
   ]
  },
  {
   "cell_type": "markdown",
   "id": "d04ea9fb",
   "metadata": {
    "id": "d04ea9fb"
   },
   "source": [
    "### Writting with using simple model"
   ]
  },
  {
   "cell_type": "markdown",
   "id": "6b3928f2",
   "metadata": {
    "id": "6b3928f2"
   },
   "source": [
    "#### Load estimator"
   ]
  },
  {
   "cell_type": "code",
   "execution_count": 64,
   "id": "3d283820",
   "metadata": {
    "executionInfo": {
     "elapsed": 3028,
     "status": "ok",
     "timestamp": 1701875725143,
     "user": {
      "displayName": "English Molecule",
      "userId": "15680542099001298495"
     },
     "user_tz": -60
    },
    "id": "3d283820"
   },
   "outputs": [],
   "source": [
    "estimator = joblib.load('estimators/ml_bids_estimator.json')"
   ]
  },
  {
   "cell_type": "code",
   "execution_count": 65,
   "id": "d251367f",
   "metadata": {
    "executionInfo": {
     "elapsed": 7,
     "status": "ok",
     "timestamp": 1701875725144,
     "user": {
      "displayName": "English Molecule",
      "userId": "15680542099001298495"
     },
     "user_tz": -60
    },
    "id": "d251367f"
   },
   "outputs": [],
   "source": [
    "def predict_bids_probs(bids):\n",
    "    return estimator.predict_proba(bids)[:, 1].reshape(-1)"
   ]
  },
  {
   "cell_type": "code",
   "execution_count": 66,
   "id": "0e8da871",
   "metadata": {
    "executionInfo": {
     "elapsed": 257,
     "status": "ok",
     "timestamp": 1701876038789,
     "user": {
      "displayName": "English Molecule",
      "userId": "15680542099001298495"
     },
     "user_tz": -60
    },
    "id": "0e8da871"
   },
   "outputs": [],
   "source": [
    "def predict_generated_bids_probs(best_bid, bids_texts):\n",
    "\n",
    "    bids = [generate_bid(best_bid.copy(), bid_text) for bid_text in bids_texts]\n",
    "\n",
    "    bids = pd.concat(bids)\n",
    "    pred = predict_bids_probs(bids)\n",
    "\n",
    "    return pred, bids"
   ]
  },
  {
   "cell_type": "markdown",
   "id": "J3SZtV3Ygph0",
   "metadata": {
    "id": "J3SZtV3Ygph0"
   },
   "source": [
    "#### Generating text"
   ]
  },
  {
   "cell_type": "code",
   "execution_count": 67,
   "id": "i2qHbcg-xhtL",
   "metadata": {
    "executionInfo": {
     "elapsed": 276,
     "status": "ok",
     "timestamp": 1701876998583,
     "user": {
      "displayName": "English Molecule",
      "userId": "15680542099001298495"
     },
     "user_tz": -60
    },
    "id": "i2qHbcg-xhtL"
   },
   "outputs": [],
   "source": [
    "system_content = (\"You are a freelancer which specializes in machine learning.\"\n",
    "                  \"You have an understanding of the field, because you have learnt a lot, \"\n",
    "                  \"but you haven't done anything important in this field.\"\n",
    "                  \"You work on freelancer.com and you want to be adwarded for this project.\"\n",
    "                  \"Try to asnwwer as short as possible with the key idea is to show that you know your work. \"\n",
    "                  \"You need to answer by such template: Period of work: [number] days;\"\n",
    "                  \" Price of work: $[price]; Description: Hi, How are you? [your proposition]\")\n",
    "# taken from the section \"Load model with pretrained embeddings\""
   ]
  },
  {
   "cell_type": "code",
   "execution_count": 73,
   "id": "XAnd3YExZ7zv",
   "metadata": {
    "colab": {
     "base_uri": "https://localhost:8080/"
    },
    "executionInfo": {
     "elapsed": 66645,
     "status": "ok",
     "timestamp": 1701877066568,
     "user": {
      "displayName": "English Molecule",
      "userId": "15680542099001298495"
     },
     "user_tz": -60
    },
    "id": "XAnd3YExZ7zv",
    "outputId": "5bd40397-1783-4473-d632-c4fc0aa0355e"
   },
   "outputs": [
    {
     "name": "stdout",
     "output_type": "stream",
     "text": [
      "Probs of others bids:  [35.79668834 33.44920488  3.06132837  1.99178103]\n",
      "Probs of not sealed bids:  [35.79668834 33.44920488  3.06132837  1.99178103]\n",
      "Probability to be awarded: [28.47651313 31.06716669 28.8585958  32.07818799]\n",
      "\n",
      "Probs of others bids:  [38.83992901 33.59302276 29.91519951 29.44325646  5.89051098]\n",
      "Probs of not sealed bids:  [38.83992901 33.59302276 29.91519951 29.44325646  5.89051098]\n",
      "Probability to be awarded: [28.3631246  28.2562043  28.48847254 28.3607275 ]\n",
      "\n",
      "Probs of others bids:  [40.19344145 35.0323068  31.83474841 31.13731163 29.85383461]\n",
      "Probs of not sealed bids:  [40.19344145 31.83474841 28.16496407 27.97933866 26.154414  ]\n",
      "Probability to be awarded: [23.25619089 24.89429766 14.4398102  19.92684493]\n",
      "\n"
     ]
    }
   ],
   "source": [
    "# variables for future analyze\n",
    "best_properties = {elem: {} for elem in ['predicted', 'labeled']}\n",
    "iterations = {}\n",
    "\n",
    "n = 3\n",
    "for i in range(n):\n",
    "\n",
    "    iteration_env = {}\n",
    "\n",
    "    project = get_random_project().reset_index(drop=True)\n",
    "    df_project = utils.prepare_df(project)\n",
    "\n",
    "    best_index = np.where(project['bid_award_status'])[0][0]\n",
    "    for col in df_project.columns:\n",
    "        if col in ['project_id', 'bid_award_status']: continue\n",
    "\n",
    "        if not best_properties.get(col, False):\n",
    "            best_properties['labeled'][col] = 0\n",
    "\n",
    "        best_properties['labeled'][col] += df_project.iloc[best_index][col]\n",
    "\n",
    "    iteration_env['project'] = project\n",
    "\n",
    "    probs = predict_bids_probs(df_project) * 100\n",
    "    probs_descending = np.argsort(probs)[::-1]\n",
    "\n",
    "    print('Probs of others bids: ', probs[probs_descending[:5]])\n",
    "    iteration_env['project_probs'] = probs\n",
    "\n",
    "    project_without_sealed_bids = project.drop(np.where(project['bid_sealed'])[0])\n",
    "    df_project_without_sealed_bids = utils.prepare_df(project_without_sealed_bids)\n",
    "\n",
    "    probs = predict_bids_probs(df_project_without_sealed_bids) * 100\n",
    "    probs_descending = np.argsort(probs)[::-1]\n",
    "\n",
    "    print('Probs of not sealed bids: ', probs[probs_descending[:5]])\n",
    "    iteration_env['project_without_sealed'] = project_without_sealed_bids\n",
    "    iteration_env['project_without_sealed_probs'] = probs\n",
    "\n",
    "    index = np.argmax(probs)\n",
    "\n",
    "    for col in df_project.columns:\n",
    "        if not best_properties.get(col, False):\n",
    "            best_properties['predicted'][col] = 0\n",
    "\n",
    "        best_properties['predicted'][col] += df_project.iloc[index][col]\n",
    "\n",
    "    bids_texts = [get_bid_text(project) for i in range(4)]\n",
    "\n",
    "    probs,bids = predict_generated_bids_probs(project.iloc[index].copy(),\n",
    "                                              bids_texts)\n",
    "    print(f'Probability to be awarded: {probs* 100}')\n",
    "    iteration_env['bids_texts'] = bids_texts\n",
    "    iteration_env['generated_bids_probs'] = probs\n",
    "\n",
    "    iteration_env['best_bid'] = project.iloc[index]\n",
    "\n",
    "    print()\n",
    "\n",
    "    # saving\n",
    "    iterations[df_project.iloc[best_index]['project_id']] = iteration_env"
   ]
  },
  {
   "cell_type": "code",
   "execution_count": 74,
   "id": "YjY7khZGxeAZ",
   "metadata": {
    "colab": {
     "base_uri": "https://localhost:8080/"
    },
    "executionInfo": {
     "elapsed": 34,
     "status": "ok",
     "timestamp": 1701877066569,
     "user": {
      "displayName": "English Molecule",
      "userId": "15680542099001298495"
     },
     "user_tz": -60
    },
    "id": "YjY7khZGxeAZ",
    "outputId": "0af6aa51-18a5-49ea-a84e-0dd4acd94ad3"
   },
   "outputs": [
    {
     "name": "stdout",
     "output_type": "stream",
     "text": [
      "Project description: Clustering time series data using k shape or other time series clustering algorithm\n",
      "\n",
      "Attempt: 0, Prob: 23.26%\n",
      "Period of work: 5 days\n",
      "Price of work: $150\n",
      "Description: Hi, How are you? I have expertise in clustering time series data using k shape and other time series clustering algorithms. I can complete this project within 5 days for a price of $150.\n",
      "\n",
      "Attempt: 1, Prob: 24.89%\n",
      "Period of work: 5 days; \n",
      "Price of work: $150; \n",
      "Description: Hi, How are you? I have experience in clustering time series data using k shape algorithm. I can help you analyze and cluster your time series data efficiently. Let's discuss your requirements in detail and get started on the project.\n",
      "\n",
      "Attempt: 2, Prob: 14.44%\n",
      "Period of work: 7 days; Price of work: $200; \n",
      "\n",
      "Description: Hi, I hope you're doing well. I have experience in clustering time series data using k shape and other time series clustering algorithms. I can work on your project and deliver the results within 7 days for a total price of $200. I will analyze your time series data, apply the appropriate clustering algorithm, and provide you with the clustered groups. Let me know if you have any specific requirements or if you need any further information. Looking forward to working with you!\n",
      "\n",
      "Attempt: 3, Prob: 19.93%\n",
      "Period of work: 5 days; Price of work: $150; Description: Hi, How are you? I specialize in machine learning and have experience with time series clustering algorithms, such as k shape. I can cluster your time series data using this algorithm or any other suitable method. My estimated timeline for completing this project is 5 days and my price is $150. Let me know if you have any specific requirements or if you would like to discuss further.\n",
      "\n"
     ]
    }
   ],
   "source": [
    "print('Project description:', project['project_description'][0]), print()\n",
    "\n",
    "for i, (prob,bid_text) in enumerate(zip(probs, bids_texts)):\n",
    "    print(f'Attempt: {i}, Prob: {round(prob*100,2)}%\\n{bid_text}'), print()"
   ]
  },
  {
   "cell_type": "markdown",
   "id": "094168d7",
   "metadata": {
    "id": "094168d7"
   },
   "source": [
    "### Writting with using DNN with embeddings for text analyze"
   ]
  },
  {
   "cell_type": "code",
   "execution_count": 70,
   "id": "3e20c375",
   "metadata": {
    "executionInfo": {
     "elapsed": 8056,
     "status": "ok",
     "timestamp": 1701870050794,
     "user": {
      "displayName": "English Molecule",
      "userId": "15680542099001298495"
     },
     "user_tz": -60
    },
    "id": "3e20c375",
    "scrolled": true
   },
   "outputs": [
    {
     "name": "stderr",
     "output_type": "stream",
     "text": [
      "2023-12-13 06:28:06.411886: I tensorflow/tsl/cuda/cudart_stub.cc:28] Could not find cuda drivers on your machine, GPU will not be used.\n",
      "2023-12-13 06:28:07.130516: I tensorflow/tsl/cuda/cudart_stub.cc:28] Could not find cuda drivers on your machine, GPU will not be used.\n",
      "2023-12-13 06:28:09.627776: W tensorflow/compiler/tf2tensorrt/utils/py_utils.cc:38] TF-TRT Warning: Could not find TensorRT\n"
     ]
    }
   ],
   "source": [
    "import tensorflow as tf\n",
    "import tensorflow_hub as hub"
   ]
  },
  {
   "cell_type": "code",
   "execution_count": 71,
   "id": "c2028114",
   "metadata": {
    "executionInfo": {
     "elapsed": 1663,
     "status": "ok",
     "timestamp": 1701870052450,
     "user": {
      "displayName": "English Molecule",
      "userId": "15680542099001298495"
     },
     "user_tz": -60
    },
    "id": "c2028114",
    "scrolled": true
   },
   "outputs": [],
   "source": [
    "preprocess = joblib.load('models/pipeline.json')"
   ]
  },
  {
   "cell_type": "markdown",
   "id": "14598dad",
   "metadata": {
    "id": "14598dad"
   },
   "source": [
    "#### Load model with pretrained embeddings"
   ]
  },
  {
   "cell_type": "code",
   "execution_count": null,
   "id": "3aee3c84",
   "metadata": {
    "id": "3aee3c84"
   },
   "outputs": [],
   "source": [
    "model = tf.keras.models.load_model('models/ml_projects_vector_embeddings_model.h5',\n",
    "                                   custom_objects={\"KerasLayer\": hub.KerasLayer})"
   ]
  },
  {
   "cell_type": "code",
   "execution_count": null,
   "id": "ff6ed5ec",
   "metadata": {
    "id": "ff6ed5ec"
   },
   "outputs": [],
   "source": [
    "X_1, X_2 = df['project_description'].values, df['bid_description'].values\n",
    "X_3 = preprocess.transform(df_prepared).astype('float32')"
   ]
  },
  {
   "cell_type": "code",
   "execution_count": null,
   "id": "0af5d02d",
   "metadata": {
    "id": "0af5d02d"
   },
   "outputs": [],
   "source": [
    "def predict_bids_probs(bids):\n",
    "    return model.predict(bids, verbose=0).reshape(-1)"
   ]
  },
  {
   "cell_type": "code",
   "execution_count": null,
   "id": "we73YNuD_mdN",
   "metadata": {
    "id": "we73YNuD_mdN"
   },
   "outputs": [],
   "source": [
    "def prepare_data(project):\n",
    "\n",
    "    df = utils.prepare_df(project)\n",
    "\n",
    "    x_2 = preprocess.transform(df).astype('float32')\n",
    "    bids = ( project['project_description'].values, project['bid_description'].values, x_2)\n",
    "\n",
    "    return bids"
   ]
  },
  {
   "cell_type": "code",
   "execution_count": null,
   "id": "e99bb08b",
   "metadata": {
    "id": "e99bb08b"
   },
   "outputs": [],
   "source": [
    "def predict_generated_bids_probs(best_bid, bids_texts):\n",
    "    bids = [generate_bid(best_bid.copy(), bid_text) for bid_text in bids_texts]\n",
    "\n",
    "    x_2 = preprocess.transform(pd.concat(bids)).astype('float32')\n",
    "    bids = ( np.repeat(best_bid['project_description'], len(bids)),\n",
    "             np.array(bids_texts), x_2)\n",
    "\n",
    "    pred = predict_bids_probs(bids)\n",
    "\n",
    "    return pred, bids"
   ]
  },
  {
   "cell_type": "markdown",
   "id": "la82sEoLi-mF",
   "metadata": {
    "id": "la82sEoLi-mF"
   },
   "source": [
    "##### Generating text"
   ]
  },
  {
   "cell_type": "code",
   "execution_count": null,
   "id": "M5ttgLzGi-mG",
   "metadata": {
    "colab": {
     "base_uri": "https://localhost:8080/"
    },
    "executionInfo": {
     "elapsed": 274539,
     "status": "ok",
     "timestamp": 1701841987969,
     "user": {
      "displayName": "English Molecule",
      "userId": "15680542099001298495"
     },
     "user_tz": -60
    },
    "id": "M5ttgLzGi-mG",
    "outputId": "96821b7a-4ff8-41ef-9cc4-0d15db75047d"
   },
   "outputs": [
    {
     "name": "stdout",
     "output_type": "stream",
     "text": [
      "Probs of others bids:  [91.15503  77.07206  75.58336  68.28451  46.655952]\n",
      "Probs of not sealed bids:  [91.15503  46.655952 29.696148 28.29905  19.53961 ]\n",
      "Probability to be awarded: [5.8478584 9.262669  3.703593  2.8786018]\n",
      "\n",
      "Probs of others bids:  [77.7794   75.568695 67.23305  65.44382  60.364048]\n",
      "Probs of not sealed bids:  [67.23305  65.44382  60.364048 49.740814 30.55838 ]\n",
      "Probability to be awarded: [6.3783684e+00 4.1249595e-03 4.7295406e-01 6.9040668e-01]\n",
      "\n",
      "Probs of others bids:  [86.53886  81.649086 10.243407  8.811051  6.774966]\n",
      "Probs of not sealed bids:  [10.243407   8.811051   6.774966   5.7837543  5.542145 ]\n",
      "Probability to be awarded: [ 5.7100253 21.795374  19.38219   10.3059845]\n",
      "\n"
     ]
    }
   ],
   "source": [
    "# variables for future analyze\n",
    "best_properties = {elem: {} for elem in ['predicted', 'labeled']}\n",
    "iterations = {}\n",
    "\n",
    "n = 3\n",
    "for i in range(n):\n",
    "\n",
    "    iteration_env = {}\n",
    "\n",
    "    project = get_random_project().reset_index(drop=True)\n",
    "    df_project = utils.prepare_df(project)\n",
    "\n",
    "    best_index = np.where(project['bid_award_status'])[0][0]\n",
    "    for col in df_project.columns:\n",
    "        if col in ['project_id', 'bid_award_status']: continue\n",
    "\n",
    "        if not best_properties.get(col, False):\n",
    "            best_properties['labeled'][col] = 0\n",
    "\n",
    "        best_properties['labeled'][col] += df_project.iloc[best_index][col]\n",
    "\n",
    "    iteration_env['project'] = project\n",
    "\n",
    "    probs = predict_bids_probs(prepare_data(project)) * 100\n",
    "    probs_descending = np.argsort(probs)[::-1]\n",
    "\n",
    "    print('Probs of others bids: ', probs[probs_descending[:5]])\n",
    "    iteration_env['project_probs'] = probs\n",
    "\n",
    "    project_without_sealed_bids = project.drop(np.where(project['bid_sealed'])[0])\n",
    "\n",
    "    probs = predict_bids_probs(prepare_data(project_without_sealed_bids)) * 100\n",
    "    probs_descending = np.argsort(probs)[::-1]\n",
    "\n",
    "    print('Probs of not sealed bids: ', probs[probs_descending[:5]])\n",
    "    iteration_env['project_without_sealed'] = project_without_sealed_bids\n",
    "    iteration_env['project_without_sealed_probs'] = probs\n",
    "\n",
    "    index = np.argmax(probs)\n",
    "\n",
    "    for col in df_project.columns:\n",
    "        if not best_properties.get(col, False):\n",
    "            best_properties['predicted'][col] = 0\n",
    "\n",
    "        best_properties['predicted'][col] += df_project.iloc[index][col]\n",
    "\n",
    "    bids_texts = [get_bid_text(project) for i in range(4)]\n",
    "\n",
    "    probs,bids = predict_generated_bids_probs(project.iloc[index].copy(),\n",
    "                                              bids_texts)\n",
    "    print(f'Probability to be awarded: {probs* 100}')\n",
    "    iteration_env['bids_texts'] = bids_texts\n",
    "    iteration_env['generated_bids_probs'] = probs\n",
    "\n",
    "    iteration_env['best_bid'] = project.iloc[index]\n",
    "\n",
    "    print()\n",
    "\n",
    "    # saving\n",
    "    iterations[df_project.iloc[best_index]['project_id']] = iteration_env"
   ]
  },
  {
   "cell_type": "code",
   "execution_count": null,
   "id": "_02Qg3grbMuD",
   "metadata": {
    "id": "_02Qg3grbMuD"
   },
   "outputs": [],
   "source": [
    "best_bid = project.iloc[index].copy()\n",
    "a = best_bid.to_dict()"
   ]
  },
  {
   "cell_type": "code",
   "execution_count": null,
   "id": "3kySXx-jbReE",
   "metadata": {
    "colab": {
     "base_uri": "https://localhost:8080/",
     "height": 101
    },
    "executionInfo": {
     "elapsed": 10,
     "status": "ok",
     "timestamp": 1701842078076,
     "user": {
      "displayName": "English Molecule",
      "userId": "15680542099001298495"
     },
     "user_tz": -60
    },
    "id": "3kySXx-jbReE",
    "outputId": "e60b37e5-1c50-4b91-c28b-41297b5a0dfd"
   },
   "outputs": [
    {
     "data": {
      "text/html": [
       "\n",
       "  <div id=\"df-586d0409-32d1-476f-a802-3aeca63d2b9c\" class=\"colab-df-container\">\n",
       "    <div>\n",
       "<style scoped>\n",
       "    .dataframe tbody tr th:only-of-type {\n",
       "        vertical-align: middle;\n",
       "    }\n",
       "\n",
       "    .dataframe tbody tr th {\n",
       "        vertical-align: top;\n",
       "    }\n",
       "\n",
       "    .dataframe thead th {\n",
       "        text-align: right;\n",
       "    }\n",
       "</style>\n",
       "<table border=\"1\" class=\"dataframe\">\n",
       "  <thead>\n",
       "    <tr style=\"text-align: right;\">\n",
       "      <th></th>\n",
       "      <th>project_id</th>\n",
       "      <th>bid_score</th>\n",
       "      <th>bid_sealed</th>\n",
       "      <th>bid_period</th>\n",
       "      <th>bid_quality</th>\n",
       "      <th>bid_communication</th>\n",
       "      <th>bid_professionalism</th>\n",
       "      <th>bid_award_status</th>\n",
       "      <th>project/bid_amount_proportion</th>\n",
       "      <th>bid_delay</th>\n",
       "      <th>same_words_title/bid_proportion</th>\n",
       "      <th>same_words_descr/bid_proportion</th>\n",
       "      <th>bid_descr_len</th>\n",
       "      <th>proj/bid_lens_proportion</th>\n",
       "      <th>bid_greetings</th>\n",
       "    </tr>\n",
       "  </thead>\n",
       "  <tbody>\n",
       "    <tr>\n",
       "      <th>0</th>\n",
       "      <td>34921562.0</td>\n",
       "      <td>0.716542</td>\n",
       "      <td>False</td>\n",
       "      <td>7.0</td>\n",
       "      <td>4.86209</td>\n",
       "      <td>4.931045</td>\n",
       "      <td>4.931045</td>\n",
       "      <td>False</td>\n",
       "      <td>16.666667</td>\n",
       "      <td>0.06688</td>\n",
       "      <td>0.333333</td>\n",
       "      <td>0.153846</td>\n",
       "      <td>191.0</td>\n",
       "      <td>2.850746</td>\n",
       "      <td>True</td>\n",
       "    </tr>\n",
       "  </tbody>\n",
       "</table>\n",
       "</div>\n",
       "    <div class=\"colab-df-buttons\">\n",
       "\n",
       "  <div class=\"colab-df-container\">\n",
       "    <button class=\"colab-df-convert\" onclick=\"convertToInteractive('df-586d0409-32d1-476f-a802-3aeca63d2b9c')\"\n",
       "            title=\"Convert this dataframe to an interactive table.\"\n",
       "            style=\"display:none;\">\n",
       "\n",
       "  <svg xmlns=\"http://www.w3.org/2000/svg\" height=\"24px\" viewBox=\"0 -960 960 960\">\n",
       "    <path d=\"M120-120v-720h720v720H120Zm60-500h600v-160H180v160Zm220 220h160v-160H400v160Zm0 220h160v-160H400v160ZM180-400h160v-160H180v160Zm440 0h160v-160H620v160ZM180-180h160v-160H180v160Zm440 0h160v-160H620v160Z\"/>\n",
       "  </svg>\n",
       "    </button>\n",
       "\n",
       "  <style>\n",
       "    .colab-df-container {\n",
       "      display:flex;\n",
       "      gap: 12px;\n",
       "    }\n",
       "\n",
       "    .colab-df-convert {\n",
       "      background-color: #E8F0FE;\n",
       "      border: none;\n",
       "      border-radius: 50%;\n",
       "      cursor: pointer;\n",
       "      display: none;\n",
       "      fill: #1967D2;\n",
       "      height: 32px;\n",
       "      padding: 0 0 0 0;\n",
       "      width: 32px;\n",
       "    }\n",
       "\n",
       "    .colab-df-convert:hover {\n",
       "      background-color: #E2EBFA;\n",
       "      box-shadow: 0px 1px 2px rgba(60, 64, 67, 0.3), 0px 1px 3px 1px rgba(60, 64, 67, 0.15);\n",
       "      fill: #174EA6;\n",
       "    }\n",
       "\n",
       "    .colab-df-buttons div {\n",
       "      margin-bottom: 4px;\n",
       "    }\n",
       "\n",
       "    [theme=dark] .colab-df-convert {\n",
       "      background-color: #3B4455;\n",
       "      fill: #D2E3FC;\n",
       "    }\n",
       "\n",
       "    [theme=dark] .colab-df-convert:hover {\n",
       "      background-color: #434B5C;\n",
       "      box-shadow: 0px 1px 3px 1px rgba(0, 0, 0, 0.15);\n",
       "      filter: drop-shadow(0px 1px 2px rgba(0, 0, 0, 0.3));\n",
       "      fill: #FFFFFF;\n",
       "    }\n",
       "  </style>\n",
       "\n",
       "    <script>\n",
       "      const buttonEl =\n",
       "        document.querySelector('#df-586d0409-32d1-476f-a802-3aeca63d2b9c button.colab-df-convert');\n",
       "      buttonEl.style.display =\n",
       "        google.colab.kernel.accessAllowed ? 'block' : 'none';\n",
       "\n",
       "      async function convertToInteractive(key) {\n",
       "        const element = document.querySelector('#df-586d0409-32d1-476f-a802-3aeca63d2b9c');\n",
       "        const dataTable =\n",
       "          await google.colab.kernel.invokeFunction('convertToInteractive',\n",
       "                                                    [key], {});\n",
       "        if (!dataTable) return;\n",
       "\n",
       "        const docLinkHtml = 'Like what you see? Visit the ' +\n",
       "          '<a target=\"_blank\" href=https://colab.research.google.com/notebooks/data_table.ipynb>data table notebook</a>'\n",
       "          + ' to learn more about interactive tables.';\n",
       "        element.innerHTML = '';\n",
       "        dataTable['output_type'] = 'display_data';\n",
       "        await google.colab.output.renderOutput(dataTable, element);\n",
       "        const docLink = document.createElement('div');\n",
       "        docLink.innerHTML = docLinkHtml;\n",
       "        element.appendChild(docLink);\n",
       "      }\n",
       "    </script>\n",
       "  </div>\n",
       "\n",
       "    </div>\n",
       "  </div>\n"
      ],
      "text/plain": [
       "   project_id  bid_score bid_sealed  bid_period  bid_quality  \\\n",
       "0  34921562.0   0.716542      False         7.0      4.86209   \n",
       "\n",
       "   bid_communication  bid_professionalism bid_award_status  \\\n",
       "0           4.931045             4.931045            False   \n",
       "\n",
       "   project/bid_amount_proportion  bid_delay  same_words_title/bid_proportion  \\\n",
       "0                      16.666667    0.06688                         0.333333   \n",
       "\n",
       "   same_words_descr/bid_proportion  bid_descr_len  proj/bid_lens_proportion  \\\n",
       "0                         0.153846          191.0                  2.850746   \n",
       "\n",
       "  bid_greetings  \n",
       "0          True  "
      ]
     },
     "execution_count": 185,
     "metadata": {},
     "output_type": "execute_result"
    }
   ],
   "source": [
    "utils.prepare_df(pd.DataFrame(columns=list(a.keys()), data=[list(a.values())]))"
   ]
  },
  {
   "cell_type": "code",
   "execution_count": null,
   "id": "aUhbc-kjcD6W",
   "metadata": {
    "colab": {
     "base_uri": "https://localhost:8080/",
     "height": 195
    },
    "executionInfo": {
     "elapsed": 10,
     "status": "ok",
     "timestamp": 1701842079632,
     "user": {
      "displayName": "English Molecule",
      "userId": "15680542099001298495"
     },
     "user_tz": -60
    },
    "id": "aUhbc-kjcD6W",
    "outputId": "38525e42-4d2d-4338-8223-030207f5e97b"
   },
   "outputs": [
    {
     "data": {
      "text/html": [
       "\n",
       "  <div id=\"df-44c7e457-d5bf-4473-8a90-27093bb1accc\" class=\"colab-df-container\">\n",
       "    <div>\n",
       "<style scoped>\n",
       "    .dataframe tbody tr th:only-of-type {\n",
       "        vertical-align: middle;\n",
       "    }\n",
       "\n",
       "    .dataframe tbody tr th {\n",
       "        vertical-align: top;\n",
       "    }\n",
       "\n",
       "    .dataframe thead th {\n",
       "        text-align: right;\n",
       "    }\n",
       "</style>\n",
       "<table border=\"1\" class=\"dataframe\">\n",
       "  <thead>\n",
       "    <tr style=\"text-align: right;\">\n",
       "      <th></th>\n",
       "      <th>project_id</th>\n",
       "      <th>bid_score</th>\n",
       "      <th>bid_sealed</th>\n",
       "      <th>bid_period</th>\n",
       "      <th>bid_quality</th>\n",
       "      <th>bid_communication</th>\n",
       "      <th>bid_professionalism</th>\n",
       "      <th>bid_award_status</th>\n",
       "      <th>project/bid_amount_proportion</th>\n",
       "      <th>bid_delay</th>\n",
       "      <th>same_words_title/bid_proportion</th>\n",
       "      <th>same_words_descr/bid_proportion</th>\n",
       "      <th>bid_descr_len</th>\n",
       "      <th>proj/bid_lens_proportion</th>\n",
       "      <th>bid_greetings</th>\n",
       "    </tr>\n",
       "  </thead>\n",
       "  <tbody>\n",
       "    <tr>\n",
       "      <th>0</th>\n",
       "      <td>34921562.0</td>\n",
       "      <td>0.716542</td>\n",
       "      <td>False</td>\n",
       "      <td>7.0</td>\n",
       "      <td>4.86209</td>\n",
       "      <td>4.931045</td>\n",
       "      <td>4.931045</td>\n",
       "      <td>False</td>\n",
       "      <td>6.666667</td>\n",
       "      <td>0.06688</td>\n",
       "      <td>0.25</td>\n",
       "      <td>0.346154</td>\n",
       "      <td>203.0</td>\n",
       "      <td>3.029851</td>\n",
       "      <td>True</td>\n",
       "    </tr>\n",
       "    <tr>\n",
       "      <th>0</th>\n",
       "      <td>34921562.0</td>\n",
       "      <td>0.716542</td>\n",
       "      <td>False</td>\n",
       "      <td>5.0</td>\n",
       "      <td>4.86209</td>\n",
       "      <td>4.931045</td>\n",
       "      <td>4.931045</td>\n",
       "      <td>False</td>\n",
       "      <td>6.666667</td>\n",
       "      <td>0.06688</td>\n",
       "      <td>0.25</td>\n",
       "      <td>0.384615</td>\n",
       "      <td>301.0</td>\n",
       "      <td>4.492537</td>\n",
       "      <td>True</td>\n",
       "    </tr>\n",
       "    <tr>\n",
       "      <th>0</th>\n",
       "      <td>34921562.0</td>\n",
       "      <td>0.716542</td>\n",
       "      <td>False</td>\n",
       "      <td>1.0</td>\n",
       "      <td>4.86209</td>\n",
       "      <td>4.931045</td>\n",
       "      <td>4.931045</td>\n",
       "      <td>False</td>\n",
       "      <td>6.666667</td>\n",
       "      <td>0.06688</td>\n",
       "      <td>0.25</td>\n",
       "      <td>0.403846</td>\n",
       "      <td>219.0</td>\n",
       "      <td>3.268657</td>\n",
       "      <td>True</td>\n",
       "    </tr>\n",
       "    <tr>\n",
       "      <th>0</th>\n",
       "      <td>34921562.0</td>\n",
       "      <td>0.716542</td>\n",
       "      <td>False</td>\n",
       "      <td>1.0</td>\n",
       "      <td>4.86209</td>\n",
       "      <td>4.931045</td>\n",
       "      <td>4.931045</td>\n",
       "      <td>False</td>\n",
       "      <td>6.000000</td>\n",
       "      <td>0.06688</td>\n",
       "      <td>0.25</td>\n",
       "      <td>0.326923</td>\n",
       "      <td>245.0</td>\n",
       "      <td>3.656716</td>\n",
       "      <td>True</td>\n",
       "    </tr>\n",
       "  </tbody>\n",
       "</table>\n",
       "</div>\n",
       "    <div class=\"colab-df-buttons\">\n",
       "\n",
       "  <div class=\"colab-df-container\">\n",
       "    <button class=\"colab-df-convert\" onclick=\"convertToInteractive('df-44c7e457-d5bf-4473-8a90-27093bb1accc')\"\n",
       "            title=\"Convert this dataframe to an interactive table.\"\n",
       "            style=\"display:none;\">\n",
       "\n",
       "  <svg xmlns=\"http://www.w3.org/2000/svg\" height=\"24px\" viewBox=\"0 -960 960 960\">\n",
       "    <path d=\"M120-120v-720h720v720H120Zm60-500h600v-160H180v160Zm220 220h160v-160H400v160Zm0 220h160v-160H400v160ZM180-400h160v-160H180v160Zm440 0h160v-160H620v160ZM180-180h160v-160H180v160Zm440 0h160v-160H620v160Z\"/>\n",
       "  </svg>\n",
       "    </button>\n",
       "\n",
       "  <style>\n",
       "    .colab-df-container {\n",
       "      display:flex;\n",
       "      gap: 12px;\n",
       "    }\n",
       "\n",
       "    .colab-df-convert {\n",
       "      background-color: #E8F0FE;\n",
       "      border: none;\n",
       "      border-radius: 50%;\n",
       "      cursor: pointer;\n",
       "      display: none;\n",
       "      fill: #1967D2;\n",
       "      height: 32px;\n",
       "      padding: 0 0 0 0;\n",
       "      width: 32px;\n",
       "    }\n",
       "\n",
       "    .colab-df-convert:hover {\n",
       "      background-color: #E2EBFA;\n",
       "      box-shadow: 0px 1px 2px rgba(60, 64, 67, 0.3), 0px 1px 3px 1px rgba(60, 64, 67, 0.15);\n",
       "      fill: #174EA6;\n",
       "    }\n",
       "\n",
       "    .colab-df-buttons div {\n",
       "      margin-bottom: 4px;\n",
       "    }\n",
       "\n",
       "    [theme=dark] .colab-df-convert {\n",
       "      background-color: #3B4455;\n",
       "      fill: #D2E3FC;\n",
       "    }\n",
       "\n",
       "    [theme=dark] .colab-df-convert:hover {\n",
       "      background-color: #434B5C;\n",
       "      box-shadow: 0px 1px 3px 1px rgba(0, 0, 0, 0.15);\n",
       "      filter: drop-shadow(0px 1px 2px rgba(0, 0, 0, 0.3));\n",
       "      fill: #FFFFFF;\n",
       "    }\n",
       "  </style>\n",
       "\n",
       "    <script>\n",
       "      const buttonEl =\n",
       "        document.querySelector('#df-44c7e457-d5bf-4473-8a90-27093bb1accc button.colab-df-convert');\n",
       "      buttonEl.style.display =\n",
       "        google.colab.kernel.accessAllowed ? 'block' : 'none';\n",
       "\n",
       "      async function convertToInteractive(key) {\n",
       "        const element = document.querySelector('#df-44c7e457-d5bf-4473-8a90-27093bb1accc');\n",
       "        const dataTable =\n",
       "          await google.colab.kernel.invokeFunction('convertToInteractive',\n",
       "                                                    [key], {});\n",
       "        if (!dataTable) return;\n",
       "\n",
       "        const docLinkHtml = 'Like what you see? Visit the ' +\n",
       "          '<a target=\"_blank\" href=https://colab.research.google.com/notebooks/data_table.ipynb>data table notebook</a>'\n",
       "          + ' to learn more about interactive tables.';\n",
       "        element.innerHTML = '';\n",
       "        dataTable['output_type'] = 'display_data';\n",
       "        await google.colab.output.renderOutput(dataTable, element);\n",
       "        const docLink = document.createElement('div');\n",
       "        docLink.innerHTML = docLinkHtml;\n",
       "        element.appendChild(docLink);\n",
       "      }\n",
       "    </script>\n",
       "  </div>\n",
       "\n",
       "\n",
       "<div id=\"df-2dc701d0-9237-4669-b777-9e75a8eb224b\">\n",
       "  <button class=\"colab-df-quickchart\" onclick=\"quickchart('df-2dc701d0-9237-4669-b777-9e75a8eb224b')\"\n",
       "            title=\"Suggest charts\"\n",
       "            style=\"display:none;\">\n",
       "\n",
       "<svg xmlns=\"http://www.w3.org/2000/svg\" height=\"24px\"viewBox=\"0 0 24 24\"\n",
       "     width=\"24px\">\n",
       "    <g>\n",
       "        <path d=\"M19 3H5c-1.1 0-2 .9-2 2v14c0 1.1.9 2 2 2h14c1.1 0 2-.9 2-2V5c0-1.1-.9-2-2-2zM9 17H7v-7h2v7zm4 0h-2V7h2v10zm4 0h-2v-4h2v4z\"/>\n",
       "    </g>\n",
       "</svg>\n",
       "  </button>\n",
       "\n",
       "<style>\n",
       "  .colab-df-quickchart {\n",
       "      --bg-color: #E8F0FE;\n",
       "      --fill-color: #1967D2;\n",
       "      --hover-bg-color: #E2EBFA;\n",
       "      --hover-fill-color: #174EA6;\n",
       "      --disabled-fill-color: #AAA;\n",
       "      --disabled-bg-color: #DDD;\n",
       "  }\n",
       "\n",
       "  [theme=dark] .colab-df-quickchart {\n",
       "      --bg-color: #3B4455;\n",
       "      --fill-color: #D2E3FC;\n",
       "      --hover-bg-color: #434B5C;\n",
       "      --hover-fill-color: #FFFFFF;\n",
       "      --disabled-bg-color: #3B4455;\n",
       "      --disabled-fill-color: #666;\n",
       "  }\n",
       "\n",
       "  .colab-df-quickchart {\n",
       "    background-color: var(--bg-color);\n",
       "    border: none;\n",
       "    border-radius: 50%;\n",
       "    cursor: pointer;\n",
       "    display: none;\n",
       "    fill: var(--fill-color);\n",
       "    height: 32px;\n",
       "    padding: 0;\n",
       "    width: 32px;\n",
       "  }\n",
       "\n",
       "  .colab-df-quickchart:hover {\n",
       "    background-color: var(--hover-bg-color);\n",
       "    box-shadow: 0 1px 2px rgba(60, 64, 67, 0.3), 0 1px 3px 1px rgba(60, 64, 67, 0.15);\n",
       "    fill: var(--button-hover-fill-color);\n",
       "  }\n",
       "\n",
       "  .colab-df-quickchart-complete:disabled,\n",
       "  .colab-df-quickchart-complete:disabled:hover {\n",
       "    background-color: var(--disabled-bg-color);\n",
       "    fill: var(--disabled-fill-color);\n",
       "    box-shadow: none;\n",
       "  }\n",
       "\n",
       "  .colab-df-spinner {\n",
       "    border: 2px solid var(--fill-color);\n",
       "    border-color: transparent;\n",
       "    border-bottom-color: var(--fill-color);\n",
       "    animation:\n",
       "      spin 1s steps(1) infinite;\n",
       "  }\n",
       "\n",
       "  @keyframes spin {\n",
       "    0% {\n",
       "      border-color: transparent;\n",
       "      border-bottom-color: var(--fill-color);\n",
       "      border-left-color: var(--fill-color);\n",
       "    }\n",
       "    20% {\n",
       "      border-color: transparent;\n",
       "      border-left-color: var(--fill-color);\n",
       "      border-top-color: var(--fill-color);\n",
       "    }\n",
       "    30% {\n",
       "      border-color: transparent;\n",
       "      border-left-color: var(--fill-color);\n",
       "      border-top-color: var(--fill-color);\n",
       "      border-right-color: var(--fill-color);\n",
       "    }\n",
       "    40% {\n",
       "      border-color: transparent;\n",
       "      border-right-color: var(--fill-color);\n",
       "      border-top-color: var(--fill-color);\n",
       "    }\n",
       "    60% {\n",
       "      border-color: transparent;\n",
       "      border-right-color: var(--fill-color);\n",
       "    }\n",
       "    80% {\n",
       "      border-color: transparent;\n",
       "      border-right-color: var(--fill-color);\n",
       "      border-bottom-color: var(--fill-color);\n",
       "    }\n",
       "    90% {\n",
       "      border-color: transparent;\n",
       "      border-bottom-color: var(--fill-color);\n",
       "    }\n",
       "  }\n",
       "</style>\n",
       "\n",
       "  <script>\n",
       "    async function quickchart(key) {\n",
       "      const quickchartButtonEl =\n",
       "        document.querySelector('#' + key + ' button');\n",
       "      quickchartButtonEl.disabled = true;  // To prevent multiple clicks.\n",
       "      quickchartButtonEl.classList.add('colab-df-spinner');\n",
       "      try {\n",
       "        const charts = await google.colab.kernel.invokeFunction(\n",
       "            'suggestCharts', [key], {});\n",
       "      } catch (error) {\n",
       "        console.error('Error during call to suggestCharts:', error);\n",
       "      }\n",
       "      quickchartButtonEl.classList.remove('colab-df-spinner');\n",
       "      quickchartButtonEl.classList.add('colab-df-quickchart-complete');\n",
       "    }\n",
       "    (() => {\n",
       "      let quickchartButtonEl =\n",
       "        document.querySelector('#df-2dc701d0-9237-4669-b777-9e75a8eb224b button');\n",
       "      quickchartButtonEl.style.display =\n",
       "        google.colab.kernel.accessAllowed ? 'block' : 'none';\n",
       "    })();\n",
       "  </script>\n",
       "</div>\n",
       "    </div>\n",
       "  </div>\n"
      ],
      "text/plain": [
       "   project_id  bid_score bid_sealed  bid_period  bid_quality  \\\n",
       "0  34921562.0   0.716542      False         7.0      4.86209   \n",
       "0  34921562.0   0.716542      False         5.0      4.86209   \n",
       "0  34921562.0   0.716542      False         1.0      4.86209   \n",
       "0  34921562.0   0.716542      False         1.0      4.86209   \n",
       "\n",
       "   bid_communication  bid_professionalism bid_award_status  \\\n",
       "0           4.931045             4.931045            False   \n",
       "0           4.931045             4.931045            False   \n",
       "0           4.931045             4.931045            False   \n",
       "0           4.931045             4.931045            False   \n",
       "\n",
       "   project/bid_amount_proportion  bid_delay  same_words_title/bid_proportion  \\\n",
       "0                       6.666667    0.06688                             0.25   \n",
       "0                       6.666667    0.06688                             0.25   \n",
       "0                       6.666667    0.06688                             0.25   \n",
       "0                       6.000000    0.06688                             0.25   \n",
       "\n",
       "   same_words_descr/bid_proportion  bid_descr_len  proj/bid_lens_proportion  \\\n",
       "0                         0.346154          203.0                  3.029851   \n",
       "0                         0.384615          301.0                  4.492537   \n",
       "0                         0.403846          219.0                  3.268657   \n",
       "0                         0.326923          245.0                  3.656716   \n",
       "\n",
       "  bid_greetings  \n",
       "0          True  \n",
       "0          True  \n",
       "0          True  \n",
       "0          True  "
      ]
     },
     "execution_count": 186,
     "metadata": {},
     "output_type": "execute_result"
    }
   ],
   "source": [
    "bids = [generate_bid(best_bid.copy(), bid_text) for bid_text in bids_texts]\n",
    "\n",
    "pd.concat(bids)"
   ]
  },
  {
   "cell_type": "code",
   "execution_count": null,
   "id": "i8aaTDD9gXyB",
   "metadata": {
    "colab": {
     "base_uri": "https://localhost:8080/"
    },
    "executionInfo": {
     "elapsed": 598,
     "status": "ok",
     "timestamp": 1701842083927,
     "user": {
      "displayName": "English Molecule",
      "userId": "15680542099001298495"
     },
     "user_tz": -60
    },
    "id": "i8aaTDD9gXyB",
    "outputId": "62a65ef2-2e10-47f8-f398-e36da5c299ba"
   },
   "outputs": [
    {
     "name": "stdout",
     "output_type": "stream",
     "text": [
      "Best: I have read project requirements. I am managing director of software company and I have team for development so we can complete it perfectly. I am from India GMT +5:30 and I am available from 8:00 AM to 11:00 PM. \n",
      "\n",
      "We have 11+ years of experience in software development. We have developed 400+ projects and the research paper in the field of Machine Learning, Artificial Intelligence and Image processing (GIS), Network, SEO based Web and mobile apps.\n",
      "\n",
      "We have successfully completed the project of phishing detection, Spam mail filter, shortest path, HMM, Encryption decryption, Face detection, UML Diagram, OCR, Big data, data mining, data analysis, Statistics, Trading, Text, Natural Language Processing (NLP), Image, multiclass classification using WEKA, Azure ML, Tensorflow, R Programming, OpenCV, Matlab, Hadoop, Artificial Intelligence program using PROLOG, Robotics software, TCP-UDP Networking project, cloud computing, etc.\n",
      "\n",
      "View my last projects based on Data Mining, Machine Learning, Artificial Intelligence, python, java and I can complete your project perfectly.\n",
      "www.freelancer.com/u/vorasiddh4it#/reviews\n",
      "\n",
      "Please, drop the message and attach any other required documents.\n",
      "Visit us: www.zplussoft.com\n",
      "\n",
      "Note: Project with QA, testing, comments in the code, so it's easy to understand the flow of Project.\n",
      "\n",
      "Generated:  \n",
      "\n",
      "Thank you for considering me for this project. I propose using a deep learning-based approach to solve your problem of face detection, face attribute recognition (such as hairstyle obscuring the face), gender classification, and age estimation for ID card images.\n",
      "\n",
      "To achieve this, I will use state-of-the-art deep learning models such as Convolutional Neural Networks (CNN) and pre-trained models such as VGGFace or OpenFace. These models have been trained on large-scale face datasets and have shown excellent performance in face recognition tasks.\n",
      "\n",
      "Here is how the project will be executed:\n",
      "\n",
      "1. Data Collection: I will need a sufficient amount of labeled data to train the models. If you don't have a dataset, I can assist in finding relevant publicly available datasets or help you in collecting labeled data specifically for your task.\n",
      "\n",
      "2. Model Training: I will train a custom deep learning model using the collected dataset. The model will be able to detect faces, flag obscuring attributes, classify gender, and estimate age.\n",
      "\n",
      "3. Model Evaluation and Fine-tuning: The model will be evaluated on a test set to measure its performance. If necessary, I will fine-tune the model to improve its accuracy on your specific requirements.\n",
      "\n",
      "4. Model Deployment: Once the model meets your desired performance, I will deploy it to an application or system of your choice, ensuring seamless integration and ease of use.\n",
      "\n",
      "5. Documentation and Support: I will provide detailed documentation on how to use the model and provide ongoing support in case of any issues or updates.\n",
      "\n",
      "I am confident that with my knowledge of deep learning and experience in computer vision, I can deliver a high-quality solution to your project requirements within 5 days for a total cost of $200.\n",
      "\n",
      "Thank you for considering my proposal. I look forward to working with you on this project.\n"
     ]
    }
   ],
   "source": [
    "print('Best:', best_bid['bid_description']), print()\n",
    "print('Generated:', bids_texts[1].split('Description:')[1])"
   ]
  },
  {
   "cell_type": "code",
   "execution_count": null,
   "id": "Sf7coCExgzHQ",
   "metadata": {
    "colab": {
     "base_uri": "https://localhost:8080/"
    },
    "executionInfo": {
     "elapsed": 8016,
     "status": "ok",
     "timestamp": 1701842098670,
     "user": {
      "displayName": "English Molecule",
      "userId": "15680542099001298495"
     },
     "user_tz": -60
    },
    "id": "Sf7coCExgzHQ",
    "outputId": "402529d0-f35b-4015-9a7e-9a13925b8483"
   },
   "outputs": [
    {
     "name": "stdout",
     "output_type": "stream",
     "text": [
      " I propose to develop a deep learning-based face detection model that can accurately recognize faces and identify any obstructions or features that hide the face, such as hair falling on the face or half of the face being hidden. The model will also be able to detect gender and estimate age if applicable. This solution will ensure clear and accurate face recognition for ID card or similar applications.\n"
     ]
    }
   ],
   "source": [
    "system_content = (\"You are a freelancer which specializes in machine learning.\"\n",
    "                  \"You have an understanding of the field, because you have learnt a lot, \"\n",
    "                  \"but you haven't done anything important in this field.\"\n",
    "                  \"You work on freelancer.com and you want to be adwarded for this project.\"\n",
    "                  \"Try to asnwwer as short as possible with the key idea is to show that you know your work. \"\n",
    "                  \"You need to answer by such template: Period of work: [number] days;\"\n",
    "                  \" Price of work: $[price]; Description: Hi, How are you? [your proposition]\")\n",
    "\n",
    "bid_text = get_bid_text(project)\n",
    "print(bid_text.split('Description:')[1])"
   ]
  },
  {
   "cell_type": "code",
   "execution_count": null,
   "id": "UWyrS8LIhlhJ",
   "metadata": {
    "colab": {
     "base_uri": "https://localhost:8080/"
    },
    "executionInfo": {
     "elapsed": 140125,
     "status": "ok",
     "timestamp": 1701842518533,
     "user": {
      "displayName": "English Molecule",
      "userId": "15680542099001298495"
     },
     "user_tz": -60
    },
    "id": "UWyrS8LIhlhJ",
    "outputId": "396fc607-803f-4eac-a703-116c33508825"
   },
   "outputs": [
    {
     "name": "stdout",
     "output_type": "stream",
     "text": [
      "Probs of others bids:  [51.87858   41.10864   28.588327   2.165873   1.8875086]\n",
      "Probs of not sealed bids:  [51.87858   28.588327   2.165873   1.8875086]\n",
      "Probability to be awarded: [75.78434  28.293873 74.341095 72.08464 ]\n",
      "\n",
      "Probs of others bids:  [79.80187  61.897533 61.03295  48.116093 43.186153]\n",
      "Probs of not sealed bids:  [79.80187  61.03295  48.116093 43.186153 34.525463]\n",
      "Probability to be awarded: [38.074306 34.116257  8.112202 24.127914]\n",
      "\n",
      "Probs of others bids:  [67.496185 60.937263 57.340992 50.575966 34.09354 ]\n",
      "Probs of not sealed bids:  [60.937263 57.340992 50.575966 34.09354  20.058397]\n",
      "Probability to be awarded: [0.00170735 0.12004651 0.9113481  0.5526526 ]\n",
      "\n",
      "Probs of others bids:  [91.081924 84.379    79.062294 77.6719   45.41154 ]\n",
      "Probs of not sealed bids:  [45.411533 30.184332 29.500536 19.140097 13.9881  ]\n",
      "Probability to be awarded: [84.71293  84.72614  20.14876  57.897823]\n",
      "\n",
      "Probs of others bids:  [95.234886 84.021774 74.16191  59.424877 56.983864]\n",
      "Probs of not sealed bids:  [95.234886 84.02178  74.16191  59.42487  56.983864]\n",
      "Probability to be awarded: [10.382098 10.16118  19.847158 50.690968]\n",
      "\n"
     ]
    }
   ],
   "source": [
    "# variables for future analyze\n",
    "best_properties = {elem: {} for elem in ['predicted', 'labeled']}\n",
    "iterations = {}\n",
    "\n",
    "n = 3\n",
    "for i in range(5):\n",
    "\n",
    "    iteration_env = {}\n",
    "\n",
    "    project = get_random_project().reset_index(drop=True)\n",
    "    df_project = utils.prepare_df(project)\n",
    "\n",
    "    best_index = np.where(project['bid_award_status'])[0][0]\n",
    "    for col in df_project.columns:\n",
    "        if col in ['project_id', 'bid_award_status']: continue\n",
    "\n",
    "        if not best_properties.get(col, False):\n",
    "            best_properties['labeled'][col] = 0\n",
    "\n",
    "        best_properties['labeled'][col] += df_project.iloc[best_index][col]\n",
    "\n",
    "    iteration_env['project'] = project\n",
    "\n",
    "    probs = predict_bids_probs(prepare_data(project)) * 100\n",
    "    probs_descending = np.argsort(probs)[::-1]\n",
    "\n",
    "    print('Probs of others bids: ', probs[probs_descending[:5]])\n",
    "    iteration_env['project_probs'] = probs\n",
    "\n",
    "    project_without_sealed_bids = project.drop(np.where(project['bid_sealed'])[0])\n",
    "\n",
    "    probs = predict_bids_probs(prepare_data(project_without_sealed_bids)) * 100\n",
    "    probs_descending = np.argsort(probs)[::-1]\n",
    "\n",
    "    print('Probs of not sealed bids: ', probs[probs_descending[:5]])\n",
    "    iteration_env['project_without_sealed'] = project_without_sealed_bids\n",
    "    iteration_env['project_without_sealed_probs'] = probs\n",
    "\n",
    "    index = np.argmax(probs)\n",
    "\n",
    "    for col in df_project.columns:\n",
    "        if not best_properties.get(col, False):\n",
    "            best_properties['predicted'][col] = 0\n",
    "\n",
    "        best_properties['predicted'][col] += df_project.iloc[index][col]\n",
    "\n",
    "    bids_texts = [get_bid_text(project) for i in range(4)]\n",
    "\n",
    "    probs,bids = predict_generated_bids_probs(project.iloc[index].copy(),\n",
    "                                              bids_texts)\n",
    "    print(f'Probability to be awarded: {probs* 100}')\n",
    "    iteration_env['bids_texts'] = bids_texts\n",
    "    iteration_env['generated_bids_probs'] = probs\n",
    "\n",
    "    iteration_env['best_bid'] = project.iloc[index]\n",
    "\n",
    "    print()\n",
    "\n",
    "    # saving\n",
    "    iterations[df_project.iloc[best_index]['project_id']] = iteration_env"
   ]
  },
  {
   "cell_type": "code",
   "execution_count": null,
   "id": "brhjHLeGh5mN",
   "metadata": {
    "id": "brhjHLeGh5mN"
   },
   "outputs": [],
   "source": [
    "first_iteration = iterations[list(iterations.keys())[3]] # 3rd\n",
    "project = first_iteration['project']\n",
    "project_without_sealed_bids = first_iteration['project_without_sealed']\n",
    "\n",
    "probs = predict_bids_probs(prepare_data(project_without_sealed_bids)) * 100\n",
    "probs_descending = np.argsort(probs)[::-1]\n",
    "\n",
    "index = np.argmax(probs)"
   ]
  },
  {
   "cell_type": "code",
   "execution_count": null,
   "id": "EsDmGqMHh16X",
   "metadata": {
    "id": "EsDmGqMHh16X"
   },
   "outputs": [],
   "source": [
    "best_bid = project.iloc[index].copy()\n",
    "a = best_bid.to_dict()"
   ]
  },
  {
   "cell_type": "code",
   "execution_count": null,
   "id": "9n4RmNkMh16k",
   "metadata": {
    "colab": {
     "base_uri": "https://localhost:8080/",
     "height": 101
    },
    "executionInfo": {
     "elapsed": 10,
     "status": "ok",
     "timestamp": 1701843023909,
     "user": {
      "displayName": "English Molecule",
      "userId": "15680542099001298495"
     },
     "user_tz": -60
    },
    "id": "9n4RmNkMh16k",
    "outputId": "3dc713bc-1774-4a07-f3a3-64328c2aae3d"
   },
   "outputs": [
    {
     "data": {
      "text/html": [
       "\n",
       "  <div id=\"df-e61504a1-0e7e-4b25-97c9-61662931a3ac\" class=\"colab-df-container\">\n",
       "    <div>\n",
       "<style scoped>\n",
       "    .dataframe tbody tr th:only-of-type {\n",
       "        vertical-align: middle;\n",
       "    }\n",
       "\n",
       "    .dataframe tbody tr th {\n",
       "        vertical-align: top;\n",
       "    }\n",
       "\n",
       "    .dataframe thead th {\n",
       "        text-align: right;\n",
       "    }\n",
       "</style>\n",
       "<table border=\"1\" class=\"dataframe\">\n",
       "  <thead>\n",
       "    <tr style=\"text-align: right;\">\n",
       "      <th></th>\n",
       "      <th>project_id</th>\n",
       "      <th>bid_score</th>\n",
       "      <th>bid_sealed</th>\n",
       "      <th>bid_period</th>\n",
       "      <th>bid_quality</th>\n",
       "      <th>bid_communication</th>\n",
       "      <th>bid_professionalism</th>\n",
       "      <th>bid_award_status</th>\n",
       "      <th>project/bid_amount_proportion</th>\n",
       "      <th>bid_delay</th>\n",
       "      <th>same_words_title/bid_proportion</th>\n",
       "      <th>same_words_descr/bid_proportion</th>\n",
       "      <th>bid_descr_len</th>\n",
       "      <th>proj/bid_lens_proportion</th>\n",
       "      <th>bid_greetings</th>\n",
       "    </tr>\n",
       "  </thead>\n",
       "  <tbody>\n",
       "    <tr>\n",
       "      <th>0</th>\n",
       "      <td>34192365.0</td>\n",
       "      <td>0.72024</td>\n",
       "      <td>False</td>\n",
       "      <td>7.0</td>\n",
       "      <td>5.0</td>\n",
       "      <td>5.0</td>\n",
       "      <td>5.0</td>\n",
       "      <td>False</td>\n",
       "      <td>1.333333</td>\n",
       "      <td>0.00006</td>\n",
       "      <td>0.25</td>\n",
       "      <td>0.264706</td>\n",
       "      <td>89.0</td>\n",
       "      <td>2.282051</td>\n",
       "      <td>True</td>\n",
       "    </tr>\n",
       "  </tbody>\n",
       "</table>\n",
       "</div>\n",
       "    <div class=\"colab-df-buttons\">\n",
       "\n",
       "  <div class=\"colab-df-container\">\n",
       "    <button class=\"colab-df-convert\" onclick=\"convertToInteractive('df-e61504a1-0e7e-4b25-97c9-61662931a3ac')\"\n",
       "            title=\"Convert this dataframe to an interactive table.\"\n",
       "            style=\"display:none;\">\n",
       "\n",
       "  <svg xmlns=\"http://www.w3.org/2000/svg\" height=\"24px\" viewBox=\"0 -960 960 960\">\n",
       "    <path d=\"M120-120v-720h720v720H120Zm60-500h600v-160H180v160Zm220 220h160v-160H400v160Zm0 220h160v-160H400v160ZM180-400h160v-160H180v160Zm440 0h160v-160H620v160ZM180-180h160v-160H180v160Zm440 0h160v-160H620v160Z\"/>\n",
       "  </svg>\n",
       "    </button>\n",
       "\n",
       "  <style>\n",
       "    .colab-df-container {\n",
       "      display:flex;\n",
       "      gap: 12px;\n",
       "    }\n",
       "\n",
       "    .colab-df-convert {\n",
       "      background-color: #E8F0FE;\n",
       "      border: none;\n",
       "      border-radius: 50%;\n",
       "      cursor: pointer;\n",
       "      display: none;\n",
       "      fill: #1967D2;\n",
       "      height: 32px;\n",
       "      padding: 0 0 0 0;\n",
       "      width: 32px;\n",
       "    }\n",
       "\n",
       "    .colab-df-convert:hover {\n",
       "      background-color: #E2EBFA;\n",
       "      box-shadow: 0px 1px 2px rgba(60, 64, 67, 0.3), 0px 1px 3px 1px rgba(60, 64, 67, 0.15);\n",
       "      fill: #174EA6;\n",
       "    }\n",
       "\n",
       "    .colab-df-buttons div {\n",
       "      margin-bottom: 4px;\n",
       "    }\n",
       "\n",
       "    [theme=dark] .colab-df-convert {\n",
       "      background-color: #3B4455;\n",
       "      fill: #D2E3FC;\n",
       "    }\n",
       "\n",
       "    [theme=dark] .colab-df-convert:hover {\n",
       "      background-color: #434B5C;\n",
       "      box-shadow: 0px 1px 3px 1px rgba(0, 0, 0, 0.15);\n",
       "      filter: drop-shadow(0px 1px 2px rgba(0, 0, 0, 0.3));\n",
       "      fill: #FFFFFF;\n",
       "    }\n",
       "  </style>\n",
       "\n",
       "    <script>\n",
       "      const buttonEl =\n",
       "        document.querySelector('#df-e61504a1-0e7e-4b25-97c9-61662931a3ac button.colab-df-convert');\n",
       "      buttonEl.style.display =\n",
       "        google.colab.kernel.accessAllowed ? 'block' : 'none';\n",
       "\n",
       "      async function convertToInteractive(key) {\n",
       "        const element = document.querySelector('#df-e61504a1-0e7e-4b25-97c9-61662931a3ac');\n",
       "        const dataTable =\n",
       "          await google.colab.kernel.invokeFunction('convertToInteractive',\n",
       "                                                    [key], {});\n",
       "        if (!dataTable) return;\n",
       "\n",
       "        const docLinkHtml = 'Like what you see? Visit the ' +\n",
       "          '<a target=\"_blank\" href=https://colab.research.google.com/notebooks/data_table.ipynb>data table notebook</a>'\n",
       "          + ' to learn more about interactive tables.';\n",
       "        element.innerHTML = '';\n",
       "        dataTable['output_type'] = 'display_data';\n",
       "        await google.colab.output.renderOutput(dataTable, element);\n",
       "        const docLink = document.createElement('div');\n",
       "        docLink.innerHTML = docLinkHtml;\n",
       "        element.appendChild(docLink);\n",
       "      }\n",
       "    </script>\n",
       "  </div>\n",
       "\n",
       "    </div>\n",
       "  </div>\n"
      ],
      "text/plain": [
       "   project_id  bid_score bid_sealed  bid_period  bid_quality  \\\n",
       "0  34192365.0    0.72024      False         7.0          5.0   \n",
       "\n",
       "   bid_communication  bid_professionalism bid_award_status  \\\n",
       "0                5.0                  5.0            False   \n",
       "\n",
       "   project/bid_amount_proportion  bid_delay  same_words_title/bid_proportion  \\\n",
       "0                       1.333333    0.00006                             0.25   \n",
       "\n",
       "   same_words_descr/bid_proportion  bid_descr_len  proj/bid_lens_proportion  \\\n",
       "0                         0.264706           89.0                  2.282051   \n",
       "\n",
       "  bid_greetings  \n",
       "0          True  "
      ]
     },
     "execution_count": 200,
     "metadata": {},
     "output_type": "execute_result"
    }
   ],
   "source": [
    "utils.prepare_df(pd.DataFrame(columns=list(a.keys()), data=[list(a.values())]))"
   ]
  },
  {
   "cell_type": "code",
   "execution_count": null,
   "id": "tA34Hym3h16l",
   "metadata": {
    "colab": {
     "base_uri": "https://localhost:8080/",
     "height": 195
    },
    "executionInfo": {
     "elapsed": 283,
     "status": "ok",
     "timestamp": 1701843025482,
     "user": {
      "displayName": "English Molecule",
      "userId": "15680542099001298495"
     },
     "user_tz": -60
    },
    "id": "tA34Hym3h16l",
    "outputId": "7b376861-6c28-4889-e5f9-2aeaee63baa9"
   },
   "outputs": [
    {
     "data": {
      "text/html": [
       "\n",
       "  <div id=\"df-304e2066-a516-4389-b6d2-d68921d0f0f4\" class=\"colab-df-container\">\n",
       "    <div>\n",
       "<style scoped>\n",
       "    .dataframe tbody tr th:only-of-type {\n",
       "        vertical-align: middle;\n",
       "    }\n",
       "\n",
       "    .dataframe tbody tr th {\n",
       "        vertical-align: top;\n",
       "    }\n",
       "\n",
       "    .dataframe thead th {\n",
       "        text-align: right;\n",
       "    }\n",
       "</style>\n",
       "<table border=\"1\" class=\"dataframe\">\n",
       "  <thead>\n",
       "    <tr style=\"text-align: right;\">\n",
       "      <th></th>\n",
       "      <th>project_id</th>\n",
       "      <th>bid_score</th>\n",
       "      <th>bid_sealed</th>\n",
       "      <th>bid_period</th>\n",
       "      <th>bid_quality</th>\n",
       "      <th>bid_communication</th>\n",
       "      <th>bid_professionalism</th>\n",
       "      <th>bid_award_status</th>\n",
       "      <th>project/bid_amount_proportion</th>\n",
       "      <th>bid_delay</th>\n",
       "      <th>same_words_title/bid_proportion</th>\n",
       "      <th>same_words_descr/bid_proportion</th>\n",
       "      <th>bid_descr_len</th>\n",
       "      <th>proj/bid_lens_proportion</th>\n",
       "      <th>bid_greetings</th>\n",
       "    </tr>\n",
       "  </thead>\n",
       "  <tbody>\n",
       "    <tr>\n",
       "      <th>0</th>\n",
       "      <td>34192365.0</td>\n",
       "      <td>0.72024</td>\n",
       "      <td>False</td>\n",
       "      <td>1.0</td>\n",
       "      <td>5.0</td>\n",
       "      <td>5.0</td>\n",
       "      <td>5.0</td>\n",
       "      <td>False</td>\n",
       "      <td>6.666667</td>\n",
       "      <td>0.00006</td>\n",
       "      <td>0.375</td>\n",
       "      <td>0.500000</td>\n",
       "      <td>40.0</td>\n",
       "      <td>1.025641</td>\n",
       "      <td>False</td>\n",
       "    </tr>\n",
       "    <tr>\n",
       "      <th>0</th>\n",
       "      <td>34192365.0</td>\n",
       "      <td>0.72024</td>\n",
       "      <td>False</td>\n",
       "      <td>1.0</td>\n",
       "      <td>5.0</td>\n",
       "      <td>5.0</td>\n",
       "      <td>5.0</td>\n",
       "      <td>False</td>\n",
       "      <td>6.666667</td>\n",
       "      <td>0.00006</td>\n",
       "      <td>0.375</td>\n",
       "      <td>0.588235</td>\n",
       "      <td>53.0</td>\n",
       "      <td>1.358974</td>\n",
       "      <td>False</td>\n",
       "    </tr>\n",
       "    <tr>\n",
       "      <th>0</th>\n",
       "      <td>34192365.0</td>\n",
       "      <td>0.72024</td>\n",
       "      <td>False</td>\n",
       "      <td>7.0</td>\n",
       "      <td>5.0</td>\n",
       "      <td>5.0</td>\n",
       "      <td>5.0</td>\n",
       "      <td>False</td>\n",
       "      <td>5.000000</td>\n",
       "      <td>0.00006</td>\n",
       "      <td>0.250</td>\n",
       "      <td>0.294118</td>\n",
       "      <td>78.0</td>\n",
       "      <td>2.000000</td>\n",
       "      <td>False</td>\n",
       "    </tr>\n",
       "    <tr>\n",
       "      <th>0</th>\n",
       "      <td>34192365.0</td>\n",
       "      <td>0.72024</td>\n",
       "      <td>False</td>\n",
       "      <td>1.0</td>\n",
       "      <td>5.0</td>\n",
       "      <td>5.0</td>\n",
       "      <td>5.0</td>\n",
       "      <td>False</td>\n",
       "      <td>6.666667</td>\n",
       "      <td>0.00006</td>\n",
       "      <td>0.500</td>\n",
       "      <td>0.529412</td>\n",
       "      <td>48.0</td>\n",
       "      <td>1.230769</td>\n",
       "      <td>True</td>\n",
       "    </tr>\n",
       "  </tbody>\n",
       "</table>\n",
       "</div>\n",
       "    <div class=\"colab-df-buttons\">\n",
       "\n",
       "  <div class=\"colab-df-container\">\n",
       "    <button class=\"colab-df-convert\" onclick=\"convertToInteractive('df-304e2066-a516-4389-b6d2-d68921d0f0f4')\"\n",
       "            title=\"Convert this dataframe to an interactive table.\"\n",
       "            style=\"display:none;\">\n",
       "\n",
       "  <svg xmlns=\"http://www.w3.org/2000/svg\" height=\"24px\" viewBox=\"0 -960 960 960\">\n",
       "    <path d=\"M120-120v-720h720v720H120Zm60-500h600v-160H180v160Zm220 220h160v-160H400v160Zm0 220h160v-160H400v160ZM180-400h160v-160H180v160Zm440 0h160v-160H620v160ZM180-180h160v-160H180v160Zm440 0h160v-160H620v160Z\"/>\n",
       "  </svg>\n",
       "    </button>\n",
       "\n",
       "  <style>\n",
       "    .colab-df-container {\n",
       "      display:flex;\n",
       "      gap: 12px;\n",
       "    }\n",
       "\n",
       "    .colab-df-convert {\n",
       "      background-color: #E8F0FE;\n",
       "      border: none;\n",
       "      border-radius: 50%;\n",
       "      cursor: pointer;\n",
       "      display: none;\n",
       "      fill: #1967D2;\n",
       "      height: 32px;\n",
       "      padding: 0 0 0 0;\n",
       "      width: 32px;\n",
       "    }\n",
       "\n",
       "    .colab-df-convert:hover {\n",
       "      background-color: #E2EBFA;\n",
       "      box-shadow: 0px 1px 2px rgba(60, 64, 67, 0.3), 0px 1px 3px 1px rgba(60, 64, 67, 0.15);\n",
       "      fill: #174EA6;\n",
       "    }\n",
       "\n",
       "    .colab-df-buttons div {\n",
       "      margin-bottom: 4px;\n",
       "    }\n",
       "\n",
       "    [theme=dark] .colab-df-convert {\n",
       "      background-color: #3B4455;\n",
       "      fill: #D2E3FC;\n",
       "    }\n",
       "\n",
       "    [theme=dark] .colab-df-convert:hover {\n",
       "      background-color: #434B5C;\n",
       "      box-shadow: 0px 1px 3px 1px rgba(0, 0, 0, 0.15);\n",
       "      filter: drop-shadow(0px 1px 2px rgba(0, 0, 0, 0.3));\n",
       "      fill: #FFFFFF;\n",
       "    }\n",
       "  </style>\n",
       "\n",
       "    <script>\n",
       "      const buttonEl =\n",
       "        document.querySelector('#df-304e2066-a516-4389-b6d2-d68921d0f0f4 button.colab-df-convert');\n",
       "      buttonEl.style.display =\n",
       "        google.colab.kernel.accessAllowed ? 'block' : 'none';\n",
       "\n",
       "      async function convertToInteractive(key) {\n",
       "        const element = document.querySelector('#df-304e2066-a516-4389-b6d2-d68921d0f0f4');\n",
       "        const dataTable =\n",
       "          await google.colab.kernel.invokeFunction('convertToInteractive',\n",
       "                                                    [key], {});\n",
       "        if (!dataTable) return;\n",
       "\n",
       "        const docLinkHtml = 'Like what you see? Visit the ' +\n",
       "          '<a target=\"_blank\" href=https://colab.research.google.com/notebooks/data_table.ipynb>data table notebook</a>'\n",
       "          + ' to learn more about interactive tables.';\n",
       "        element.innerHTML = '';\n",
       "        dataTable['output_type'] = 'display_data';\n",
       "        await google.colab.output.renderOutput(dataTable, element);\n",
       "        const docLink = document.createElement('div');\n",
       "        docLink.innerHTML = docLinkHtml;\n",
       "        element.appendChild(docLink);\n",
       "      }\n",
       "    </script>\n",
       "  </div>\n",
       "\n",
       "\n",
       "<div id=\"df-b85b66db-b001-4208-a7e6-ab308e2da85e\">\n",
       "  <button class=\"colab-df-quickchart\" onclick=\"quickchart('df-b85b66db-b001-4208-a7e6-ab308e2da85e')\"\n",
       "            title=\"Suggest charts\"\n",
       "            style=\"display:none;\">\n",
       "\n",
       "<svg xmlns=\"http://www.w3.org/2000/svg\" height=\"24px\"viewBox=\"0 0 24 24\"\n",
       "     width=\"24px\">\n",
       "    <g>\n",
       "        <path d=\"M19 3H5c-1.1 0-2 .9-2 2v14c0 1.1.9 2 2 2h14c1.1 0 2-.9 2-2V5c0-1.1-.9-2-2-2zM9 17H7v-7h2v7zm4 0h-2V7h2v10zm4 0h-2v-4h2v4z\"/>\n",
       "    </g>\n",
       "</svg>\n",
       "  </button>\n",
       "\n",
       "<style>\n",
       "  .colab-df-quickchart {\n",
       "      --bg-color: #E8F0FE;\n",
       "      --fill-color: #1967D2;\n",
       "      --hover-bg-color: #E2EBFA;\n",
       "      --hover-fill-color: #174EA6;\n",
       "      --disabled-fill-color: #AAA;\n",
       "      --disabled-bg-color: #DDD;\n",
       "  }\n",
       "\n",
       "  [theme=dark] .colab-df-quickchart {\n",
       "      --bg-color: #3B4455;\n",
       "      --fill-color: #D2E3FC;\n",
       "      --hover-bg-color: #434B5C;\n",
       "      --hover-fill-color: #FFFFFF;\n",
       "      --disabled-bg-color: #3B4455;\n",
       "      --disabled-fill-color: #666;\n",
       "  }\n",
       "\n",
       "  .colab-df-quickchart {\n",
       "    background-color: var(--bg-color);\n",
       "    border: none;\n",
       "    border-radius: 50%;\n",
       "    cursor: pointer;\n",
       "    display: none;\n",
       "    fill: var(--fill-color);\n",
       "    height: 32px;\n",
       "    padding: 0;\n",
       "    width: 32px;\n",
       "  }\n",
       "\n",
       "  .colab-df-quickchart:hover {\n",
       "    background-color: var(--hover-bg-color);\n",
       "    box-shadow: 0 1px 2px rgba(60, 64, 67, 0.3), 0 1px 3px 1px rgba(60, 64, 67, 0.15);\n",
       "    fill: var(--button-hover-fill-color);\n",
       "  }\n",
       "\n",
       "  .colab-df-quickchart-complete:disabled,\n",
       "  .colab-df-quickchart-complete:disabled:hover {\n",
       "    background-color: var(--disabled-bg-color);\n",
       "    fill: var(--disabled-fill-color);\n",
       "    box-shadow: none;\n",
       "  }\n",
       "\n",
       "  .colab-df-spinner {\n",
       "    border: 2px solid var(--fill-color);\n",
       "    border-color: transparent;\n",
       "    border-bottom-color: var(--fill-color);\n",
       "    animation:\n",
       "      spin 1s steps(1) infinite;\n",
       "  }\n",
       "\n",
       "  @keyframes spin {\n",
       "    0% {\n",
       "      border-color: transparent;\n",
       "      border-bottom-color: var(--fill-color);\n",
       "      border-left-color: var(--fill-color);\n",
       "    }\n",
       "    20% {\n",
       "      border-color: transparent;\n",
       "      border-left-color: var(--fill-color);\n",
       "      border-top-color: var(--fill-color);\n",
       "    }\n",
       "    30% {\n",
       "      border-color: transparent;\n",
       "      border-left-color: var(--fill-color);\n",
       "      border-top-color: var(--fill-color);\n",
       "      border-right-color: var(--fill-color);\n",
       "    }\n",
       "    40% {\n",
       "      border-color: transparent;\n",
       "      border-right-color: var(--fill-color);\n",
       "      border-top-color: var(--fill-color);\n",
       "    }\n",
       "    60% {\n",
       "      border-color: transparent;\n",
       "      border-right-color: var(--fill-color);\n",
       "    }\n",
       "    80% {\n",
       "      border-color: transparent;\n",
       "      border-right-color: var(--fill-color);\n",
       "      border-bottom-color: var(--fill-color);\n",
       "    }\n",
       "    90% {\n",
       "      border-color: transparent;\n",
       "      border-bottom-color: var(--fill-color);\n",
       "    }\n",
       "  }\n",
       "</style>\n",
       "\n",
       "  <script>\n",
       "    async function quickchart(key) {\n",
       "      const quickchartButtonEl =\n",
       "        document.querySelector('#' + key + ' button');\n",
       "      quickchartButtonEl.disabled = true;  // To prevent multiple clicks.\n",
       "      quickchartButtonEl.classList.add('colab-df-spinner');\n",
       "      try {\n",
       "        const charts = await google.colab.kernel.invokeFunction(\n",
       "            'suggestCharts', [key], {});\n",
       "      } catch (error) {\n",
       "        console.error('Error during call to suggestCharts:', error);\n",
       "      }\n",
       "      quickchartButtonEl.classList.remove('colab-df-spinner');\n",
       "      quickchartButtonEl.classList.add('colab-df-quickchart-complete');\n",
       "    }\n",
       "    (() => {\n",
       "      let quickchartButtonEl =\n",
       "        document.querySelector('#df-b85b66db-b001-4208-a7e6-ab308e2da85e button');\n",
       "      quickchartButtonEl.style.display =\n",
       "        google.colab.kernel.accessAllowed ? 'block' : 'none';\n",
       "    })();\n",
       "  </script>\n",
       "</div>\n",
       "    </div>\n",
       "  </div>\n"
      ],
      "text/plain": [
       "   project_id  bid_score bid_sealed  bid_period  bid_quality  \\\n",
       "0  34192365.0    0.72024      False         1.0          5.0   \n",
       "0  34192365.0    0.72024      False         1.0          5.0   \n",
       "0  34192365.0    0.72024      False         7.0          5.0   \n",
       "0  34192365.0    0.72024      False         1.0          5.0   \n",
       "\n",
       "   bid_communication  bid_professionalism bid_award_status  \\\n",
       "0                5.0                  5.0            False   \n",
       "0                5.0                  5.0            False   \n",
       "0                5.0                  5.0            False   \n",
       "0                5.0                  5.0            False   \n",
       "\n",
       "   project/bid_amount_proportion  bid_delay  same_words_title/bid_proportion  \\\n",
       "0                       6.666667    0.00006                            0.375   \n",
       "0                       6.666667    0.00006                            0.375   \n",
       "0                       5.000000    0.00006                            0.250   \n",
       "0                       6.666667    0.00006                            0.500   \n",
       "\n",
       "   same_words_descr/bid_proportion  bid_descr_len  proj/bid_lens_proportion  \\\n",
       "0                         0.500000           40.0                  1.025641   \n",
       "0                         0.588235           53.0                  1.358974   \n",
       "0                         0.294118           78.0                  2.000000   \n",
       "0                         0.529412           48.0                  1.230769   \n",
       "\n",
       "  bid_greetings  \n",
       "0         False  \n",
       "0         False  \n",
       "0         False  \n",
       "0          True  "
      ]
     },
     "execution_count": 201,
     "metadata": {},
     "output_type": "execute_result"
    }
   ],
   "source": [
    "bids_texts = first_iteration['bids_texts']\n",
    "\n",
    "bids = [generate_bid(best_bid.copy(), bid_text) for bid_text in bids_texts]\n",
    "\n",
    "pd.concat(bids)"
   ]
  },
  {
   "cell_type": "code",
   "execution_count": null,
   "id": "0i7ITNwpin4z",
   "metadata": {
    "colab": {
     "base_uri": "https://localhost:8080/"
    },
    "executionInfo": {
     "elapsed": 7,
     "status": "ok",
     "timestamp": 1701843026433,
     "user": {
      "displayName": "English Molecule",
      "userId": "15680542099001298495"
     },
     "user_tz": -60
    },
    "id": "0i7ITNwpin4z",
    "outputId": "e1b86625-a901-4d07-d9c1-5e18a094c802"
   },
   "outputs": [
    {
     "data": {
      "text/plain": [
       "array([84.71293 , 84.72614 , 20.14876 , 57.897823], dtype=float32)"
      ]
     },
     "execution_count": 202,
     "metadata": {},
     "output_type": "execute_result"
    }
   ],
   "source": [
    "first_iteration['generated_bids_probs'] * 100"
   ]
  },
  {
   "cell_type": "code",
   "execution_count": null,
   "id": "qtg8k4HXjPfY",
   "metadata": {
    "colab": {
     "base_uri": "https://localhost:8080/",
     "height": 55
    },
    "executionInfo": {
     "elapsed": 10,
     "status": "ok",
     "timestamp": 1701843026701,
     "user": {
      "displayName": "English Molecule",
      "userId": "15680542099001298495"
     },
     "user_tz": -60
    },
    "id": "qtg8k4HXjPfY",
    "outputId": "d789fed7-f554-4446-9989-0d54cf5112b1"
   },
   "outputs": [
    {
     "data": {
      "application/vnd.google.colaboratory.intrinsic+json": {
       "type": "string"
      },
      "text/plain": [
       "'I have a dataset containing average traffic at metro stations and want to compare the performance of the following models in predicting traffic at each station GNN, GCN, GAT, HypernetX by comparing the following metrics MAE, MSE, RMSE, MAP\\n'"
      ]
     },
     "execution_count": 203,
     "metadata": {},
     "output_type": "execute_result"
    }
   ],
   "source": [
    "best_bid['project_description']"
   ]
  },
  {
   "cell_type": "code",
   "execution_count": null,
   "id": "cqRaQC2Mh16m",
   "metadata": {
    "colab": {
     "base_uri": "https://localhost:8080/"
    },
    "executionInfo": {
     "elapsed": 288,
     "status": "ok",
     "timestamp": 1701843031510,
     "user": {
      "displayName": "English Molecule",
      "userId": "15680542099001298495"
     },
     "user_tz": -60
    },
    "id": "cqRaQC2Mh16m",
    "outputId": "7bd7f692-ee79-4517-9fa8-5111988a4c8e"
   },
   "outputs": [
    {
     "name": "stdout",
     "output_type": "stream",
     "text": [
      "Best: Hello Sir/ Ma’am\n",
      "\n",
      "A skilled full stack developer, I have rich experience in JAVA,C,  C++, C#, Python, .NET , MYSQL, SQL, IONIC , MATLAB,PHP and ARDUINO. \n",
      "\n",
      "I am very confident with my skills and I'd like to help your business by doing my best.\n",
      "I am able to work full time on your time zone and start working right away.\n",
      "Please confirm that I am one of the best fits for you and drop me a message for further discussion.\n",
      "\n",
      "High-quality & Fast-delivery is promised!\n",
      "\n",
      "Thanks and Best Regards\n",
      "\n",
      "Generated:  I propose to develop and implement GNN, GCN, GAT, and HypernetX models using the given dataset for metro traffic prediction. I will compare the performance of these models based on metrics such as MAE, MSE, RMSE, and MAP. The deliverables will include code, model evaluation results, and a comprehensive report summarizing the findings.\n"
     ]
    }
   ],
   "source": [
    "print('Best:', best_bid['bid_description']), print()\n",
    "print('Generated:', bids_texts[1].split('Description:')[1])"
   ]
  },
  {
   "cell_type": "markdown",
   "id": "olI-k2uAi3NF",
   "metadata": {
    "id": "olI-k2uAi3NF"
   },
   "source": [
    "here is can be seen that even if this is the best according to model, in truth this bid hasn't been awarded, because text doesn't seem to have any importance for client, while on another project it has generated practically the best prob. The problem in the not very good project desciption, thank of what generation can't be the best"
   ]
  },
  {
   "cell_type": "code",
   "execution_count": null,
   "id": "ROjfWR4iW_wk",
   "metadata": {
    "colab": {
     "base_uri": "https://localhost:8080/"
    },
    "executionInfo": {
     "elapsed": 289,
     "status": "ok",
     "timestamp": 1701843036722,
     "user": {
      "displayName": "English Molecule",
      "userId": "15680542099001298495"
     },
     "user_tz": -60
    },
    "id": "ROjfWR4iW_wk",
    "outputId": "bb31fbd1-7f13-4e25-bf0c-651354a74bd9"
   },
   "outputs": [
    {
     "name": "stdout",
     "output_type": "stream",
     "text": [
      "bid_score {'predicted': 1.0311934712077, 'labeled': 0.69862133368271}\n",
      "bid_sealed {'predicted': 1, 'labeled': 0}\n",
      "bid_period {'predicted': 4.0, 'labeled': 2.0}\n",
      "bid_quality {'predicted': 4.991373197999693, 'labeled': 4.7616582417528495}\n",
      "bid_communication {'predicted': 4.990784271600079, 'labeled': 4.7616582417528495}\n",
      "bid_professionalism {'predicted': 4.986806067528943, 'labeled': 4.730110505453769}\n",
      "project/bid_amount_proportion {'predicted': 0.0, 'labeled': 1.0}\n",
      "bid_delay {'predicted': 0.00010582010582010582, 'labeled': 0.0002744708994708995}\n",
      "same_words_title/bid_proportion {'predicted': 0.0, 'labeled': 0.0}\n",
      "same_words_descr/bid_proportion {'predicted': 0.0, 'labeled': 0.14705882352941177}\n",
      "bid_descr_len {'predicted': 0.0, 'labeled': 24.0}\n",
      "proj/bid_lens_proportion {'predicted': 0.0, 'labeled': 0.5106382978723404}\n",
      "bid_greetings {'predicted': 0, 'labeled': 1}\n"
     ]
    }
   ],
   "source": [
    "for prop_name in list(best_properties.values())[0].keys():\n",
    "\n",
    "    temp_dict = {}\n",
    "    for dict_key in best_properties.keys():\n",
    "        value = best_properties[dict_key].get(prop_name, 'unknown')\n",
    "\n",
    "        if not value == 'unknown':\n",
    "            temp_dict[dict_key] = value\n",
    "\n",
    "    if len(temp_dict) != 2: continue\n",
    "\n",
    "    print(prop_name, temp_dict)"
   ]
  },
  {
   "cell_type": "markdown",
   "id": "bfWchYECAX_J",
   "metadata": {
    "id": "bfWchYECAX_J"
   },
   "source": [
    "#### Load model with custom embeddings"
   ]
  },
  {
   "cell_type": "code",
   "execution_count": 14,
   "id": "xrGqcK0qAX_K",
   "metadata": {
    "executionInfo": {
     "elapsed": 2722,
     "status": "ok",
     "timestamp": 1701870055168,
     "user": {
      "displayName": "English Molecule",
      "userId": "15680542099001298495"
     },
     "user_tz": -60
    },
    "id": "xrGqcK0qAX_K"
   },
   "outputs": [],
   "source": [
    "model = tf.keras.models.load_model('models/ml_projects_custom_embeddings_model.h5',\n",
    "                                   custom_objects={\"KerasLayer\": hub.KerasLayer})"
   ]
  },
  {
   "cell_type": "code",
   "execution_count": 15,
   "id": "m2pufNVFBze2",
   "metadata": {
    "executionInfo": {
     "elapsed": 383,
     "status": "ok",
     "timestamp": 1701870055540,
     "user": {
      "displayName": "English Molecule",
      "userId": "15680542099001298495"
     },
     "user_tz": -60
    },
    "id": "m2pufNVFBze2"
   },
   "outputs": [],
   "source": [
    "with open('models/vocabulary.json', 'r') as f:\n",
    "    truncated_vocabulary = json.load(f)\n",
    "\n",
    "words = tf.constant(truncated_vocabulary)\n",
    "word_ids = tf.range(len(truncated_vocabulary), dtype=tf.int64)\n",
    "vocab_init = tf.lookup.KeyValueTensorInitializer(words, word_ids)\n",
    "num_oov_buckets = 1000\n",
    "table = tf.lookup.StaticVocabularyTable(vocab_init, num_oov_buckets)"
   ]
  },
  {
   "cell_type": "code",
   "execution_count": 36,
   "id": "P_RE14wMlkBk",
   "metadata": {
    "executionInfo": {
     "elapsed": 223,
     "status": "ok",
     "timestamp": 1701870448027,
     "user": {
      "displayName": "English Molecule",
      "userId": "15680542099001298495"
     },
     "user_tz": -60
    },
    "id": "P_RE14wMlkBk"
   },
   "outputs": [],
   "source": [
    "def preprocess_batch(X_batch):\n",
    "    X_batch = tf.strings.substr(X_batch, 0, 300)\n",
    "    X_batch = tf.strings.regex_replace(X_batch, rb\"<br\\s*/?>\", b\" \")\n",
    "    X_batch = tf.strings.regex_replace(X_batch, b\"[^a-zA-Z']\", b\" \")\n",
    "    X_batch = tf.strings.split(X_batch)\n",
    "\n",
    "    return X_batch.to_tensor(default_value=b\"<pad>\")\n",
    "\n",
    "def encode_words(X_batch):\n",
    "    X_1 = table.lookup(preprocess_batch(X_batch[0]))\n",
    "    X_2 = table.lookup(preprocess_batch(X_batch[1]))\n",
    "\n",
    "    return (X_1,X_2, *X_batch[2:])"
   ]
  },
  {
   "cell_type": "code",
   "execution_count": 37,
   "id": "UEw6bI72lBLq",
   "metadata": {
    "executionInfo": {
     "elapsed": 3,
     "status": "ok",
     "timestamp": 1701870449057,
     "user": {
      "displayName": "English Molecule",
      "userId": "15680542099001298495"
     },
     "user_tz": -60
    },
    "id": "UEw6bI72lBLq"
   },
   "outputs": [],
   "source": [
    "def predict_bids_probs(bids):\n",
    "    return model.predict(bids, verbose=0).reshape(-1)"
   ]
  },
  {
   "cell_type": "code",
   "execution_count": 38,
   "id": "OwdJqHy_lBLr",
   "metadata": {
    "executionInfo": {
     "elapsed": 221,
     "status": "ok",
     "timestamp": 1701870454353,
     "user": {
      "displayName": "English Molecule",
      "userId": "15680542099001298495"
     },
     "user_tz": -60
    },
    "id": "OwdJqHy_lBLr"
   },
   "outputs": [],
   "source": [
    "def prepare_data(project):\n",
    "\n",
    "    df = utils.prepare_df(project)\n",
    "\n",
    "    x_2 = preprocess.transform(df).astype('float32')\n",
    "    bids = ( project['project_description'].values, project['bid_description'].values,\n",
    "              x_2)\n",
    "\n",
    "    bids = encode_words(bids)\n",
    "\n",
    "    return bids"
   ]
  },
  {
   "cell_type": "code",
   "execution_count": 39,
   "id": "gnVcrvQQlBLs",
   "metadata": {
    "executionInfo": {
     "elapsed": 4,
     "status": "ok",
     "timestamp": 1701870455164,
     "user": {
      "displayName": "English Molecule",
      "userId": "15680542099001298495"
     },
     "user_tz": -60
    },
    "id": "gnVcrvQQlBLs"
   },
   "outputs": [],
   "source": [
    "def predict_generated_bids_probs(best_bid, bids_texts):\n",
    "    bids = [generate_bid(best_bid.copy(), bid_text) for bid_text in bids_texts]\n",
    "\n",
    "    x_2 = preprocess.transform(pd.concat(bids)).astype('float32')\n",
    "    bids = ( np.repeat(best_bid['project_description'], len(bids)),\n",
    "             np.array(bids_texts), x_2)\n",
    "    bids = encode_words(bids)\n",
    "\n",
    "    pred = predict_bids_probs(bids)\n",
    "\n",
    "    return pred, bids"
   ]
  },
  {
   "cell_type": "markdown",
   "id": "h9i5XZrolBLs",
   "metadata": {
    "id": "h9i5XZrolBLs"
   },
   "source": [
    "#### Generating text"
   ]
  },
  {
   "cell_type": "code",
   "execution_count": 40,
   "id": "6RX9ePKIl-Kv",
   "metadata": {
    "executionInfo": {
     "elapsed": 333,
     "status": "ok",
     "timestamp": 1701870457435,
     "user": {
      "displayName": "English Molecule",
      "userId": "15680542099001298495"
     },
     "user_tz": -60
    },
    "id": "6RX9ePKIl-Kv"
   },
   "outputs": [],
   "source": [
    "system_content = (\"You are a freelancer which specializes in machine learning.\"\n",
    "                  \"You have an understanding of the field, because you have learnt a lot, \"\n",
    "                  \"but you haven't done anything important in this field.\"\n",
    "                  \"You work on freelancer.com and you want to be adwarded for this project.\"\n",
    "                  \"Try to asnwwer as short as possible with the key idea is to show that you know your work. \"\n",
    "                  \"You need to answer by such template: Period of work: [number] days;\"\n",
    "                  \" Price of work: $[price]; Description: Hi, How are you? [your proposition]\")\n",
    "# taken from the section \"Load model with pretrained embeddings\""
   ]
  },
  {
   "cell_type": "code",
   "execution_count": 41,
   "id": "EjSUeB6XlBLs",
   "metadata": {
    "colab": {
     "base_uri": "https://localhost:8080/"
    },
    "executionInfo": {
     "elapsed": 51770,
     "status": "ok",
     "timestamp": 1701870509476,
     "user": {
      "displayName": "English Molecule",
      "userId": "15680542099001298495"
     },
     "user_tz": -60
    },
    "id": "EjSUeB6XlBLs",
    "outputId": "f371a498-acae-48d9-c520-1e3573261c37"
   },
   "outputs": [
    {
     "name": "stdout",
     "output_type": "stream",
     "text": [
      "Probs of others bids:  [83.55209  69.23731  65.30559  58.36079  49.725742]\n",
      "Probs of not sealed bids:  [69.23731  65.30559  58.36079  49.725742 47.171482]\n",
      "Probability to be awarded: [39.246006 34.80463  50.371628 38.01186 ]\n",
      "\n",
      "Probs of others bids:  [88.2754   85.841736 80.96644  77.89987  77.272606]\n",
      "Probs of not sealed bids:  [85.841736 80.96644  77.89987  77.272606 70.608734]\n",
      "Probability to be awarded: [48.68924  52.291794 66.92044  56.029366]\n",
      "\n",
      "Probs of others bids:  [71.55066  61.559837 58.88288  54.449768 50.77626 ]\n",
      "Probs of not sealed bids:  [71.55066  61.559837 58.88288  54.449768 50.77626 ]\n",
      "Probability to be awarded: [32.820045 57.403366 49.554123 58.01571 ]\n",
      "\n"
     ]
    }
   ],
   "source": [
    "# variables for future analyze\n",
    "best_properties = {elem: {} for elem in ['predicted', 'labeled']}\n",
    "iterations = {}\n",
    "\n",
    "n = 3\n",
    "for i in range(n):\n",
    "\n",
    "    iteration_env = {}\n",
    "\n",
    "    project = get_random_project().reset_index(drop=True)\n",
    "    df_project = utils.prepare_df(project)\n",
    "\n",
    "    best_index = np.where(project['bid_award_status'])[0][0]\n",
    "    for col in df_project.columns:\n",
    "        if col in ['project_id', 'bid_award_status']: continue\n",
    "\n",
    "        if not best_properties.get(col, False):\n",
    "            best_properties['labeled'][col] = 0\n",
    "\n",
    "        best_properties['labeled'][col] += df_project.iloc[best_index][col]\n",
    "\n",
    "    iteration_env['project'] = project\n",
    "\n",
    "    probs = predict_bids_probs(prepare_data(project)) * 100\n",
    "    probs_descending = np.argsort(probs)[::-1]\n",
    "\n",
    "    print('Probs of others bids: ', probs[probs_descending[:5]])\n",
    "    iteration_env['project_probs'] = probs\n",
    "\n",
    "    project_without_sealed_bids = project.drop(np.where(project['bid_sealed'])[0])\n",
    "\n",
    "    probs = predict_bids_probs(prepare_data(project_without_sealed_bids)) * 100\n",
    "    probs_descending = np.argsort(probs)[::-1]\n",
    "\n",
    "    print('Probs of not sealed bids: ', probs[probs_descending[:5]])\n",
    "    iteration_env['project_without_sealed'] = project_without_sealed_bids\n",
    "    iteration_env['project_without_sealed_probs'] = probs\n",
    "\n",
    "    index = np.argmax(probs)\n",
    "\n",
    "    for col in df_project.columns:\n",
    "        if not best_properties.get(col, False):\n",
    "            best_properties['predicted'][col] = 0\n",
    "\n",
    "        best_properties['predicted'][col] += df_project.iloc[index][col]\n",
    "\n",
    "    bids_texts = [get_bid_text(project) for i in range(4)]\n",
    "\n",
    "    probs,bids = predict_generated_bids_probs(project.iloc[index].copy(),\n",
    "                                              bids_texts)\n",
    "    print(f'Probability to be awarded: {probs* 100}')\n",
    "    iteration_env['bids_texts'] = bids_texts\n",
    "    iteration_env['generated_bids_probs'] = probs\n",
    "\n",
    "    iteration_env['best_bid'] = project.iloc[index]\n",
    "\n",
    "    print()\n",
    "\n",
    "    # saving\n",
    "    iterations[df_project.iloc[best_index]['project_id']] = iteration_env"
   ]
  },
  {
   "cell_type": "code",
   "execution_count": 42,
   "id": "9Fcje6FFAUBY",
   "metadata": {
    "colab": {
     "base_uri": "https://localhost:8080/"
    },
    "executionInfo": {
     "elapsed": 224,
     "status": "ok",
     "timestamp": 1701870516728,
     "user": {
      "displayName": "English Molecule",
      "userId": "15680542099001298495"
     },
     "user_tz": -60
    },
    "id": "9Fcje6FFAUBY",
    "outputId": "7d5a1fcf-299a-4b51-ce30-7237bc999d8a"
   },
   "outputs": [
    {
     "name": "stdout",
     "output_type": "stream",
     "text": [
      "bid_score {'predicted': 0.77028194950569, 'labeled': 0.66655300645855}\n",
      "bid_sealed {'predicted': 0, 'labeled': 0}\n",
      "bid_period {'predicted': 1.0, 'labeled': 3.0}\n",
      "bid_quality {'predicted': 4.805032944720044, 'labeled': 5.0}\n",
      "bid_communication {'predicted': 4.812924731982569, 'labeled': 5.0}\n",
      "bid_professionalism {'predicted': 4.6810689984278975, 'labeled': 5.0}\n",
      "project/bid_amount_proportion {'predicted': 2.0, 'labeled': 2.5}\n",
      "bid_delay {'predicted': 0.00010416666666666667, 'labeled': 0.000992063492063492}\n",
      "same_words_title/bid_proportion {'predicted': 0.0, 'labeled': 0.2}\n",
      "same_words_descr/bid_proportion {'predicted': 0.07692307692307693, 'labeled': 0.13846153846153847}\n",
      "bid_descr_len {'predicted': 47.0, 'labeled': 51.0}\n",
      "proj/bid_lens_proportion {'predicted': 0.5529411764705883, 'labeled': 0.6}\n",
      "bid_greetings {'predicted': 0, 'labeled': 1}\n"
     ]
    }
   ],
   "source": [
    "for prop_name in list(best_properties.values())[0].keys():\n",
    "\n",
    "    temp_dict = {}\n",
    "    for dict_key in best_properties.keys():\n",
    "        value = best_properties[dict_key].get(prop_name, 'unknown')\n",
    "\n",
    "        if not value == 'unknown':\n",
    "            temp_dict[dict_key] = value\n",
    "\n",
    "    if len(temp_dict) != 2: continue\n",
    "\n",
    "    print(prop_name, temp_dict)"
   ]
  },
  {
   "cell_type": "code",
   "execution_count": 47,
   "id": "yK_HEqPUbFmU",
   "metadata": {
    "colab": {
     "base_uri": "https://localhost:8080/"
    },
    "executionInfo": {
     "elapsed": 232,
     "status": "ok",
     "timestamp": 1701871275609,
     "user": {
      "displayName": "English Molecule",
      "userId": "15680542099001298495"
     },
     "user_tz": -60
    },
    "id": "yK_HEqPUbFmU",
    "outputId": "82ba9e9e-eeb3-44fb-c63a-1d656b6476dc"
   },
   "outputs": [
    {
     "name": "stdout",
     "output_type": "stream",
     "text": [
      "Project description: Attached you can find a short python machine learning Random Forest algorithm that predicts temperature data.\n",
      "The code is successfully forecasting temperature data by using the \"temps\" data file used for training and testing.\n",
      "\n",
      "Goal of this project is to add a piece of code that reads the \"newdata\" data file, applies the ML algorithm on it, and write the ML forecasted temperature in the \"Actual\" column\n",
      "\n",
      "The script can run as follows: ipython RandomForestExplained3.py\n",
      "Data files to be put into a folder called \"data\"\n",
      "\n",
      "Attempt: 0, Prob: 32.82%\n",
      "Period of work: 2 days; \n",
      "Price of work: $20; \n",
      "Description: I can modify the existing Python machine learning algorithm to read the \"newdata\" file, apply the Random Forest algorithm to it, and write the forecasted temperature in the \"Actual\" column. The modified script will be able to run using ipython RandomForestExplained3.py command. All data files should be placed in a folder named \"data\".\n",
      "\n",
      "Attempt: 1, Prob: 57.4%\n",
      "Period of work: 2 days; \n",
      "Price of work: $20; \n",
      "Description: I can modify the provided code to read the \"newdata\" file, apply the Random Forest algorithm on it, and write the ML forecasted temperature in the \"Actual\" column. I will also ensure that the script runs smoothly and organize the data files in the specified folder.\n",
      "\n",
      "Attempt: 2, Prob: 49.55%\n",
      "Period of work: 2 days; \n",
      "Price of work: $60; \n",
      "Description: I can add the required piece of code to read the \"newdata\" file, apply the Random Forest algorithm on it, and write the ML forecasted temperature in the \"Actual\" column. The script will be able to run using `ipython RandomForestExplained3.py`. The data files will be organized in a folder called \"data\".\n",
      "\n",
      "Attempt: 3, Prob: 58.02%\n",
      "Period of work: 2 days; \n",
      "Price of work: $20; \n",
      "Description: Add a piece of code to read the \"newdata\" data file, apply the RandomForest ML algorithm, and write the forecasted temperature in the \"Actual\" column. The script will run as \"ipython RandomForestExplained3.py\" and the data files should be stored in a folder called \"data\".\n",
      "\n"
     ]
    }
   ],
   "source": [
    "print('Project description:', project['project_description'][0]), print()\n",
    "\n",
    "for i, (prob,bid_text) in enumerate(zip(probs, bids_texts)):\n",
    "    print(f'Attempt: {i}, Prob: {round(prob*100,2)}%\\n{bid_text}'), print()"
   ]
  },
  {
   "cell_type": "code",
   "execution_count": null,
   "id": "7LlFfWvpbT9X",
   "metadata": {
    "id": "7LlFfWvpbT9X"
   },
   "outputs": [],
   "source": []
  }
 ],
 "metadata": {
  "colab": {
   "collapsed_sections": [
    "14598dad",
    "bfWchYECAX_J"
   ],
   "provenance": []
  },
  "kernelspec": {
   "display_name": "tf",
   "language": "python",
   "name": "tf"
  },
  "language_info": {
   "codemirror_mode": {
    "name": "ipython",
    "version": 3
   },
   "file_extension": ".py",
   "mimetype": "text/x-python",
   "name": "python",
   "nbconvert_exporter": "python",
   "pygments_lexer": "ipython3",
   "version": "3.8.16"
  }
 },
 "nbformat": 4,
 "nbformat_minor": 5
}
