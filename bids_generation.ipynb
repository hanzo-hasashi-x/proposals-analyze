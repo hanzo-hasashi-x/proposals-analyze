{
 "cells": [
  {
   "cell_type": "code",
   "execution_count": 1,
   "id": "03130a9f",
   "metadata": {},
   "outputs": [
    {
     "data": {
      "text/plain": [
       "True"
      ]
     },
     "execution_count": 1,
     "metadata": {},
     "output_type": "execute_result"
    }
   ],
   "source": [
    "from openai import OpenAI\n",
    "\n",
    "from dotenv import load_dotenv\n",
    "import numpy as np\n",
    "import pandas as pd\n",
    "import requests\n",
    "import joblib\n",
    "import os\n",
    "import re\n",
    "\n",
    "import utils\n",
    "\n",
    "load_dotenv()"
   ]
  },
  {
   "cell_type": "markdown",
   "id": "b84e52d5",
   "metadata": {},
   "source": [
    "### Load data"
   ]
  },
  {
   "cell_type": "code",
   "execution_count": 2,
   "id": "f9b14fab",
   "metadata": {},
   "outputs": [],
   "source": [
    "import json"
   ]
  },
  {
   "cell_type": "code",
   "execution_count": 3,
   "id": "8816015d",
   "metadata": {},
   "outputs": [],
   "source": [
    "with open(f'data/machine_learning.json', 'r') as f:\n",
    "    projects = json.load(f)\n"
   ]
  },
  {
   "cell_type": "code",
   "execution_count": 4,
   "id": "72ddba5b",
   "metadata": {},
   "outputs": [],
   "source": [
    "df = utils.load_bids_df(dataset_name='machine_learning')\n",
    "df_prepared = utils.prepare_df(df)"
   ]
  },
  {
   "cell_type": "markdown",
   "id": "6b3928f2",
   "metadata": {},
   "source": [
    "### Load estimator"
   ]
  },
  {
   "cell_type": "code",
   "execution_count": 5,
   "id": "3d283820",
   "metadata": {},
   "outputs": [],
   "source": [
    "estimator = joblib.load('estimators/ml_bids_estimator.json')"
   ]
  },
  {
   "cell_type": "code",
   "execution_count": 6,
   "id": "d251367f",
   "metadata": {},
   "outputs": [],
   "source": [
    "def predict_bids_probs(bids):\n",
    "    return estimator.predict_proba(bids)[:, 1]"
   ]
  },
  {
   "cell_type": "code",
   "execution_count": 13,
   "id": "0e8da871",
   "metadata": {},
   "outputs": [],
   "source": [
    "def predict_generated_bid_prob(project_bids, bid_text):\n",
    "    bid = project_bids.reset_index(drop=True).iloc[0].copy()\n",
    "    \n",
    "    bid['bid_sealed'] = False\n",
    "    bid['bid_highlighted'] = False\n",
    "    \n",
    "    # 3 minute after first bid\n",
    "    bid['bid_time_submitted'] = bid['project_time_submitted'] + 60*10\n",
    "    \n",
    "    reputation = user_data['entire_history']['category_ratings']\n",
    "    \n",
    "    bid['bid_quality'] = reputation['quality']\n",
    "    bid['bid_communication'] = reputation['communication']\n",
    "    bid['bid_professionalism'] = reputation['professionalism']\n",
    "    \n",
    "    bid['bid_score'] = np.max(project_bids['bid_score'])\n",
    "    \n",
    "    # Transforming generated bid text in features\n",
    "    text_before, text_after = bid_text.split('Description:')\n",
    "    \n",
    "    period = re.findall('(?<=Period of work: )\\d+?', text_before)[0]\n",
    "    bid['bid_period'] = int(period)\n",
    "    \n",
    "    amount = re.findall('(?<=Price of work: \\$)\\d*(?=;)', text_before)[0]\n",
    "    bid['bid_amount'] = float(amount)\n",
    "    \n",
    "    bid['bid_description'] = text_after\n",
    "    \n",
    "    one_bid_df = pd.DataFrame(columns=df.columns, data=[bid.values.tolist()])\n",
    "\n",
    "    one_bid_df = utils.prepare_df(one_bid_df)\n",
    "    pred = predict_bids_probs(one_bid_df)[0]\n",
    "    \n",
    "    return pred, bid"
   ]
  },
  {
   "cell_type": "markdown",
   "id": "ee3681dd",
   "metadata": {},
   "source": [
    "### Get user data"
   ]
  },
  {
   "cell_type": "code",
   "execution_count": 8,
   "id": "67e106d2",
   "metadata": {},
   "outputs": [],
   "source": [
    "access_token = '' or os.getenv('FREELANCER_ACCESS_TOKEN')\n",
    "# /users/0.1/\n",
    "user_id = '70505411'\n",
    "url = f\"https://www.freelancer.com/api/users/0.1/reputations/\"\n",
    "\n",
    "headers = {'freelancer-oauth-v1': access_token}\n",
    "params = {\"users[]\": [int(user_id)]}\n",
    "response = requests.request(\"GET\", url, headers=headers, params=params)\n",
    "\n",
    "user_data = response.json()['result'][user_id]"
   ]
  },
  {
   "cell_type": "markdown",
   "id": "2a7fa9db",
   "metadata": {},
   "source": [
    "### ChatGPT API generation"
   ]
  },
  {
   "cell_type": "code",
   "execution_count": 9,
   "id": "d7a8fc6b",
   "metadata": {},
   "outputs": [],
   "source": [
    "API_KEY = '' or os.getenv('OPENAI_API_KEY')"
   ]
  },
  {
   "cell_type": "code",
   "execution_count": 10,
   "id": "c57ddd64",
   "metadata": {},
   "outputs": [],
   "source": [
    "client = OpenAI(api_key=API_KEY)\n",
    "\n",
    "system_content = (\"You are a freelancer which specializes in machine learning.\"\n",
    "                  \"You have an understanding of the field, because you have learnt a lot, \"\n",
    "                  \"but you haven't done anything important in this field.\"\n",
    "                  \"You work on freelancer.com and you want to be adwarded for this project.\"\n",
    "                  \"Propose to the client the way of solving the problem.\"\n",
    "                  \"You can write no more than 100 words.\"\n",
    "                  \"You need to answer by such model: Period of work: [number] days;\"\n",
    "                  \" Price of work: $[price]; Description: [your proposition]\")\n",
    "\n",
    "def get_bid_text(project):\n",
    "    \n",
    "    project_title = project['project_title'].iloc[0]\n",
    "    project_description = project['project_description'].iloc[0]\n",
    "\n",
    "    project_min_amount = project['project_min_amount'].iloc[0]\n",
    "    project_max_amount = project['project_max_amount'].iloc[0]\n",
    "    \n",
    "    completion = client.chat.completions.create(\n",
    "      model=\"gpt-3.5-turbo\",\n",
    "      messages=[\n",
    "        {\"role\": \"system\", \"content\": system_content},\n",
    "        {\"role\": \"user\", \"content\": (f\"Title: {project_title}\\nProject desired min amount: {project_min_amount}\"\n",
    "                                     f\"Project desired max amount: {project_max_amount}\\n\"\n",
    "                                     f\"Description: {project_description}\")}\n",
    "      ]\n",
    "    )\n",
    "\n",
    "    return completion.choices[0].message.content.replace('[Your Name]', '@username')"
   ]
  },
  {
   "cell_type": "code",
   "execution_count": 11,
   "id": "598f02ad",
   "metadata": {},
   "outputs": [],
   "source": [
    "import random\n",
    "\n",
    "def get_random_project():\n",
    "    \n",
    "    project_id = random.choice(df['project_id'].unique())\n",
    "    project_bids_indexes = np.where(df['project_id'] == project_id)[0]\n",
    "\n",
    "    project = df.iloc[project_bids_indexes]\n",
    "    \n",
    "    return project"
   ]
  },
  {
   "cell_type": "code",
   "execution_count": 14,
   "id": "39514b05",
   "metadata": {},
   "outputs": [
    {
     "name": "stdout",
     "output_type": "stream",
     "text": [
      "Probability to be awarded: 21.59897786018141\n",
      "Probs of others bids:  [23.5093121  23.04811598 22.37348237 22.10522152 21.95969543]\n",
      "Probs of not sealed bids:  [23.5093121  23.04811598 22.37348237 22.10522152 21.95969543]\n",
      "\n",
      "Probability to be awarded: 17.524647180729634\n",
      "Probs of others bids:  [30.7250946  24.6687892  22.44288699 18.32455744 18.21524791]\n",
      "Probs of not sealed bids:  [30.7250946  24.6687892  18.32455744 18.21524791 17.95715687]\n",
      "\n",
      "Probability to be awarded: 17.913745008109032\n",
      "Probs of others bids:  [25.63333811 23.73565763 18.07232737 18.02047637]\n",
      "Probs of not sealed bids:  [25.63333811 23.73565763 18.07232737 18.02047637]\n",
      "\n",
      "Probability to be awarded: 21.877167177002015\n",
      "Probs of others bids:  [32.82840302 25.54024853 22.81928066 21.9317463  21.85799774]\n",
      "Probs of not sealed bids:  [32.82840302 25.54024853 22.81928066 21.9317463  21.85799774]\n",
      "\n",
      "Probability to be awarded: 17.944437587340367\n",
      "Probs of others bids:  [23.6019264  18.34019352 18.18844589]\n",
      "Probs of not sealed bids:  [23.6019264  18.34019352 18.18844589]\n",
      "\n",
      "Probability to be awarded: 19.372950238135385\n",
      "Probs of others bids:  [27.98441154 25.96234206 23.16032583 21.46024478 21.05206181]\n",
      "Probs of not sealed bids:  [27.98441154 25.96234206 23.16032583 21.46024478 21.05206181]\n",
      "\n",
      "Probability to be awarded: 21.109570467492635\n",
      "Probs of others bids:  [29.58060638 20.88664193 19.10585395 18.80688895 18.40990074]\n",
      "Probs of not sealed bids:  [29.58060638 20.88664193 19.10585395 18.80688895 18.40990074]\n",
      "\n",
      "Probability to be awarded: 18.046931725948294\n",
      "Probs of others bids:  [28.75672516 28.69501815 27.35636555 21.55298113 20.01417484]\n",
      "Probs of not sealed bids:  [28.75672516 28.69501815 27.35636555 21.55298113 20.01417484]\n",
      "\n",
      "Probability to be awarded: 18.70476100247174\n",
      "Probs of others bids:  [24.14181297 22.21649109 20.58221448 20.19990688 19.43964505]\n",
      "Probs of not sealed bids:  [24.14181297 22.21649109 20.58221448 20.19990688 19.43964505]\n",
      "\n",
      "Probability to be awarded: 21.109570467492635\n",
      "Probs of others bids:  [34.92655031 30.94291048 21.09171118 20.19441561 20.13825447]\n",
      "Probs of not sealed bids:  [30.94291048 21.09171118 20.13825447 18.99896838 18.7781028 ]\n",
      "\n"
     ]
    }
   ],
   "source": [
    "for i in range(10):\n",
    "    project = get_random_project().reset_index(drop=True)\n",
    "    bid_text = get_bid_text(project)\n",
    "\n",
    "    prob,bid = predict_generated_bid_prob(project, bid_text)\n",
    "    print(f'Probability to be awarded: {prob* 100}')\n",
    "\n",
    "    probs = predict_bids_probs(utils.prepare_df(project)) * 100\n",
    "    probs_descending = np.argsort(probs)[::-1]\n",
    "    \n",
    "    print('Probs of others bids: ', probs[probs_descending[:5]])\n",
    "    \n",
    "    project_without_sealed_bids = project.drop(np.where(project['bid_sealed'])[0])\n",
    "    \n",
    "    probs = predict_bids_probs(utils.prepare_df(project_without_sealed_bids)) * 100\n",
    "    probs_descending = np.argsort(probs)[::-1]\n",
    "    \n",
    "    print('Probs of not sealed bids: ', probs[probs_descending[:5]]), print()"
   ]
  },
  {
   "cell_type": "code",
   "execution_count": 15,
   "id": "6b956503",
   "metadata": {},
   "outputs": [
    {
     "data": {
      "text/plain": [
       "'Period of work: 10 days; Price of work: $500; Description: I propose developing a machine learning model to automate the valve control in the system. By analyzing historical data and real-time sensor readings, the model will be able to make intelligent decisions on when to switch valves to manual or automatic mode. Additionally, I will create visualizations using the built-in visualization manager to represent the system, alarms, set points, and data logging. This will provide a user-friendly interface for monitoring and controlling the system.'"
      ]
     },
     "execution_count": 15,
     "metadata": {},
     "output_type": "execute_result"
    }
   ],
   "source": [
    "bid_text"
   ]
  },
  {
   "cell_type": "code",
   "execution_count": null,
   "id": "2c412c6a",
   "metadata": {},
   "outputs": [],
   "source": []
  }
 ],
 "metadata": {
  "kernelspec": {
   "display_name": "tf",
   "language": "python",
   "name": "tf"
  },
  "language_info": {
   "codemirror_mode": {
    "name": "ipython",
    "version": 3
   },
   "file_extension": ".py",
   "mimetype": "text/x-python",
   "name": "python",
   "nbconvert_exporter": "python",
   "pygments_lexer": "ipython3",
   "version": "3.8.16"
  }
 },
 "nbformat": 4,
 "nbformat_minor": 5
}
