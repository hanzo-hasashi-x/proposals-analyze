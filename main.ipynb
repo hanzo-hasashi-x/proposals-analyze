{
 "cells": [
  {
   "cell_type": "code",
   "execution_count": 193,
   "id": "24bc5905",
   "metadata": {},
   "outputs": [],
   "source": [
    "import numpy as np\n",
    "import pandas as pd\n",
    "\n",
    "import json"
   ]
  },
  {
   "cell_type": "markdown",
   "id": "eee2d905",
   "metadata": {},
   "source": [
    "### Loading data"
   ]
  },
  {
   "cell_type": "code",
   "execution_count": 298,
   "id": "24b1161f",
   "metadata": {},
   "outputs": [],
   "source": [
    "with open('data/machine_learning.json', 'r') as f:\n",
    "    projects = json.load(f)"
   ]
  },
  {
   "cell_type": "code",
   "execution_count": 299,
   "id": "1bacf34f",
   "metadata": {},
   "outputs": [
    {
     "data": {
      "text/plain": [
       "863"
      ]
     },
     "execution_count": 299,
     "metadata": {},
     "output_type": "execute_result"
    }
   ],
   "source": [
    "len(projects)"
   ]
  },
  {
   "cell_type": "code",
   "execution_count": 300,
   "id": "c61279a5",
   "metadata": {},
   "outputs": [],
   "source": [
    "data = []\n",
    "for project in projects:\n",
    "    base = [project['id'], project['title'], project['description'], project['budget']['minimum'],\n",
    "            project['budget']['maximum'], project['time_submitted']]\n",
    "    \n",
    "    project_bids = []\n",
    "        \n",
    "    for bid in project['bids']:\n",
    "        row = [*base]\n",
    "        \n",
    "        reputation = bid['reputation']['entire_history']['category_ratings']\n",
    "        \n",
    "#         quality\": 5.0,\n",
    "#             \"communication\": 5.0,\n",
    "#             \"expertise\": 5.0,\n",
    "#             \"professionalism\": 5.0,\n",
    "#             \"hire_again\n",
    "        row += [bid['score'], bid['highlighted'], bid['sealed'], bid['description'], bid['time_submitted'], \n",
    "                bid['amount'], bid['period'], reputation['quality'], reputation['communication'], \n",
    "                reputation['professionalism'], bid['award_status'] == 'awarded']\n",
    "        \n",
    "        project_bids.append(row)\n",
    "        \n",
    "    if [bid for bid in project_bids if bid[-1]]: # checking if there is awarded bid, if not skip\n",
    "        data+=project_bids"
   ]
  },
  {
   "cell_type": "code",
   "execution_count": 301,
   "id": "db080915",
   "metadata": {},
   "outputs": [],
   "source": [
    "data_columns = ['project_id', 'project_title', 'project_description', 'project_min_amount',\n",
    "                'project_max_amount', 'project_time_submitted', 'bid_score', 'bid_highlighted', 'bid_sealed',\n",
    "                'bid_description', 'bid_time_submitted', 'bid_amount', 'bid_period', 'bid_quality', \n",
    "                'bid_communication', 'bid_professionalism', 'bid_award_status']\n",
    "data = pd.DataFrame(columns=data_columns, data=data)"
   ]
  },
  {
   "cell_type": "code",
   "execution_count": 302,
   "id": "327513c5",
   "metadata": {},
   "outputs": [
    {
     "data": {
      "text/html": [
       "<div>\n",
       "<style scoped>\n",
       "    .dataframe tbody tr th:only-of-type {\n",
       "        vertical-align: middle;\n",
       "    }\n",
       "\n",
       "    .dataframe tbody tr th {\n",
       "        vertical-align: top;\n",
       "    }\n",
       "\n",
       "    .dataframe thead th {\n",
       "        text-align: right;\n",
       "    }\n",
       "</style>\n",
       "<table border=\"1\" class=\"dataframe\">\n",
       "  <thead>\n",
       "    <tr style=\"text-align: right;\">\n",
       "      <th></th>\n",
       "      <th>project_id</th>\n",
       "      <th>project_min_amount</th>\n",
       "      <th>project_max_amount</th>\n",
       "      <th>project_time_submitted</th>\n",
       "      <th>bid_score</th>\n",
       "      <th>bid_time_submitted</th>\n",
       "      <th>bid_amount</th>\n",
       "      <th>bid_period</th>\n",
       "      <th>bid_quality</th>\n",
       "      <th>bid_communication</th>\n",
       "      <th>bid_professionalism</th>\n",
       "    </tr>\n",
       "  </thead>\n",
       "  <tbody>\n",
       "    <tr>\n",
       "      <th>count</th>\n",
       "      <td>7.741000e+03</td>\n",
       "      <td>7741.000000</td>\n",
       "      <td>7741.000000</td>\n",
       "      <td>7.741000e+03</td>\n",
       "      <td>7741.000000</td>\n",
       "      <td>7.741000e+03</td>\n",
       "      <td>7741.000000</td>\n",
       "      <td>7741.00000</td>\n",
       "      <td>7741.000000</td>\n",
       "      <td>7741.000000</td>\n",
       "      <td>7741.000000</td>\n",
       "    </tr>\n",
       "    <tr>\n",
       "      <th>mean</th>\n",
       "      <td>3.411203e+07</td>\n",
       "      <td>393.830384</td>\n",
       "      <td>1548.752099</td>\n",
       "      <td>1.657188e+09</td>\n",
       "      <td>1.152852</td>\n",
       "      <td>1.657200e+09</td>\n",
       "      <td>984.909738</td>\n",
       "      <td>5.41545</td>\n",
       "      <td>4.076194</td>\n",
       "      <td>4.085193</td>\n",
       "      <td>4.080635</td>\n",
       "    </tr>\n",
       "    <tr>\n",
       "      <th>std</th>\n",
       "      <td>8.892812e+05</td>\n",
       "      <td>2099.633747</td>\n",
       "      <td>6165.852474</td>\n",
       "      <td>9.267100e+06</td>\n",
       "      <td>6.001925</td>\n",
       "      <td>9.267411e+06</td>\n",
       "      <td>4709.964862</td>\n",
       "      <td>12.48506</td>\n",
       "      <td>1.777574</td>\n",
       "      <td>1.779585</td>\n",
       "      <td>1.780145</td>\n",
       "    </tr>\n",
       "    <tr>\n",
       "      <th>min</th>\n",
       "      <td>3.251029e+07</td>\n",
       "      <td>8.000000</td>\n",
       "      <td>15.000000</td>\n",
       "      <td>1.640923e+09</td>\n",
       "      <td>0.396905</td>\n",
       "      <td>1.640923e+09</td>\n",
       "      <td>0.000000</td>\n",
       "      <td>1.00000</td>\n",
       "      <td>0.000000</td>\n",
       "      <td>0.000000</td>\n",
       "      <td>0.000000</td>\n",
       "    </tr>\n",
       "    <tr>\n",
       "      <th>25%</th>\n",
       "      <td>3.341296e+07</td>\n",
       "      <td>10.000000</td>\n",
       "      <td>50.000000</td>\n",
       "      <td>1.649352e+09</td>\n",
       "      <td>0.675041</td>\n",
       "      <td>1.649375e+09</td>\n",
       "      <td>20.000000</td>\n",
       "      <td>2.00000</td>\n",
       "      <td>4.522882</td>\n",
       "      <td>4.531604</td>\n",
       "      <td>4.545107</td>\n",
       "    </tr>\n",
       "    <tr>\n",
       "      <th>50%</th>\n",
       "      <td>3.407365e+07</td>\n",
       "      <td>30.000000</td>\n",
       "      <td>250.000000</td>\n",
       "      <td>1.657216e+09</td>\n",
       "      <td>0.748068</td>\n",
       "      <td>1.657216e+09</td>\n",
       "      <td>100.000000</td>\n",
       "      <td>5.00000</td>\n",
       "      <td>4.908063</td>\n",
       "      <td>4.921666</td>\n",
       "      <td>4.922032</td>\n",
       "    </tr>\n",
       "    <tr>\n",
       "      <th>75%</th>\n",
       "      <td>3.487830e+07</td>\n",
       "      <td>30.000000</td>\n",
       "      <td>250.000000</td>\n",
       "      <td>1.665254e+09</td>\n",
       "      <td>0.857398</td>\n",
       "      <td>1.665268e+09</td>\n",
       "      <td>250.000000</td>\n",
       "      <td>7.00000</td>\n",
       "      <td>5.000000</td>\n",
       "      <td>5.000000</td>\n",
       "      <td>5.000000</td>\n",
       "    </tr>\n",
       "    <tr>\n",
       "      <th>max</th>\n",
       "      <td>3.718741e+07</td>\n",
       "      <td>37500.000000</td>\n",
       "      <td>75000.000000</td>\n",
       "      <td>1.694663e+09</td>\n",
       "      <td>99.000000</td>\n",
       "      <td>1.694711e+09</td>\n",
       "      <td>150000.000000</td>\n",
       "      <td>999.00000</td>\n",
       "      <td>5.000000</td>\n",
       "      <td>5.000000</td>\n",
       "      <td>5.000000</td>\n",
       "    </tr>\n",
       "  </tbody>\n",
       "</table>\n",
       "</div>"
      ],
      "text/plain": [
       "         project_id  project_min_amount  project_max_amount   \n",
       "count  7.741000e+03         7741.000000         7741.000000  \\\n",
       "mean   3.411203e+07          393.830384         1548.752099   \n",
       "std    8.892812e+05         2099.633747         6165.852474   \n",
       "min    3.251029e+07            8.000000           15.000000   \n",
       "25%    3.341296e+07           10.000000           50.000000   \n",
       "50%    3.407365e+07           30.000000          250.000000   \n",
       "75%    3.487830e+07           30.000000          250.000000   \n",
       "max    3.718741e+07        37500.000000        75000.000000   \n",
       "\n",
       "       project_time_submitted    bid_score  bid_time_submitted     bid_amount   \n",
       "count            7.741000e+03  7741.000000        7.741000e+03    7741.000000  \\\n",
       "mean             1.657188e+09     1.152852        1.657200e+09     984.909738   \n",
       "std              9.267100e+06     6.001925        9.267411e+06    4709.964862   \n",
       "min              1.640923e+09     0.396905        1.640923e+09       0.000000   \n",
       "25%              1.649352e+09     0.675041        1.649375e+09      20.000000   \n",
       "50%              1.657216e+09     0.748068        1.657216e+09     100.000000   \n",
       "75%              1.665254e+09     0.857398        1.665268e+09     250.000000   \n",
       "max              1.694663e+09    99.000000        1.694711e+09  150000.000000   \n",
       "\n",
       "       bid_period  bid_quality  bid_communication  bid_professionalism  \n",
       "count  7741.00000  7741.000000        7741.000000          7741.000000  \n",
       "mean      5.41545     4.076194           4.085193             4.080635  \n",
       "std      12.48506     1.777574           1.779585             1.780145  \n",
       "min       1.00000     0.000000           0.000000             0.000000  \n",
       "25%       2.00000     4.522882           4.531604             4.545107  \n",
       "50%       5.00000     4.908063           4.921666             4.922032  \n",
       "75%       7.00000     5.000000           5.000000             5.000000  \n",
       "max     999.00000     5.000000           5.000000             5.000000  "
      ]
     },
     "execution_count": 302,
     "metadata": {},
     "output_type": "execute_result"
    }
   ],
   "source": [
    "data.describe()"
   ]
  },
  {
   "cell_type": "code",
   "execution_count": 303,
   "id": "f022c603",
   "metadata": {},
   "outputs": [
    {
     "data": {
      "text/plain": [
       "0.05209223871403339"
      ]
     },
     "execution_count": 303,
     "metadata": {},
     "output_type": "execute_result"
    }
   ],
   "source": [
    "sum(abs(data['bid_quality'] - data['bid_communication'])) / len(data)"
   ]
  },
  {
   "cell_type": "markdown",
   "id": "b7e5e9ce",
   "metadata": {},
   "source": [
    "bid_quality and bid_communication are very similar, but in the same time, each of them have the difference which can have the impact on the final choosen bid"
   ]
  },
  {
   "cell_type": "code",
   "execution_count": 304,
   "id": "ac691658",
   "metadata": {},
   "outputs": [
    {
     "data": {
      "text/plain": [
       "-27"
      ]
     },
     "execution_count": 304,
     "metadata": {},
     "output_type": "execute_result"
    }
   ],
   "source": [
    "len(data['project_id'].unique()) - sum(data['bid_award_status'])"
   ]
  },
  {
   "cell_type": "code",
   "execution_count": 305,
   "id": "80e6b518",
   "metadata": {},
   "outputs": [
    {
     "data": {
      "text/plain": [
       "(0, 7258)"
      ]
     },
     "execution_count": 305,
     "metadata": {},
     "output_type": "execute_result"
    }
   ],
   "source": [
    "sum(data.duplicated()), sum(data['project_id'].duplicated())"
   ]
  },
  {
   "cell_type": "markdown",
   "id": "7fe65cf2",
   "metadata": {},
   "source": [
    "### Looking at boolean properties of bids"
   ]
  },
  {
   "cell_type": "code",
   "execution_count": 306,
   "id": "0bf65642",
   "metadata": {},
   "outputs": [
    {
     "name": "stdout",
     "output_type": "stream",
     "text": [
      "Bids len: 7741\n"
     ]
    },
    {
     "data": {
      "text/plain": [
       "(6.588296085777031, '%')"
      ]
     },
     "execution_count": 306,
     "metadata": {},
     "output_type": "execute_result"
    }
   ],
   "source": [
    "print('Bids len:', len(data))\n",
    "sum(data['bid_award_status']) / len(data) * 100, '%'"
   ]
  },
  {
   "cell_type": "code",
   "execution_count": 307,
   "id": "35a8575f",
   "metadata": {},
   "outputs": [
    {
     "name": "stdout",
     "output_type": "stream",
     "text": [
      "Len of highlighted bids: 16\n"
     ]
    },
    {
     "data": {
      "text/plain": [
       "(25.0, '%')"
      ]
     },
     "execution_count": 307,
     "metadata": {},
     "output_type": "execute_result"
    }
   ],
   "source": [
    "print('Len of highlighted bids:', sum(data['bid_highlighted']))\n",
    "sum(data.loc[data['bid_highlighted']]['bid_award_status']) / sum(data['bid_highlighted']) * 100, '%'"
   ]
  },
  {
   "cell_type": "code",
   "execution_count": 308,
   "id": "d2564072",
   "metadata": {},
   "outputs": [
    {
     "name": "stdout",
     "output_type": "stream",
     "text": [
      "Len of sealed bids: 1114\n"
     ]
    },
    {
     "data": {
      "text/plain": [
       "(8.617594254937163, '%')"
      ]
     },
     "execution_count": 308,
     "metadata": {},
     "output_type": "execute_result"
    }
   ],
   "source": [
    "print('Len of sealed bids:', sum(data['bid_sealed']))\n",
    "sum(data.loc[data['bid_sealed']]['bid_award_status']) / sum(data['bid_sealed']) * 100, '%'"
   ]
  },
  {
   "cell_type": "code",
   "execution_count": 309,
   "id": "0f089fe8",
   "metadata": {},
   "outputs": [],
   "source": [
    "data = data.drop(['bid_highlighted'], axis=1)"
   ]
  },
  {
   "cell_type": "markdown",
   "id": "100d453c",
   "metadata": {},
   "source": [
    "highlighted is negligible because of the a very little amount of such bids compared to all others, while sealed can play a little role"
   ]
  },
  {
   "cell_type": "markdown",
   "id": "2713cefe",
   "metadata": {},
   "source": [
    "### Adding features"
   ]
  },
  {
   "cell_type": "code",
   "execution_count": 310,
   "id": "1362b933",
   "metadata": {},
   "outputs": [],
   "source": [
    "data['project/bid_amount_proportion'] = data['bid_amount'] / data['project_min_amount']\n",
    "data = data.drop(['bid_amount', 'project_min_amount', 'project_max_amount'], axis=1)"
   ]
  },
  {
   "cell_type": "code",
   "execution_count": 311,
   "id": "3eeafd90",
   "metadata": {},
   "outputs": [],
   "source": [
    "# default bid period = 7days\n",
    "data['bid_delay'] = (data['bid_time_submitted'] - data['project_time_submitted']) / (3600*24*7) \n",
    "data = data.drop(['project_time_submitted', 'bid_time_submitted'], axis=1)"
   ]
  },
  {
   "cell_type": "markdown",
   "id": "77e263dd",
   "metadata": {},
   "source": [
    "### Transform text data in features"
   ]
  },
  {
   "cell_type": "code",
   "execution_count": 312,
   "id": "6a9e3481",
   "metadata": {},
   "outputs": [],
   "source": [
    "proportions = []\n",
    "\n",
    "projects_titles_words = data['project_title'].apply(lambda x: x.split() if x else []).apply(set)\n",
    "bid_descrs_words = data['bid_description'].apply(lambda x: x.split() if x else []).apply(set)\n",
    "\n",
    "for project_title_set, bid_descr_set in zip(projects_titles_words, bid_descrs_words):\n",
    "    words_checked = [word in bid_descr_set for word in project_title_set]\n",
    "    proportions.append(sum(words_checked) / len(words_checked))\n",
    "    \n",
    "data['same_words_title/bid_proportion'] = proportions"
   ]
  },
  {
   "cell_type": "code",
   "execution_count": 313,
   "id": "22ff5229",
   "metadata": {},
   "outputs": [],
   "source": [
    "proportions = []\n",
    "\n",
    "projects_descrs_words = data['project_description'].apply(lambda x: x.split() if x else []).apply(set)\n",
    "bid_descrs_words = data['bid_description'].apply(lambda x: x.split() if x else []).apply(set)\n",
    "\n",
    "for project_descr_set, bid_descr_set in zip(projects_descrs_words, bid_descrs_words):\n",
    "    words_checked = [word in bid_descr_set for word in project_descr_set]\n",
    "    proportions.append(sum(words_checked) / len(words_checked))\n",
    "    \n",
    "data['same_words_descr/bid_proportion'] = proportions"
   ]
  },
  {
   "cell_type": "code",
   "execution_count": 314,
   "id": "b121932e",
   "metadata": {},
   "outputs": [],
   "source": [
    "data['bid_descr_len'] = data['bid_description'].apply(lambda x: len(x.split()) if x else 0)"
   ]
  },
  {
   "cell_type": "code",
   "execution_count": 315,
   "id": "3743b610",
   "metadata": {},
   "outputs": [],
   "source": [
    "proj_descr_len = data['project_description'].apply(lambda x: len(x.split()) if x else 0)"
   ]
  },
  {
   "cell_type": "code",
   "execution_count": 316,
   "id": "37750012",
   "metadata": {},
   "outputs": [],
   "source": [
    "data['proj/bid_lens_proportion'] = data['bid_descr_len'] / proj_descr_len"
   ]
  },
  {
   "cell_type": "code",
   "execution_count": 317,
   "id": "c3062b05",
   "metadata": {},
   "outputs": [],
   "source": [
    "greetings = ['good afternoon', 'good morning', 'how are you', 'how do you do', 'dear sir',\n",
    "             'good night', 'hi', 'hello', 'pleased to meet you']\n",
    "\n",
    "data['bid_greetings'] = data['bid_description'].apply(lambda x: x.lower() if x else '').apply(\n",
    "    lambda x: any([x.find(greeting) != -1  for greeting in greetings]))"
   ]
  },
  {
   "cell_type": "code",
   "execution_count": 318,
   "id": "0c6e6b10",
   "metadata": {},
   "outputs": [
    {
     "data": {
      "text/plain": [
       "1748"
      ]
     },
     "execution_count": 318,
     "metadata": {},
     "output_type": "execute_result"
    }
   ],
   "source": [
    "len(data) - sum(data['bid_greetings']) # without greeting"
   ]
  },
  {
   "cell_type": "markdown",
   "id": "dced57e7",
   "metadata": {},
   "source": [
    "### Look at correlations with new added features"
   ]
  },
  {
   "cell_type": "code",
   "execution_count": 319,
   "id": "ea39b6c2",
   "metadata": {},
   "outputs": [],
   "source": [
    "data = data.drop(['project_title', 'project_description', 'bid_description'], axis=1)"
   ]
  },
  {
   "cell_type": "code",
   "execution_count": 320,
   "id": "3eae591c",
   "metadata": {},
   "outputs": [
    {
     "data": {
      "text/plain": [
       "bid_award_status                   1.000000\n",
       "bid_communication                  0.098963\n",
       "bid_quality                        0.097988\n",
       "bid_professionalism                0.097589\n",
       "bid_score                          0.095598\n",
       "bid_delay                          0.073320\n",
       "project/bid_amount_proportion      0.054452\n",
       "bid_greetings                      0.037159\n",
       "bid_descr_len                      0.035183\n",
       "bid_sealed                         0.033538\n",
       "same_words_descr/bid_proportion    0.017861\n",
       "same_words_title/bid_proportion    0.013983\n",
       "proj/bid_lens_proportion           0.012081\n",
       "bid_period                         0.007628\n",
       "project_id                         0.004849\n",
       "Name: bid_award_status, dtype: float64"
      ]
     },
     "execution_count": 320,
     "metadata": {},
     "output_type": "execute_result"
    }
   ],
   "source": [
    "corr_matrix = data.corr()\n",
    "corr_matrix[\"bid_award_status\"].abs().sort_values(ascending=False)"
   ]
  },
  {
   "cell_type": "markdown",
   "id": "21be9cf8",
   "metadata": {},
   "source": [
    "### Adding categorical features"
   ]
  },
  {
   "cell_type": "markdown",
   "id": "5d330dfd",
   "metadata": {},
   "source": [
    "cut function generate bins with equal sizes"
   ]
  },
  {
   "cell_type": "code",
   "execution_count": 321,
   "id": "be95e45c",
   "metadata": {},
   "outputs": [],
   "source": [
    "data['bin_quality'] = pd.cut(data['bid_quality'], bins=2, \n",
    "                             labels=False, include_lowest=True).astype( bool )"
   ]
  },
  {
   "cell_type": "code",
   "execution_count": 322,
   "id": "9e5d5f83",
   "metadata": {},
   "outputs": [],
   "source": [
    "data['bid_communication'] = pd.cut(data['bid_communication'], bins=2, \n",
    "                             labels=False, include_lowest=True).astype( bool )"
   ]
  },
  {
   "cell_type": "code",
   "execution_count": 323,
   "id": "f59689a0",
   "metadata": {},
   "outputs": [],
   "source": [
    "data['bid_professionalism'] = pd.cut(data['bid_professionalism'], bins=2, \n",
    "                             labels=False, include_lowest=True).astype( bool )"
   ]
  },
  {
   "cell_type": "markdown",
   "id": "0e0bbabc",
   "metadata": {},
   "source": [
    "### Looking at linear dependencies"
   ]
  },
  {
   "cell_type": "code",
   "execution_count": 324,
   "id": "9b864e7d",
   "metadata": {},
   "outputs": [
    {
     "data": {
      "text/plain": [
       "(0.39690506293117, 99.0)"
      ]
     },
     "execution_count": 324,
     "metadata": {},
     "output_type": "execute_result"
    }
   ],
   "source": [
    "min(data['bid_score']), max(data['bid_score'])"
   ]
  },
  {
   "cell_type": "code",
   "execution_count": 325,
   "id": "aee6b308",
   "metadata": {},
   "outputs": [
    {
     "data": {
      "text/plain": [
       "29"
      ]
     },
     "execution_count": 325,
     "metadata": {},
     "output_type": "execute_result"
    }
   ],
   "source": [
    "sum(data['bid_score'] > 50.)"
   ]
  },
  {
   "cell_type": "code",
   "execution_count": 326,
   "id": "a8f97ca0",
   "metadata": {},
   "outputs": [],
   "source": [
    "data = data.drop(np.where(data['bid_score'] > 50.)[0], axis=0).reset_index(drop=True)"
   ]
  },
  {
   "cell_type": "code",
   "execution_count": 327,
   "id": "cba776dd",
   "metadata": {},
   "outputs": [],
   "source": [
    "import matplotlib.pyplot as plt\n",
    "\n",
    "def take_proportion_importance(prop_name):\n",
    "\n",
    "    score_mean = np.mean(data[prop_name])\n",
    "\n",
    "    big_score = data[prop_name] >= score_mean\n",
    "    bid_score_percents = sum(data.loc[big_score]['bid_award_status']) / sum(big_score) * 100\n",
    "\n",
    "    little_score = data[prop_name] < score_mean\n",
    "    little_score_percents = sum(data.loc[little_score]['bid_award_status']) / sum(little_score) * 100\n",
    "\n",
    "    print((bid_score_percents, sum(big_score)), (little_score_percents, sum(little_score)))"
   ]
  },
  {
   "cell_type": "markdown",
   "id": "2a7181a1",
   "metadata": {},
   "source": [
    "bid_score also doesn't influence a lot on awardness of the bid"
   ]
  },
  {
   "cell_type": "code",
   "execution_count": 328,
   "id": "286e4744",
   "metadata": {},
   "outputs": [
    {
     "name": "stdout",
     "output_type": "stream",
     "text": [
      "(7.59493670886076, 3002) (5.711252653927813, 4710)\n"
     ]
    },
    {
     "data": {
      "text/plain": [
       "[<matplotlib.lines.Line2D at 0x7fe6922a8f40>]"
      ]
     },
     "execution_count": 328,
     "metadata": {},
     "output_type": "execute_result"
    },
    {
     "data": {
      "image/png": "[encoded data removed]",
      "text/plain": [
       "<Figure size 640x480 with 1 Axes>"
      ]
     },
     "metadata": {},
     "output_type": "display_data"
    }
   ],
   "source": [
    "take_proportion_importance('bid_score')\n",
    "plt.plot(data['bid_score'], data['bid_award_status'], 'ro')"
   ]
  },
  {
   "cell_type": "code",
   "execution_count": 329,
   "id": "32f62bc2",
   "metadata": {},
   "outputs": [
    {
     "name": "stdout",
     "output_type": "stream",
     "text": [
      "(3.6658442016214314, 2837) (8.061538461538461, 4875)\n"
     ]
    },
    {
     "data": {
      "text/plain": [
       "[<matplotlib.lines.Line2D at 0x7fe6ed264430>]"
      ]
     },
     "execution_count": 329,
     "metadata": {},
     "output_type": "execute_result"
    },
    {
     "data": {
      "image/png": "[encoded data removed]",
      "text/plain": [
       "<Figure size 640x480 with 1 Axes>"
      ]
     },
     "metadata": {},
     "output_type": "display_data"
    }
   ],
   "source": [
    "take_proportion_importance('project/bid_amount_proportion')\n",
    "plt.plot(data['project/bid_amount_proportion'], data['bid_award_status'], 'ro')"
   ]
  },
  {
   "cell_type": "code",
   "execution_count": 330,
   "id": "237b206d",
   "metadata": {},
   "outputs": [
    {
     "name": "stdout",
     "output_type": "stream",
     "text": [
      "(8.84861407249467, 1876) (5.671692940370116, 5836)\n"
     ]
    }
   ],
   "source": [
    "take_proportion_importance('bid_delay')"
   ]
  },
  {
   "cell_type": "markdown",
   "id": "44ea48e3",
   "metadata": {},
   "source": [
    "### prepare data"
   ]
  },
  {
   "cell_type": "code",
   "execution_count": 331,
   "id": "5258e85c",
   "metadata": {},
   "outputs": [
    {
     "name": "stdout",
     "output_type": "stream",
     "text": [
      "bid_score\n"
     ]
    },
    {
     "data": {
      "image/png": "[encoded data removed]",
      "text/plain": [
       "<Figure size 640x480 with 1 Axes>"
      ]
     },
     "metadata": {},
     "output_type": "display_data"
    },
    {
     "name": "stdout",
     "output_type": "stream",
     "text": [
      "bid_period\n"
     ]
    },
    {
     "data": {
      "image/png": "[encoded data removed]",
      "text/plain": [
       "<Figure size 640x480 with 1 Axes>"
      ]
     },
     "metadata": {},
     "output_type": "display_data"
    },
    {
     "name": "stdout",
     "output_type": "stream",
     "text": [
      "bid_quality\n"
     ]
    },
    {
     "data": {
      "image/png": "[encoded data removed]",
      "text/plain": [
       "<Figure size 640x480 with 1 Axes>"
      ]
     },
     "metadata": {},
     "output_type": "display_data"
    },
    {
     "name": "stdout",
     "output_type": "stream",
     "text": [
      "project/bid_amount_proportion\n"
     ]
    },
    {
     "data": {
      "image/png": "[encoded data removed]",
      "text/plain": [
       "<Figure size 640x480 with 1 Axes>"
      ]
     },
     "metadata": {},
     "output_type": "display_data"
    },
    {
     "name": "stdout",
     "output_type": "stream",
     "text": [
      "bid_delay\n"
     ]
    },
    {
     "data": {
      "image/png": "[encoded data removed]",
      "text/plain": [
       "<Figure size 640x480 with 1 Axes>"
      ]
     },
     "metadata": {},
     "output_type": "display_data"
    },
    {
     "name": "stdout",
     "output_type": "stream",
     "text": [
      "same_words_title/bid_proportion\n"
     ]
    },
    {
     "data": {
      "image/png": "[encoded data removed]",
      "text/plain": [
       "<Figure size 640x480 with 1 Axes>"
      ]
     },
     "metadata": {},
     "output_type": "display_data"
    },
    {
     "name": "stdout",
     "output_type": "stream",
     "text": [
      "same_words_descr/bid_proportion\n"
     ]
    },
    {
     "data": {
      "image/png": "[encoded data removed]",
      "text/plain": [
       "<Figure size 640x480 with 1 Axes>"
      ]
     },
     "metadata": {},
     "output_type": "display_data"
    },
    {
     "name": "stdout",
     "output_type": "stream",
     "text": [
      "bid_descr_len\n"
     ]
    },
    {
     "data": {
      "image/png": "[encoded data removed]",
      "text/plain": [
       "<Figure size 640x480 with 1 Axes>"
      ]
     },
     "metadata": {},
     "output_type": "display_data"
    },
    {
     "name": "stdout",
     "output_type": "stream",
     "text": [
      "proj/bid_lens_proportion\n"
     ]
    },
    {
     "data": {
      "image/png": "[encoded data removed]",
      "text/plain": [
       "<Figure size 640x480 with 1 Axes>"
      ]
     },
     "metadata": {},
     "output_type": "display_data"
    }
   ],
   "source": [
    "for column in data.select_dtypes(include=['number']).columns:\n",
    "    if column in ['project_id']: continue\n",
    "        \n",
    "#     plt.figure(figsize=(10,2))\n",
    "    print(column)\n",
    "    data[column].plot.hist()\n",
    "    plt.show()"
   ]
  },
  {
   "cell_type": "code",
   "execution_count": 332,
   "id": "ac9a45a8",
   "metadata": {},
   "outputs": [],
   "source": [
    "from sklearn.model_selection import StratifiedShuffleSplit\n",
    "\n",
    "sss = StratifiedShuffleSplit(n_splits=1, test_size=.2)\n",
    "\n",
    "X = data.drop(['project_id', 'bid_award_status'], axis=1)\n",
    "project_ids = data['project_id'].values\n",
    "\n",
    "X_num, X_cat = X.select_dtypes(include=['number']).values, X.select_dtypes(exclude=['number']).values\n",
    "\n",
    "y = data['bid_award_status'].to_numpy()\n",
    "\n",
    "for train_index, test_index in sss.split(X,y):\n",
    "    X_train_num, X_test_num  = X_num[train_index], X_num[test_index]\n",
    "    X_train_cat, X_test_cat = X_cat[train_index], X_cat[test_index]\n",
    "    \n",
    "    y_train, y_test = y[train_index], y[test_index]\n",
    "    \n",
    "    project_ids = np.append(project_ids[train_index], project_ids[test_index])"
   ]
  },
  {
   "cell_type": "code",
   "execution_count": 333,
   "id": "ab16f971",
   "metadata": {},
   "outputs": [],
   "source": [
    "from sklearn.preprocessing import MinMaxScaler, StandardScaler\n",
    "\n",
    "scaler = StandardScaler()\n",
    "\n",
    "X_train_num = scaler.fit_transform(X_train_num)\n",
    "X_test_num = scaler.transform(X_test_num)"
   ]
  },
  {
   "cell_type": "code",
   "execution_count": 334,
   "id": "a23389bd",
   "metadata": {},
   "outputs": [],
   "source": [
    "X_train, X_test = np.c_[X_train_num, X_train_cat], np.c_[X_test_num, X_test_cat]"
   ]
  },
  {
   "cell_type": "code",
   "execution_count": 335,
   "id": "0a8dd4e5",
   "metadata": {},
   "outputs": [],
   "source": [
    "# for train_index, val_index in sss.split(X_train, y_train):\n",
    "#     X_val, y_val = X_train[val_index], y_train[val_index]\n",
    "#     X_train, y_train = X_train[train_index], y_train[train_index]"
   ]
  },
  {
   "cell_type": "markdown",
   "id": "7a0cc917",
   "metadata": {},
   "source": [
    "### Algorithms checking"
   ]
  },
  {
   "cell_type": "code",
   "execution_count": 336,
   "id": "aada6a37",
   "metadata": {
    "scrolled": true
   },
   "outputs": [
    {
     "name": "stdout",
     "output_type": "stream",
     "text": [
      "LogisticRegression\n",
      "accuracy 49.97%\n",
      "precision 9.21%\n",
      "recall 76.77%\n",
      "\n",
      "RandomForestClassifier\n",
      "accuracy 93.58%\n",
      "precision 50.0%\n",
      "recall 1.01%\n",
      "\n",
      "GradientBoostingClassifier\n",
      "accuracy 93.71%\n",
      "precision 75.0%\n",
      "recall 3.03%\n",
      "\n",
      "SVC\n",
      "accuracy 55.61%\n",
      "precision 9.97%\n",
      "recall 73.74%\n",
      "\n",
      "LinearSVC\n"
     ]
    },
    {
     "name": "stderr",
     "output_type": "stream",
     "text": [
      "/home/hacker/_sources/_apps/anaconda3/envs/tf/lib/python3.8/site-packages/sklearn/svm/_base.py:1244: ConvergenceWarning: Liblinear failed to converge, increase the number of iterations.\n",
      "  warnings.warn(\n"
     ]
    },
    {
     "name": "stdout",
     "output_type": "stream",
     "text": [
      "accuracy 48.35%\n",
      "precision 9.13%\n",
      "recall 78.79%\n",
      "\n",
      "KNeighborsClassifier\n",
      "accuracy 93.52%\n",
      "precision 45.45%\n",
      "recall 5.05%\n",
      "\n",
      "GaussianNB\n",
      "accuracy 29.16%\n",
      "precision 7.67%\n",
      "recall 90.91%\n",
      "\n"
     ]
    }
   ],
   "source": [
    "from sklearn.linear_model import LogisticRegression\n",
    "from sklearn.ensemble import RandomForestClassifier, GradientBoostingClassifier\n",
    "from sklearn.neighbors import KNeighborsClassifier\n",
    "from sklearn.naive_bayes import GaussianNB\n",
    "from sklearn.svm import LinearSVC, SVC\n",
    "\n",
    "from sklearn.metrics import accuracy_score, precision_score, recall_score\n",
    "\n",
    "def get_metrics(y,pred):\n",
    "    for metric in [accuracy_score, precision_score, recall_score]:\n",
    "        if metric.__name__ == 'accuracy_score':\n",
    "            result = metric(y, pred)\n",
    "        else:\n",
    "            result = metric(y, pred, zero_division=0)\n",
    "        print(metric.__name__[:-6], f'{round(result*100,2)}%')\n",
    "\n",
    "\n",
    "models = [LogisticRegression, RandomForestClassifier, GradientBoostingClassifier, SVC, LinearSVC,\n",
    "          KNeighborsClassifier, GaussianNB]\n",
    "for model in models:\n",
    "    \n",
    "    print(model.__name__)\n",
    "    \n",
    "    try:\n",
    "        model = model(class_weight='balanced', )\n",
    "    except:\n",
    "        model = model()\n",
    "        \n",
    "    model.fit(X_train, y_train)\n",
    "    \n",
    "    pred = model.predict(X_test)\n",
    "    \n",
    "    get_metrics(y_test,pred)\n",
    "        \n",
    "    print()"
   ]
  },
  {
   "cell_type": "markdown",
   "id": "8ecc48bb",
   "metadata": {},
   "source": [
    "### Further training of one of the best models (SVC - Support Vector Classification)"
   ]
  },
  {
   "cell_type": "code",
   "execution_count": 337,
   "id": "e8ded682",
   "metadata": {},
   "outputs": [
    {
     "name": "stdout",
     "output_type": "stream",
     "text": [
      "Fitting 3 folds for each of 10 candidates, totalling 30 fits\n",
      "[CV] END .....C=2.9795712456729833, gamma=0.0022469075884805; total time=   1.6s\n",
      "[CV] END .....C=2.9795712456729833, gamma=0.0022469075884805; total time=   1.6s\n",
      "[CV] END .....C=2.9795712456729833, gamma=0.0022469075884805; total time=   1.6s\n",
      "[CV] END ....C=12.513403566980532, gamma=0.02955194223498697; total time=   1.5s\n",
      "[CV] END ....C=12.513403566980532, gamma=0.02955194223498697; total time=   1.5s\n",
      "[CV] END ....C=12.513403566980532, gamma=0.02955194223498697; total time=   1.5s\n",
      "[CV] END ...C=3.524400448502831, gamma=0.0002197222920863366; total time=   1.9s\n",
      "[CV] END ...C=3.524400448502831, gamma=0.0002197222920863366; total time=   1.9s\n",
      "[CV] END ...C=3.524400448502831, gamma=0.0002197222920863366; total time=   1.8s\n",
      "[CV] END ...C=10.761106844109145, gamma=0.011009214500460713; total time=   1.5s\n",
      "[CV] END ...C=10.761106844109145, gamma=0.011009214500460713; total time=   1.8s\n",
      "[CV] END ...C=10.761106844109145, gamma=0.011009214500460713; total time=   1.6s\n",
      "[CV] END ...C=10.371403177427645, gamma=0.009470962799019675; total time=   1.5s\n",
      "[CV] END ...C=10.371403177427645, gamma=0.009470962799019675; total time=   1.5s\n",
      "[CV] END ...C=10.371403177427645, gamma=0.009470962799019675; total time=   1.5s\n",
      "[CV] END ....C=9.025426205131973, gamma=0.001115179296341253; total time=   1.7s\n",
      "[CV] END ....C=9.025426205131973, gamma=0.001115179296341253; total time=   1.6s\n",
      "[CV] END ....C=9.025426205131973, gamma=0.001115179296341253; total time=   1.8s\n",
      "[CV] END ...C=7.5962885964891225, gamma=0.011107929299450354; total time=   1.6s\n",
      "[CV] END ...C=7.5962885964891225, gamma=0.011107929299450354; total time=   1.7s\n",
      "[CV] END ...C=7.5962885964891225, gamma=0.011107929299450354; total time=   1.6s\n",
      "[CV] END ....C=8.47815316091619, gamma=0.0007511673332018612; total time=   1.7s\n",
      "[CV] END ....C=8.47815316091619, gamma=0.0007511673332018612; total time=   1.7s\n",
      "[CV] END ....C=8.47815316091619, gamma=0.0007511673332018612; total time=   1.7s\n",
      "[CV] END ......C=1.36392599622528, gamma=0.07586795381188935; total time=   1.6s\n",
      "[CV] END ......C=1.36392599622528, gamma=0.07586795381188935; total time=   1.6s\n",
      "[CV] END ......C=1.36392599622528, gamma=0.07586795381188935; total time=   2.1s\n",
      "[CV] END ...C=7.3308049907478745, gamma=0.045798151396616624; total time=   2.0s\n",
      "[CV] END ...C=7.3308049907478745, gamma=0.045798151396616624; total time=   1.9s\n",
      "[CV] END ...C=7.3308049907478745, gamma=0.045798151396616624; total time=   1.8s\n"
     ]
    },
    {
     "data": {
      "text/html": [
       "<style>#sk-container-id-11 {color: black;background-color: white;}#sk-container-id-11 pre{padding: 0;}#sk-container-id-11 div.sk-toggleable {background-color: white;}#sk-container-id-11 label.sk-toggleable__label {cursor: pointer;display: block;width: 100%;margin-bottom: 0;padding: 0.3em;box-sizing: border-box;text-align: center;}#sk-container-id-11 label.sk-toggleable__label-arrow:before {content: \"▸\";float: left;margin-right: 0.25em;color: #696969;}#sk-container-id-11 label.sk-toggleable__label-arrow:hover:before {color: black;}#sk-container-id-11 div.sk-estimator:hover label.sk-toggleable__label-arrow:before {color: black;}#sk-container-id-11 div.sk-toggleable__content {max-height: 0;max-width: 0;overflow: hidden;text-align: left;background-color: #f0f8ff;}#sk-container-id-11 div.sk-toggleable__content pre {margin: 0.2em;color: black;border-radius: 0.25em;background-color: #f0f8ff;}#sk-container-id-11 input.sk-toggleable__control:checked~div.sk-toggleable__content {max-height: 200px;max-width: 100%;overflow: auto;}#sk-container-id-11 input.sk-toggleable__control:checked~label.sk-toggleable__label-arrow:before {content: \"▾\";}#sk-container-id-11 div.sk-estimator input.sk-toggleable__control:checked~label.sk-toggleable__label {background-color: #d4ebff;}#sk-container-id-11 div.sk-label input.sk-toggleable__control:checked~label.sk-toggleable__label {background-color: #d4ebff;}#sk-container-id-11 input.sk-hidden--visually {border: 0;clip: rect(1px 1px 1px 1px);clip: rect(1px, 1px, 1px, 1px);height: 1px;margin: -1px;overflow: hidden;padding: 0;position: absolute;width: 1px;}#sk-container-id-11 div.sk-estimator {font-family: monospace;background-color: #f0f8ff;border: 1px dotted black;border-radius: 0.25em;box-sizing: border-box;margin-bottom: 0.5em;}#sk-container-id-11 div.sk-estimator:hover {background-color: #d4ebff;}#sk-container-id-11 div.sk-parallel-item::after {content: \"\";width: 100%;border-bottom: 1px solid gray;flex-grow: 1;}#sk-container-id-11 div.sk-label:hover label.sk-toggleable__label {background-color: #d4ebff;}#sk-container-id-11 div.sk-serial::before {content: \"\";position: absolute;border-left: 1px solid gray;box-sizing: border-box;top: 0;bottom: 0;left: 50%;z-index: 0;}#sk-container-id-11 div.sk-serial {display: flex;flex-direction: column;align-items: center;background-color: white;padding-right: 0.2em;padding-left: 0.2em;position: relative;}#sk-container-id-11 div.sk-item {position: relative;z-index: 1;}#sk-container-id-11 div.sk-parallel {display: flex;align-items: stretch;justify-content: center;background-color: white;position: relative;}#sk-container-id-11 div.sk-item::before, #sk-container-id-11 div.sk-parallel-item::before {content: \"\";position: absolute;border-left: 1px solid gray;box-sizing: border-box;top: 0;bottom: 0;left: 50%;z-index: -1;}#sk-container-id-11 div.sk-parallel-item {display: flex;flex-direction: column;z-index: 1;position: relative;background-color: white;}#sk-container-id-11 div.sk-parallel-item:first-child::after {align-self: flex-end;width: 50%;}#sk-container-id-11 div.sk-parallel-item:last-child::after {align-self: flex-start;width: 50%;}#sk-container-id-11 div.sk-parallel-item:only-child::after {width: 0;}#sk-container-id-11 div.sk-dashed-wrapped {border: 1px dashed gray;margin: 0 0.4em 0.5em 0.4em;box-sizing: border-box;padding-bottom: 0.4em;background-color: white;}#sk-container-id-11 div.sk-label label {font-family: monospace;font-weight: bold;display: inline-block;line-height: 1.2em;}#sk-container-id-11 div.sk-label-container {text-align: center;}#sk-container-id-11 div.sk-container {/* jupyter's `normalize.less` sets `[hidden] { display: none; }` but bootstrap.min.css set `[hidden] { display: none !important; }` so we also need the `!important` here to be able to override the default hidden behavior on the sphinx rendered scikit-learn.org. See: https://github.com/scikit-learn/scikit-learn/issues/21755 */display: inline-block !important;position: relative;}#sk-container-id-11 div.sk-text-repr-fallback {display: none;}</style><div id=\"sk-container-id-11\" class=\"sk-top-container\"><div class=\"sk-text-repr-fallback\"><pre>RandomizedSearchCV(cv=3, estimator=SVC(class_weight=&#x27;balanced&#x27;),\n",
       "                   param_distributions={&#x27;C&#x27;: &lt;scipy.stats._distn_infrastructure.rv_continuous_frozen object at 0x7fe6ec333790&gt;,\n",
       "                                        &#x27;gamma&#x27;: &lt;scipy.stats._distn_infrastructure.rv_continuous_frozen object at 0x7fe6d3099af0&gt;},\n",
       "                   scoring=&#x27;f1&#x27;, verbose=2)</pre><b>In a Jupyter environment, please rerun this cell to show the HTML representation or trust the notebook. <br />On GitHub, the HTML representation is unable to render, please try loading this page with nbviewer.org.</b></div><div class=\"sk-container\" hidden><div class=\"sk-item sk-dashed-wrapped\"><div class=\"sk-label-container\"><div class=\"sk-label sk-toggleable\"><input class=\"sk-toggleable__control sk-hidden--visually\" id=\"sk-estimator-id-21\" type=\"checkbox\" ><label for=\"sk-estimator-id-21\" class=\"sk-toggleable__label sk-toggleable__label-arrow\">RandomizedSearchCV</label><div class=\"sk-toggleable__content\"><pre>RandomizedSearchCV(cv=3, estimator=SVC(class_weight=&#x27;balanced&#x27;),\n",
       "                   param_distributions={&#x27;C&#x27;: &lt;scipy.stats._distn_infrastructure.rv_continuous_frozen object at 0x7fe6ec333790&gt;,\n",
       "                                        &#x27;gamma&#x27;: &lt;scipy.stats._distn_infrastructure.rv_continuous_frozen object at 0x7fe6d3099af0&gt;},\n",
       "                   scoring=&#x27;f1&#x27;, verbose=2)</pre></div></div></div><div class=\"sk-parallel\"><div class=\"sk-parallel-item\"><div class=\"sk-item\"><div class=\"sk-label-container\"><div class=\"sk-label sk-toggleable\"><input class=\"sk-toggleable__control sk-hidden--visually\" id=\"sk-estimator-id-22\" type=\"checkbox\" ><label for=\"sk-estimator-id-22\" class=\"sk-toggleable__label sk-toggleable__label-arrow\">estimator: SVC</label><div class=\"sk-toggleable__content\"><pre>SVC(class_weight=&#x27;balanced&#x27;)</pre></div></div></div><div class=\"sk-serial\"><div class=\"sk-item\"><div class=\"sk-estimator sk-toggleable\"><input class=\"sk-toggleable__control sk-hidden--visually\" id=\"sk-estimator-id-23\" type=\"checkbox\" ><label for=\"sk-estimator-id-23\" class=\"sk-toggleable__label sk-toggleable__label-arrow\">SVC</label><div class=\"sk-toggleable__content\"><pre>SVC(class_weight=&#x27;balanced&#x27;)</pre></div></div></div></div></div></div></div></div></div></div>"
      ],
      "text/plain": [
       "RandomizedSearchCV(cv=3, estimator=SVC(class_weight='balanced'),\n",
       "                   param_distributions={'C': <scipy.stats._distn_infrastructure.rv_continuous_frozen object at 0x7fe6ec333790>,\n",
       "                                        'gamma': <scipy.stats._distn_infrastructure.rv_continuous_frozen object at 0x7fe6d3099af0>},\n",
       "                   scoring='f1', verbose=2)"
      ]
     },
     "execution_count": 337,
     "metadata": {},
     "output_type": "execute_result"
    }
   ],
   "source": [
    "from sklearn.model_selection import RandomizedSearchCV\n",
    "from scipy.stats import reciprocal, uniform\n",
    "\n",
    "svc = SVC(class_weight='balanced')\n",
    "\n",
    "params_distributions = {\"gamma\": reciprocal(.0001, 0.5), \"C\": uniform(1,15)}\n",
    "rnd_search_cv = RandomizedSearchCV(svc, params_distributions, n_iter=10, verbose=2, cv=3, scoring='f1')\n",
    "rnd_search_cv.fit(X_train, y_train)"
   ]
  },
  {
   "cell_type": "code",
   "execution_count": 338,
   "id": "dc9d433b",
   "metadata": {},
   "outputs": [
    {
     "data": {
      "text/plain": [
       "18.34"
      ]
     },
     "execution_count": 338,
     "metadata": {},
     "output_type": "execute_result"
    }
   ],
   "source": [
    "round(rnd_search_cv.best_score_*100,2)"
   ]
  },
  {
   "cell_type": "code",
   "execution_count": 339,
   "id": "c5389e20",
   "metadata": {},
   "outputs": [
    {
     "data": {
      "text/html": [
       "<style>#sk-container-id-12 {color: black;background-color: white;}#sk-container-id-12 pre{padding: 0;}#sk-container-id-12 div.sk-toggleable {background-color: white;}#sk-container-id-12 label.sk-toggleable__label {cursor: pointer;display: block;width: 100%;margin-bottom: 0;padding: 0.3em;box-sizing: border-box;text-align: center;}#sk-container-id-12 label.sk-toggleable__label-arrow:before {content: \"▸\";float: left;margin-right: 0.25em;color: #696969;}#sk-container-id-12 label.sk-toggleable__label-arrow:hover:before {color: black;}#sk-container-id-12 div.sk-estimator:hover label.sk-toggleable__label-arrow:before {color: black;}#sk-container-id-12 div.sk-toggleable__content {max-height: 0;max-width: 0;overflow: hidden;text-align: left;background-color: #f0f8ff;}#sk-container-id-12 div.sk-toggleable__content pre {margin: 0.2em;color: black;border-radius: 0.25em;background-color: #f0f8ff;}#sk-container-id-12 input.sk-toggleable__control:checked~div.sk-toggleable__content {max-height: 200px;max-width: 100%;overflow: auto;}#sk-container-id-12 input.sk-toggleable__control:checked~label.sk-toggleable__label-arrow:before {content: \"▾\";}#sk-container-id-12 div.sk-estimator input.sk-toggleable__control:checked~label.sk-toggleable__label {background-color: #d4ebff;}#sk-container-id-12 div.sk-label input.sk-toggleable__control:checked~label.sk-toggleable__label {background-color: #d4ebff;}#sk-container-id-12 input.sk-hidden--visually {border: 0;clip: rect(1px 1px 1px 1px);clip: rect(1px, 1px, 1px, 1px);height: 1px;margin: -1px;overflow: hidden;padding: 0;position: absolute;width: 1px;}#sk-container-id-12 div.sk-estimator {font-family: monospace;background-color: #f0f8ff;border: 1px dotted black;border-radius: 0.25em;box-sizing: border-box;margin-bottom: 0.5em;}#sk-container-id-12 div.sk-estimator:hover {background-color: #d4ebff;}#sk-container-id-12 div.sk-parallel-item::after {content: \"\";width: 100%;border-bottom: 1px solid gray;flex-grow: 1;}#sk-container-id-12 div.sk-label:hover label.sk-toggleable__label {background-color: #d4ebff;}#sk-container-id-12 div.sk-serial::before {content: \"\";position: absolute;border-left: 1px solid gray;box-sizing: border-box;top: 0;bottom: 0;left: 50%;z-index: 0;}#sk-container-id-12 div.sk-serial {display: flex;flex-direction: column;align-items: center;background-color: white;padding-right: 0.2em;padding-left: 0.2em;position: relative;}#sk-container-id-12 div.sk-item {position: relative;z-index: 1;}#sk-container-id-12 div.sk-parallel {display: flex;align-items: stretch;justify-content: center;background-color: white;position: relative;}#sk-container-id-12 div.sk-item::before, #sk-container-id-12 div.sk-parallel-item::before {content: \"\";position: absolute;border-left: 1px solid gray;box-sizing: border-box;top: 0;bottom: 0;left: 50%;z-index: -1;}#sk-container-id-12 div.sk-parallel-item {display: flex;flex-direction: column;z-index: 1;position: relative;background-color: white;}#sk-container-id-12 div.sk-parallel-item:first-child::after {align-self: flex-end;width: 50%;}#sk-container-id-12 div.sk-parallel-item:last-child::after {align-self: flex-start;width: 50%;}#sk-container-id-12 div.sk-parallel-item:only-child::after {width: 0;}#sk-container-id-12 div.sk-dashed-wrapped {border: 1px dashed gray;margin: 0 0.4em 0.5em 0.4em;box-sizing: border-box;padding-bottom: 0.4em;background-color: white;}#sk-container-id-12 div.sk-label label {font-family: monospace;font-weight: bold;display: inline-block;line-height: 1.2em;}#sk-container-id-12 div.sk-label-container {text-align: center;}#sk-container-id-12 div.sk-container {/* jupyter's `normalize.less` sets `[hidden] { display: none; }` but bootstrap.min.css set `[hidden] { display: none !important; }` so we also need the `!important` here to be able to override the default hidden behavior on the sphinx rendered scikit-learn.org. See: https://github.com/scikit-learn/scikit-learn/issues/21755 */display: inline-block !important;position: relative;}#sk-container-id-12 div.sk-text-repr-fallback {display: none;}</style><div id=\"sk-container-id-12\" class=\"sk-top-container\"><div class=\"sk-text-repr-fallback\"><pre>SVC(C=7.3308049907478745, class_weight=&#x27;balanced&#x27;, gamma=0.045798151396616624)</pre><b>In a Jupyter environment, please rerun this cell to show the HTML representation or trust the notebook. <br />On GitHub, the HTML representation is unable to render, please try loading this page with nbviewer.org.</b></div><div class=\"sk-container\" hidden><div class=\"sk-item\"><div class=\"sk-estimator sk-toggleable\"><input class=\"sk-toggleable__control sk-hidden--visually\" id=\"sk-estimator-id-24\" type=\"checkbox\" checked><label for=\"sk-estimator-id-24\" class=\"sk-toggleable__label sk-toggleable__label-arrow\">SVC</label><div class=\"sk-toggleable__content\"><pre>SVC(C=7.3308049907478745, class_weight=&#x27;balanced&#x27;, gamma=0.045798151396616624)</pre></div></div></div></div></div>"
      ],
      "text/plain": [
       "SVC(C=7.3308049907478745, class_weight='balanced', gamma=0.045798151396616624)"
      ]
     },
     "execution_count": 339,
     "metadata": {},
     "output_type": "execute_result"
    }
   ],
   "source": [
    "best_estimator = rnd_search_cv.best_estimator_\n",
    "best_estimator"
   ]
  },
  {
   "cell_type": "code",
   "execution_count": 340,
   "id": "d1809b6f",
   "metadata": {},
   "outputs": [
    {
     "name": "stdout",
     "output_type": "stream",
     "text": [
      "accuracy 56.58%\n",
      "precision 9.96%\n",
      "recall 71.72%\n"
     ]
    }
   ],
   "source": [
    "pred = best_estimator.predict(X_test)\n",
    "get_metrics(y_test,pred)"
   ]
  },
  {
   "cell_type": "markdown",
   "id": "35ab6b2a",
   "metadata": {},
   "source": [
    "### Further training RandomForests"
   ]
  },
  {
   "cell_type": "code",
   "execution_count": 341,
   "id": "1b2a60c3",
   "metadata": {},
   "outputs": [
    {
     "name": "stdout",
     "output_type": "stream",
     "text": [
      "Fitting 3 folds for each of 10 candidates, totalling 30 fits\n",
      "[CV] END .....................max_features=2, n_estimators=5; total time=   0.1s\n",
      "[CV] END .....................max_features=2, n_estimators=5; total time=   0.1s\n",
      "[CV] END .....................max_features=2, n_estimators=5; total time=   0.1s\n",
      "[CV] END ....................max_features=2, n_estimators=20; total time=   0.2s\n",
      "[CV] END ....................max_features=2, n_estimators=20; total time=   0.2s\n",
      "[CV] END ....................max_features=2, n_estimators=20; total time=   0.2s\n",
      "[CV] END ...................max_features=2, n_estimators=100; total time=   0.8s\n",
      "[CV] END ...................max_features=2, n_estimators=100; total time=   0.8s\n",
      "[CV] END ...................max_features=2, n_estimators=100; total time=   0.8s\n",
      "[CV] END .....................max_features=4, n_estimators=5; total time=   0.1s\n",
      "[CV] END .....................max_features=4, n_estimators=5; total time=   0.1s\n",
      "[CV] END .....................max_features=4, n_estimators=5; total time=   0.1s\n",
      "[CV] END ....................max_features=4, n_estimators=20; total time=   0.2s\n",
      "[CV] END ....................max_features=4, n_estimators=20; total time=   0.2s\n",
      "[CV] END ....................max_features=4, n_estimators=20; total time=   0.2s\n",
      "[CV] END ...................max_features=4, n_estimators=100; total time=   1.1s\n",
      "[CV] END ...................max_features=4, n_estimators=100; total time=   1.1s\n",
      "[CV] END ...................max_features=4, n_estimators=100; total time=   1.1s\n",
      "[CV] END ....................max_depth=2, min_samples_leaf=2; total time=   0.5s\n",
      "[CV] END ....................max_depth=2, min_samples_leaf=2; total time=   0.5s\n",
      "[CV] END ....................max_depth=2, min_samples_leaf=2; total time=   0.4s\n",
      "[CV] END ....................max_depth=2, min_samples_leaf=4; total time=   0.4s\n",
      "[CV] END ....................max_depth=2, min_samples_leaf=4; total time=   0.5s\n",
      "[CV] END ....................max_depth=2, min_samples_leaf=4; total time=   0.4s\n",
      "[CV] END ....................max_depth=3, min_samples_leaf=2; total time=   0.5s\n",
      "[CV] END ....................max_depth=3, min_samples_leaf=2; total time=   0.5s\n",
      "[CV] END ....................max_depth=3, min_samples_leaf=2; total time=   0.5s\n",
      "[CV] END ....................max_depth=3, min_samples_leaf=4; total time=   0.5s\n",
      "[CV] END ....................max_depth=3, min_samples_leaf=4; total time=   0.5s\n",
      "[CV] END ....................max_depth=3, min_samples_leaf=4; total time=   0.5s\n"
     ]
    },
    {
     "data": {
      "text/html": [
       "<style>#sk-container-id-13 {color: black;background-color: white;}#sk-container-id-13 pre{padding: 0;}#sk-container-id-13 div.sk-toggleable {background-color: white;}#sk-container-id-13 label.sk-toggleable__label {cursor: pointer;display: block;width: 100%;margin-bottom: 0;padding: 0.3em;box-sizing: border-box;text-align: center;}#sk-container-id-13 label.sk-toggleable__label-arrow:before {content: \"▸\";float: left;margin-right: 0.25em;color: #696969;}#sk-container-id-13 label.sk-toggleable__label-arrow:hover:before {color: black;}#sk-container-id-13 div.sk-estimator:hover label.sk-toggleable__label-arrow:before {color: black;}#sk-container-id-13 div.sk-toggleable__content {max-height: 0;max-width: 0;overflow: hidden;text-align: left;background-color: #f0f8ff;}#sk-container-id-13 div.sk-toggleable__content pre {margin: 0.2em;color: black;border-radius: 0.25em;background-color: #f0f8ff;}#sk-container-id-13 input.sk-toggleable__control:checked~div.sk-toggleable__content {max-height: 200px;max-width: 100%;overflow: auto;}#sk-container-id-13 input.sk-toggleable__control:checked~label.sk-toggleable__label-arrow:before {content: \"▾\";}#sk-container-id-13 div.sk-estimator input.sk-toggleable__control:checked~label.sk-toggleable__label {background-color: #d4ebff;}#sk-container-id-13 div.sk-label input.sk-toggleable__control:checked~label.sk-toggleable__label {background-color: #d4ebff;}#sk-container-id-13 input.sk-hidden--visually {border: 0;clip: rect(1px 1px 1px 1px);clip: rect(1px, 1px, 1px, 1px);height: 1px;margin: -1px;overflow: hidden;padding: 0;position: absolute;width: 1px;}#sk-container-id-13 div.sk-estimator {font-family: monospace;background-color: #f0f8ff;border: 1px dotted black;border-radius: 0.25em;box-sizing: border-box;margin-bottom: 0.5em;}#sk-container-id-13 div.sk-estimator:hover {background-color: #d4ebff;}#sk-container-id-13 div.sk-parallel-item::after {content: \"\";width: 100%;border-bottom: 1px solid gray;flex-grow: 1;}#sk-container-id-13 div.sk-label:hover label.sk-toggleable__label {background-color: #d4ebff;}#sk-container-id-13 div.sk-serial::before {content: \"\";position: absolute;border-left: 1px solid gray;box-sizing: border-box;top: 0;bottom: 0;left: 50%;z-index: 0;}#sk-container-id-13 div.sk-serial {display: flex;flex-direction: column;align-items: center;background-color: white;padding-right: 0.2em;padding-left: 0.2em;position: relative;}#sk-container-id-13 div.sk-item {position: relative;z-index: 1;}#sk-container-id-13 div.sk-parallel {display: flex;align-items: stretch;justify-content: center;background-color: white;position: relative;}#sk-container-id-13 div.sk-item::before, #sk-container-id-13 div.sk-parallel-item::before {content: \"\";position: absolute;border-left: 1px solid gray;box-sizing: border-box;top: 0;bottom: 0;left: 50%;z-index: -1;}#sk-container-id-13 div.sk-parallel-item {display: flex;flex-direction: column;z-index: 1;position: relative;background-color: white;}#sk-container-id-13 div.sk-parallel-item:first-child::after {align-self: flex-end;width: 50%;}#sk-container-id-13 div.sk-parallel-item:last-child::after {align-self: flex-start;width: 50%;}#sk-container-id-13 div.sk-parallel-item:only-child::after {width: 0;}#sk-container-id-13 div.sk-dashed-wrapped {border: 1px dashed gray;margin: 0 0.4em 0.5em 0.4em;box-sizing: border-box;padding-bottom: 0.4em;background-color: white;}#sk-container-id-13 div.sk-label label {font-family: monospace;font-weight: bold;display: inline-block;line-height: 1.2em;}#sk-container-id-13 div.sk-label-container {text-align: center;}#sk-container-id-13 div.sk-container {/* jupyter's `normalize.less` sets `[hidden] { display: none; }` but bootstrap.min.css set `[hidden] { display: none !important; }` so we also need the `!important` here to be able to override the default hidden behavior on the sphinx rendered scikit-learn.org. See: https://github.com/scikit-learn/scikit-learn/issues/21755 */display: inline-block !important;position: relative;}#sk-container-id-13 div.sk-text-repr-fallback {display: none;}</style><div id=\"sk-container-id-13\" class=\"sk-top-container\"><div class=\"sk-text-repr-fallback\"><pre>RandomizedSearchCV(cv=3,\n",
       "                   estimator=RandomForestClassifier(class_weight=&#x27;balanced&#x27;),\n",
       "                   param_distributions=[{&#x27;max_features&#x27;: [2, 4],\n",
       "                                         &#x27;n_estimators&#x27;: [5, 20, 100]},\n",
       "                                        {&#x27;max_depth&#x27;: [2, 3],\n",
       "                                         &#x27;min_samples_leaf&#x27;: [2, 4]}],\n",
       "                   scoring=&#x27;recall&#x27;, verbose=2)</pre><b>In a Jupyter environment, please rerun this cell to show the HTML representation or trust the notebook. <br />On GitHub, the HTML representation is unable to render, please try loading this page with nbviewer.org.</b></div><div class=\"sk-container\" hidden><div class=\"sk-item sk-dashed-wrapped\"><div class=\"sk-label-container\"><div class=\"sk-label sk-toggleable\"><input class=\"sk-toggleable__control sk-hidden--visually\" id=\"sk-estimator-id-25\" type=\"checkbox\" ><label for=\"sk-estimator-id-25\" class=\"sk-toggleable__label sk-toggleable__label-arrow\">RandomizedSearchCV</label><div class=\"sk-toggleable__content\"><pre>RandomizedSearchCV(cv=3,\n",
       "                   estimator=RandomForestClassifier(class_weight=&#x27;balanced&#x27;),\n",
       "                   param_distributions=[{&#x27;max_features&#x27;: [2, 4],\n",
       "                                         &#x27;n_estimators&#x27;: [5, 20, 100]},\n",
       "                                        {&#x27;max_depth&#x27;: [2, 3],\n",
       "                                         &#x27;min_samples_leaf&#x27;: [2, 4]}],\n",
       "                   scoring=&#x27;recall&#x27;, verbose=2)</pre></div></div></div><div class=\"sk-parallel\"><div class=\"sk-parallel-item\"><div class=\"sk-item\"><div class=\"sk-label-container\"><div class=\"sk-label sk-toggleable\"><input class=\"sk-toggleable__control sk-hidden--visually\" id=\"sk-estimator-id-26\" type=\"checkbox\" ><label for=\"sk-estimator-id-26\" class=\"sk-toggleable__label sk-toggleable__label-arrow\">estimator: RandomForestClassifier</label><div class=\"sk-toggleable__content\"><pre>RandomForestClassifier(class_weight=&#x27;balanced&#x27;)</pre></div></div></div><div class=\"sk-serial\"><div class=\"sk-item\"><div class=\"sk-estimator sk-toggleable\"><input class=\"sk-toggleable__control sk-hidden--visually\" id=\"sk-estimator-id-27\" type=\"checkbox\" ><label for=\"sk-estimator-id-27\" class=\"sk-toggleable__label sk-toggleable__label-arrow\">RandomForestClassifier</label><div class=\"sk-toggleable__content\"><pre>RandomForestClassifier(class_weight=&#x27;balanced&#x27;)</pre></div></div></div></div></div></div></div></div></div></div>"
      ],
      "text/plain": [
       "RandomizedSearchCV(cv=3,\n",
       "                   estimator=RandomForestClassifier(class_weight='balanced'),\n",
       "                   param_distributions=[{'max_features': [2, 4],\n",
       "                                         'n_estimators': [5, 20, 100]},\n",
       "                                        {'max_depth': [2, 3],\n",
       "                                         'min_samples_leaf': [2, 4]}],\n",
       "                   scoring='recall', verbose=2)"
      ]
     },
     "execution_count": 341,
     "metadata": {},
     "output_type": "execute_result"
    }
   ],
   "source": [
    "from sklearn.model_selection import GridSearchCV\n",
    "\n",
    "svc = RandomForestClassifier(class_weight='balanced')\n",
    "\n",
    "params_grid = [{\"n_estimators\": [5,20,100], \"max_features\": [2,4]},\n",
    "               {\"min_samples_leaf\": [2,4], \"max_depth\": [2,3]}]\n",
    "\n",
    "grid_search_cv = RandomizedSearchCV(svc, params_grid, n_iter=10, verbose=2, cv=3, scoring='recall')\n",
    "grid_search_cv.fit(X_train, y_train)"
   ]
  },
  {
   "cell_type": "code",
   "execution_count": 342,
   "id": "f517aae0",
   "metadata": {},
   "outputs": [
    {
     "data": {
      "text/html": [
       "<style>#sk-container-id-14 {color: black;background-color: white;}#sk-container-id-14 pre{padding: 0;}#sk-container-id-14 div.sk-toggleable {background-color: white;}#sk-container-id-14 label.sk-toggleable__label {cursor: pointer;display: block;width: 100%;margin-bottom: 0;padding: 0.3em;box-sizing: border-box;text-align: center;}#sk-container-id-14 label.sk-toggleable__label-arrow:before {content: \"▸\";float: left;margin-right: 0.25em;color: #696969;}#sk-container-id-14 label.sk-toggleable__label-arrow:hover:before {color: black;}#sk-container-id-14 div.sk-estimator:hover label.sk-toggleable__label-arrow:before {color: black;}#sk-container-id-14 div.sk-toggleable__content {max-height: 0;max-width: 0;overflow: hidden;text-align: left;background-color: #f0f8ff;}#sk-container-id-14 div.sk-toggleable__content pre {margin: 0.2em;color: black;border-radius: 0.25em;background-color: #f0f8ff;}#sk-container-id-14 input.sk-toggleable__control:checked~div.sk-toggleable__content {max-height: 200px;max-width: 100%;overflow: auto;}#sk-container-id-14 input.sk-toggleable__control:checked~label.sk-toggleable__label-arrow:before {content: \"▾\";}#sk-container-id-14 div.sk-estimator input.sk-toggleable__control:checked~label.sk-toggleable__label {background-color: #d4ebff;}#sk-container-id-14 div.sk-label input.sk-toggleable__control:checked~label.sk-toggleable__label {background-color: #d4ebff;}#sk-container-id-14 input.sk-hidden--visually {border: 0;clip: rect(1px 1px 1px 1px);clip: rect(1px, 1px, 1px, 1px);height: 1px;margin: -1px;overflow: hidden;padding: 0;position: absolute;width: 1px;}#sk-container-id-14 div.sk-estimator {font-family: monospace;background-color: #f0f8ff;border: 1px dotted black;border-radius: 0.25em;box-sizing: border-box;margin-bottom: 0.5em;}#sk-container-id-14 div.sk-estimator:hover {background-color: #d4ebff;}#sk-container-id-14 div.sk-parallel-item::after {content: \"\";width: 100%;border-bottom: 1px solid gray;flex-grow: 1;}#sk-container-id-14 div.sk-label:hover label.sk-toggleable__label {background-color: #d4ebff;}#sk-container-id-14 div.sk-serial::before {content: \"\";position: absolute;border-left: 1px solid gray;box-sizing: border-box;top: 0;bottom: 0;left: 50%;z-index: 0;}#sk-container-id-14 div.sk-serial {display: flex;flex-direction: column;align-items: center;background-color: white;padding-right: 0.2em;padding-left: 0.2em;position: relative;}#sk-container-id-14 div.sk-item {position: relative;z-index: 1;}#sk-container-id-14 div.sk-parallel {display: flex;align-items: stretch;justify-content: center;background-color: white;position: relative;}#sk-container-id-14 div.sk-item::before, #sk-container-id-14 div.sk-parallel-item::before {content: \"\";position: absolute;border-left: 1px solid gray;box-sizing: border-box;top: 0;bottom: 0;left: 50%;z-index: -1;}#sk-container-id-14 div.sk-parallel-item {display: flex;flex-direction: column;z-index: 1;position: relative;background-color: white;}#sk-container-id-14 div.sk-parallel-item:first-child::after {align-self: flex-end;width: 50%;}#sk-container-id-14 div.sk-parallel-item:last-child::after {align-self: flex-start;width: 50%;}#sk-container-id-14 div.sk-parallel-item:only-child::after {width: 0;}#sk-container-id-14 div.sk-dashed-wrapped {border: 1px dashed gray;margin: 0 0.4em 0.5em 0.4em;box-sizing: border-box;padding-bottom: 0.4em;background-color: white;}#sk-container-id-14 div.sk-label label {font-family: monospace;font-weight: bold;display: inline-block;line-height: 1.2em;}#sk-container-id-14 div.sk-label-container {text-align: center;}#sk-container-id-14 div.sk-container {/* jupyter's `normalize.less` sets `[hidden] { display: none; }` but bootstrap.min.css set `[hidden] { display: none !important; }` so we also need the `!important` here to be able to override the default hidden behavior on the sphinx rendered scikit-learn.org. See: https://github.com/scikit-learn/scikit-learn/issues/21755 */display: inline-block !important;position: relative;}#sk-container-id-14 div.sk-text-repr-fallback {display: none;}</style><div id=\"sk-container-id-14\" class=\"sk-top-container\"><div class=\"sk-text-repr-fallback\"><pre>RandomForestClassifier(class_weight=&#x27;balanced&#x27;, max_depth=2, min_samples_leaf=2)</pre><b>In a Jupyter environment, please rerun this cell to show the HTML representation or trust the notebook. <br />On GitHub, the HTML representation is unable to render, please try loading this page with nbviewer.org.</b></div><div class=\"sk-container\" hidden><div class=\"sk-item\"><div class=\"sk-estimator sk-toggleable\"><input class=\"sk-toggleable__control sk-hidden--visually\" id=\"sk-estimator-id-28\" type=\"checkbox\" checked><label for=\"sk-estimator-id-28\" class=\"sk-toggleable__label sk-toggleable__label-arrow\">RandomForestClassifier</label><div class=\"sk-toggleable__content\"><pre>RandomForestClassifier(class_weight=&#x27;balanced&#x27;, max_depth=2, min_samples_leaf=2)</pre></div></div></div></div></div>"
      ],
      "text/plain": [
       "RandomForestClassifier(class_weight='balanced', max_depth=2, min_samples_leaf=2)"
      ]
     },
     "execution_count": 342,
     "metadata": {},
     "output_type": "execute_result"
    }
   ],
   "source": [
    "best_estimator = grid_search_cv.best_estimator_\n",
    "best_estimator"
   ]
  },
  {
   "cell_type": "code",
   "execution_count": 343,
   "id": "02a38326",
   "metadata": {},
   "outputs": [
    {
     "name": "stdout",
     "output_type": "stream",
     "text": [
      "accuracy 44.98%\n",
      "precision 8.88%\n",
      "recall 81.82%\n"
     ]
    }
   ],
   "source": [
    "pred = best_estimator.predict(X_test)\n",
    "get_metrics(y_test,pred)"
   ]
  },
  {
   "cell_type": "markdown",
   "id": "aa8a4e94",
   "metadata": {},
   "source": [
    "### Dense Neural Network"
   ]
  },
  {
   "cell_type": "markdown",
   "id": "08728005",
   "metadata": {},
   "source": [
    "#### create dataset"
   ]
  },
  {
   "cell_type": "code",
   "execution_count": 344,
   "id": "bc9a4df3",
   "metadata": {},
   "outputs": [
    {
     "data": {
      "text/plain": [
       "(7712, 7712)"
      ]
     },
     "execution_count": 344,
     "metadata": {},
     "output_type": "execute_result"
    }
   ],
   "source": [
    "len(data), len(project_ids)"
   ]
  },
  {
   "cell_type": "code",
   "execution_count": 345,
   "id": "efa790d9",
   "metadata": {},
   "outputs": [
    {
     "data": {
      "text/plain": [
       "((7712, 14), (6169, 14))"
      ]
     },
     "execution_count": 345,
     "metadata": {},
     "output_type": "execute_result"
    }
   ],
   "source": [
    "X = np.append(X_train, X_test, axis=0)\n",
    "y = np.append(y_train, y_test, axis=0)\n",
    "\n",
    "X.shape, X_train.shape"
   ]
  },
  {
   "cell_type": "code",
   "execution_count": 362,
   "id": "967fae81",
   "metadata": {},
   "outputs": [],
   "source": [
    "bids_per_project = 10\n",
    "\n",
    "projects_with_filtered_bids = []\n",
    "y_bids = []\n",
    "\n",
    "for project_id in set(project_ids):\n",
    "    bids_x = X[project_ids == project_id]\n",
    "    bids_y = y[project_ids == project_id]\n",
    "    \n",
    "    if len(bids_x) < bids_per_project: continue\n",
    "    \n",
    "    filtered_bids = bids_x[bids_y]\n",
    "    pred = best_estimator.predict_proba(bids_x[~bids_y])[:, 1]\n",
    "    \n",
    "    to_add = bids_per_project - len(filtered_bids)\n",
    "    \n",
    "    order = np.argsort(pred)[:-to_add-1:-1]\n",
    "    \n",
    "    bids = np.append(filtered_bids, bids_x[order], axis=0)\n",
    "    \n",
    "    projects_with_filtered_bids.append(bids)\n",
    "    y_bids += [True, *[False] * (bids_per_project-1)]\n",
    "    \n",
    "filtered_bids = [bid for bids in projects_with_filtered_bids for bid in bids]"
   ]
  },
  {
   "cell_type": "code",
   "execution_count": 286,
   "id": "081439cd",
   "metadata": {},
   "outputs": [
    {
     "name": "stderr",
     "output_type": "stream",
     "text": [
      "2023-11-29 06:16:41.187153: I tensorflow/tsl/cuda/cudart_stub.cc:28] Could not find cuda drivers on your machine, GPU will not be used.\n",
      "2023-11-29 06:16:41.879171: I tensorflow/tsl/cuda/cudart_stub.cc:28] Could not find cuda drivers on your machine, GPU will not be used.\n",
      "2023-11-29 06:16:44.347104: W tensorflow/compiler/tf2tensorrt/utils/py_utils.cc:38] TF-TRT Warning: Could not find TensorRT\n"
     ]
    }
   ],
   "source": [
    "import tensorflow as tf\n",
    "from tensorflow import keras"
   ]
  },
  {
   "cell_type": "code",
   "execution_count": 363,
   "id": "8c471758",
   "metadata": {},
   "outputs": [
    {
     "data": {
      "text/plain": [
       "(4810, 4810)"
      ]
     },
     "execution_count": 363,
     "metadata": {},
     "output_type": "execute_result"
    }
   ],
   "source": [
    "len(filtered_bids), len(y_bids)"
   ]
  },
  {
   "cell_type": "code",
   "execution_count": 402,
   "id": "64a0997f",
   "metadata": {},
   "outputs": [],
   "source": [
    "sample_weights = np.array(y_bids) * 9 + 1"
   ]
  },
  {
   "cell_type": "code",
   "execution_count": 403,
   "id": "fd16d50f",
   "metadata": {},
   "outputs": [],
   "source": [
    "ds = tf.data.Dataset.from_tensor_slices((filtered_bids, y_bids, sample_weights))"
   ]
  },
  {
   "cell_type": "code",
   "execution_count": 404,
   "id": "90009784",
   "metadata": {},
   "outputs": [],
   "source": [
    "ds = ds.batch(3 * bids_per_project)"
   ]
  },
  {
   "cell_type": "code",
   "execution_count": 405,
   "id": "65174285",
   "metadata": {},
   "outputs": [],
   "source": [
    "train_size = int(len(ds) *.8)\n",
    "\n",
    "train_ds = ds.take(train_size)\n",
    "test_ds = ds.skip(train_size)\n",
    "\n",
    "val_size = int(len(train_ds) *.2)\n",
    "val_ds = train_ds.take(val_size)\n",
    "train_ds = train_ds.skip(val_size).shuffle(buffer_size=1000).prefetch(1)"
   ]
  },
  {
   "cell_type": "markdown",
   "id": "3bafdb80",
   "metadata": {},
   "source": [
    "#### create network"
   ]
  },
  {
   "cell_type": "code",
   "execution_count": 406,
   "id": "835a1956",
   "metadata": {},
   "outputs": [],
   "source": [
    "from functools import partial\n",
    "\n",
    "get_layer = partial(keras.layers.Dense, activation='selu', kernel_initializer='lecun_normal')\n",
    "model = keras.models.Sequential([\n",
    "    get_layer(X.shape[1]),\n",
    "    get_layer(5),\n",
    "    keras.layers.Dense(1, activation='sigmoid')\n",
    "])"
   ]
  },
  {
   "cell_type": "code",
   "execution_count": 412,
   "id": "b52ccbcb",
   "metadata": {},
   "outputs": [],
   "source": [
    "optimizer = keras.optimizers.Adam(learning_rate=1e-3)\n",
    "model.compile(optimizer=optimizer, loss='binary_crossentropy',\n",
    "              metrics=['accuracy', keras.metrics.Precision(), keras.metrics.Recall()],\n",
    "              weighted_metrics=[])"
   ]
  },
  {
   "cell_type": "code",
   "execution_count": 415,
   "id": "c8a61395",
   "metadata": {},
   "outputs": [
    {
     "name": "stdout",
     "output_type": "stream",
     "text": [
      "Epoch 1/50\n",
      "103/103 [==============================] - 0s 4ms/step - loss: 1.1673 - accuracy: 0.5650 - precision_3: 0.1584 - recall_3: 0.7767 - val_loss: 1.2813 - val_accuracy: 0.5720 - val_precision_3: 0.1382 - val_recall_3: 0.6267\n",
      "Epoch 2/50\n",
      "103/103 [==============================] - 0s 4ms/step - loss: 1.1667 - accuracy: 0.5722 - precision_3: 0.1603 - recall_3: 0.7735 - val_loss: 1.2834 - val_accuracy: 0.5787 - val_precision_3: 0.1381 - val_recall_3: 0.6133\n",
      "Epoch 3/50\n",
      "103/103 [==============================] - 0s 4ms/step - loss: 1.1675 - accuracy: 0.5825 - precision_3: 0.1615 - recall_3: 0.7573 - val_loss: 1.2808 - val_accuracy: 0.4947 - val_precision_3: 0.1364 - val_recall_3: 0.7600\n",
      "Epoch 4/50\n",
      "103/103 [==============================] - 0s 4ms/step - loss: 1.1677 - accuracy: 0.5599 - precision_3: 0.1572 - recall_3: 0.7799 - val_loss: 1.2846 - val_accuracy: 0.5453 - val_precision_3: 0.1306 - val_recall_3: 0.6267\n",
      "Epoch 5/50\n",
      "103/103 [==============================] - 0s 4ms/step - loss: 1.1655 - accuracy: 0.5702 - precision_3: 0.1587 - recall_3: 0.7670 - val_loss: 1.2823 - val_accuracy: 0.4973 - val_precision_3: 0.1262 - val_recall_3: 0.6800\n",
      "Epoch 6/50\n",
      "103/103 [==============================] - 0s 4ms/step - loss: 1.1674 - accuracy: 0.5722 - precision_3: 0.1571 - recall_3: 0.7508 - val_loss: 1.2866 - val_accuracy: 0.5733 - val_precision_3: 0.1343 - val_recall_3: 0.6000\n",
      "Epoch 7/50\n",
      "103/103 [==============================] - 0s 4ms/step - loss: 1.1639 - accuracy: 0.5673 - precision_3: 0.1582 - recall_3: 0.7702 - val_loss: 1.2873 - val_accuracy: 0.5973 - val_precision_3: 0.1420 - val_recall_3: 0.6000\n",
      "Epoch 8/50\n",
      "103/103 [==============================] - 1s 5ms/step - loss: 1.1632 - accuracy: 0.5689 - precision_3: 0.1560 - recall_3: 0.7508 - val_loss: 1.2874 - val_accuracy: 0.5613 - val_precision_3: 0.1351 - val_recall_3: 0.6267\n",
      "Epoch 9/50\n",
      "103/103 [==============================] - 1s 5ms/step - loss: 1.1649 - accuracy: 0.5699 - precision_3: 0.1563 - recall_3: 0.7508 - val_loss: 1.2880 - val_accuracy: 0.6187 - val_precision_3: 0.1448 - val_recall_3: 0.5733\n",
      "Epoch 10/50\n",
      "103/103 [==============================] - 1s 5ms/step - loss: 1.1629 - accuracy: 0.5854 - precision_3: 0.1611 - recall_3: 0.7476 - val_loss: 1.2873 - val_accuracy: 0.5920 - val_precision_3: 0.1424 - val_recall_3: 0.6133\n",
      "Epoch 11/50\n",
      "103/103 [==============================] - 0s 5ms/step - loss: 1.1618 - accuracy: 0.5748 - precision_3: 0.1593 - recall_3: 0.7605 - val_loss: 1.2881 - val_accuracy: 0.5067 - val_precision_3: 0.1322 - val_recall_3: 0.7067\n",
      "Epoch 12/50\n",
      "103/103 [==============================] - 0s 4ms/step - loss: 1.1602 - accuracy: 0.5715 - precision_3: 0.1582 - recall_3: 0.7605 - val_loss: 1.2939 - val_accuracy: 0.5573 - val_precision_3: 0.1339 - val_recall_3: 0.6267\n",
      "Epoch 13/50\n",
      "103/103 [==============================] - 0s 4ms/step - loss: 1.1602 - accuracy: 0.5738 - precision_3: 0.1590 - recall_3: 0.7605 - val_loss: 1.2967 - val_accuracy: 0.5693 - val_precision_3: 0.1353 - val_recall_3: 0.6133\n",
      "Epoch 14/50\n",
      "103/103 [==============================] - 0s 4ms/step - loss: 1.1576 - accuracy: 0.5845 - precision_3: 0.1598 - recall_3: 0.7411 - val_loss: 1.2896 - val_accuracy: 0.5533 - val_precision_3: 0.1389 - val_recall_3: 0.6667\n",
      "Epoch 15/50\n",
      "103/103 [==============================] - 0s 4ms/step - loss: 1.1625 - accuracy: 0.5631 - precision_3: 0.1555 - recall_3: 0.7605 - val_loss: 1.2904 - val_accuracy: 0.4933 - val_precision_3: 0.1360 - val_recall_3: 0.7600\n",
      "Epoch 16/50\n",
      "103/103 [==============================] - 0s 4ms/step - loss: 1.1581 - accuracy: 0.5744 - precision_3: 0.1583 - recall_3: 0.7540 - val_loss: 1.2994 - val_accuracy: 0.5987 - val_precision_3: 0.1355 - val_recall_3: 0.5600\n",
      "Epoch 17/50\n",
      "103/103 [==============================] - 0s 4ms/step - loss: 1.1580 - accuracy: 0.5748 - precision_3: 0.1575 - recall_3: 0.7476 - val_loss: 1.2902 - val_accuracy: 0.5507 - val_precision_3: 0.1341 - val_recall_3: 0.6400\n",
      "Epoch 18/50\n",
      "103/103 [==============================] - 0s 4ms/step - loss: 1.1558 - accuracy: 0.5783 - precision_3: 0.1601 - recall_3: 0.7573 - val_loss: 1.2902 - val_accuracy: 0.5760 - val_precision_3: 0.1437 - val_recall_3: 0.6533\n",
      "Epoch 19/50\n",
      "103/103 [==============================] - 0s 4ms/step - loss: 1.1527 - accuracy: 0.5913 - precision_3: 0.1631 - recall_3: 0.7476 - val_loss: 1.2987 - val_accuracy: 0.5373 - val_precision_3: 0.1402 - val_recall_3: 0.7067\n",
      "Epoch 20/50\n",
      "103/103 [==============================] - 0s 4ms/step - loss: 1.1569 - accuracy: 0.5689 - precision_3: 0.1560 - recall_3: 0.7508 - val_loss: 1.2990 - val_accuracy: 0.6187 - val_precision_3: 0.1448 - val_recall_3: 0.5733\n",
      "Epoch 21/50\n",
      "103/103 [==============================] - 0s 5ms/step - loss: 1.1545 - accuracy: 0.5822 - precision_3: 0.1595 - recall_3: 0.7443 - val_loss: 1.3058 - val_accuracy: 0.5973 - val_precision_3: 0.1374 - val_recall_3: 0.5733\n",
      "Epoch 22/50\n",
      "103/103 [==============================] - 0s 4ms/step - loss: 1.1553 - accuracy: 0.5887 - precision_3: 0.1617 - recall_3: 0.7443 - val_loss: 1.2978 - val_accuracy: 0.6240 - val_precision_3: 0.1492 - val_recall_3: 0.5867\n",
      "Epoch 23/50\n",
      "103/103 [==============================] - 0s 4ms/step - loss: 1.1534 - accuracy: 0.5838 - precision_3: 0.1624 - recall_3: 0.7605 - val_loss: 1.2966 - val_accuracy: 0.5333 - val_precision_3: 0.1372 - val_recall_3: 0.6933\n",
      "Epoch 24/50\n",
      "103/103 [==============================] - 0s 5ms/step - loss: 1.1554 - accuracy: 0.5896 - precision_3: 0.1640 - recall_3: 0.7573 - val_loss: 1.2976 - val_accuracy: 0.5573 - val_precision_3: 0.1421 - val_recall_3: 0.6800\n",
      "Epoch 25/50\n",
      "103/103 [==============================] - 1s 5ms/step - loss: 1.1522 - accuracy: 0.5887 - precision_3: 0.1655 - recall_3: 0.7702 - val_loss: 1.3081 - val_accuracy: 0.6000 - val_precision_3: 0.1383 - val_recall_3: 0.5733\n",
      "Epoch 26/50\n",
      "103/103 [==============================] - 0s 4ms/step - loss: 1.1530 - accuracy: 0.5822 - precision_3: 0.1604 - recall_3: 0.7508 - val_loss: 1.2974 - val_accuracy: 0.5360 - val_precision_3: 0.1379 - val_recall_3: 0.6933\n",
      "Epoch 27/50\n",
      "103/103 [==============================] - 0s 4ms/step - loss: 1.1528 - accuracy: 0.5851 - precision_3: 0.1596 - recall_3: 0.7379 - val_loss: 1.3093 - val_accuracy: 0.6027 - val_precision_3: 0.1392 - val_recall_3: 0.5733\n",
      "Epoch 28/50\n",
      "103/103 [==============================] - 0s 4ms/step - loss: 1.1506 - accuracy: 0.5822 - precision_3: 0.1623 - recall_3: 0.7638 - val_loss: 1.3036 - val_accuracy: 0.6187 - val_precision_3: 0.1448 - val_recall_3: 0.5733\n",
      "Epoch 29/50\n",
      "103/103 [==============================] - 0s 4ms/step - loss: 1.1521 - accuracy: 0.5955 - precision_3: 0.1618 - recall_3: 0.7282 - val_loss: 1.3116 - val_accuracy: 0.6173 - val_precision_3: 0.1443 - val_recall_3: 0.5733\n",
      "Epoch 30/50\n",
      "103/103 [==============================] - 0s 4ms/step - loss: 1.1503 - accuracy: 0.5909 - precision_3: 0.1606 - recall_3: 0.7314 - val_loss: 1.3179 - val_accuracy: 0.6093 - val_precision_3: 0.1391 - val_recall_3: 0.5600\n",
      "Epoch 31/50\n",
      "103/103 [==============================] - 0s 5ms/step - loss: 1.1509 - accuracy: 0.5877 - precision_3: 0.1614 - recall_3: 0.7443 - val_loss: 1.3036 - val_accuracy: 0.5400 - val_precision_3: 0.1351 - val_recall_3: 0.6667\n",
      "Epoch 32/50\n",
      "103/103 [==============================] - 0s 4ms/step - loss: 1.1488 - accuracy: 0.5712 - precision_3: 0.1600 - recall_3: 0.7735 - val_loss: 1.3064 - val_accuracy: 0.5947 - val_precision_3: 0.1411 - val_recall_3: 0.6000\n",
      "Epoch 33/50\n",
      "103/103 [==============================] - 0s 5ms/step - loss: 1.1488 - accuracy: 0.5961 - precision_3: 0.1639 - recall_3: 0.7411 - val_loss: 1.3070 - val_accuracy: 0.5907 - val_precision_3: 0.1398 - val_recall_3: 0.6000\n",
      "Epoch 34/50\n",
      "103/103 [==============================] - 0s 4ms/step - loss: 1.1476 - accuracy: 0.5903 - precision_3: 0.1647 - recall_3: 0.7605 - val_loss: 1.3055 - val_accuracy: 0.5867 - val_precision_3: 0.1407 - val_recall_3: 0.6133\n",
      "Epoch 35/50\n",
      "103/103 [==============================] - 0s 4ms/step - loss: 1.1482 - accuracy: 0.5845 - precision_3: 0.1593 - recall_3: 0.7379 - val_loss: 1.3048 - val_accuracy: 0.5787 - val_precision_3: 0.1403 - val_recall_3: 0.6267\n",
      "Epoch 36/50\n",
      "103/103 [==============================] - 0s 4ms/step - loss: 1.1454 - accuracy: 0.6032 - precision_3: 0.1670 - recall_3: 0.7443 - val_loss: 1.3089 - val_accuracy: 0.5800 - val_precision_3: 0.1319 - val_recall_3: 0.5733\n",
      "Epoch 37/50\n",
      "103/103 [==============================] - 0s 4ms/step - loss: 1.1471 - accuracy: 0.5861 - precision_3: 0.1646 - recall_3: 0.7702 - val_loss: 1.3057 - val_accuracy: 0.5787 - val_precision_3: 0.1424 - val_recall_3: 0.6400\n",
      "Epoch 38/50\n",
      "103/103 [==============================] - 0s 4ms/step - loss: 1.1479 - accuracy: 0.5990 - precision_3: 0.1655 - recall_3: 0.7443 - val_loss: 1.3169 - val_accuracy: 0.6360 - val_precision_3: 0.1413 - val_recall_3: 0.5200\n",
      "Epoch 39/50\n",
      "103/103 [==============================] - 0s 4ms/step - loss: 1.1498 - accuracy: 0.5867 - precision_3: 0.1630 - recall_3: 0.7573 - val_loss: 1.3090 - val_accuracy: 0.6173 - val_precision_3: 0.1443 - val_recall_3: 0.5733\n",
      "Epoch 40/50\n",
      "103/103 [==============================] - 0s 4ms/step - loss: 1.1466 - accuracy: 0.5845 - precision_3: 0.1617 - recall_3: 0.7540 - val_loss: 1.3056 - val_accuracy: 0.5893 - val_precision_3: 0.1415 - val_recall_3: 0.6133\n",
      "Epoch 41/50\n",
      "103/103 [==============================] - 0s 4ms/step - loss: 1.1459 - accuracy: 0.5977 - precision_3: 0.1664 - recall_3: 0.7540 - val_loss: 1.3148 - val_accuracy: 0.6187 - val_precision_3: 0.1448 - val_recall_3: 0.5733\n",
      "Epoch 42/50\n",
      "103/103 [==============================] - 0s 4ms/step - loss: 1.1455 - accuracy: 0.5958 - precision_3: 0.1628 - recall_3: 0.7346 - val_loss: 1.3154 - val_accuracy: 0.5320 - val_precision_3: 0.1349 - val_recall_3: 0.6800\n",
      "Epoch 43/50\n",
      "103/103 [==============================] - 0s 4ms/step - loss: 1.1446 - accuracy: 0.5945 - precision_3: 0.1648 - recall_3: 0.7508 - val_loss: 1.3220 - val_accuracy: 0.6160 - val_precision_3: 0.1414 - val_recall_3: 0.5600\n",
      "Epoch 44/50\n",
      "103/103 [==============================] - 0s 4ms/step - loss: 1.1443 - accuracy: 0.5974 - precision_3: 0.1634 - recall_3: 0.7346 - val_loss: 1.3147 - val_accuracy: 0.5760 - val_precision_3: 0.1351 - val_recall_3: 0.6000\n",
      "Epoch 45/50\n",
      "103/103 [==============================] - 0s 4ms/step - loss: 1.1450 - accuracy: 0.5971 - precision_3: 0.1652 - recall_3: 0.7476 - val_loss: 1.3106 - val_accuracy: 0.5867 - val_precision_3: 0.1429 - val_recall_3: 0.6267\n",
      "Epoch 46/50\n",
      "103/103 [==============================] - 0s 4ms/step - loss: 1.1444 - accuracy: 0.6091 - precision_3: 0.1688 - recall_3: 0.7411 - val_loss: 1.3136 - val_accuracy: 0.5280 - val_precision_3: 0.1358 - val_recall_3: 0.6933\n",
      "Epoch 47/50\n",
      "103/103 [==============================] - 0s 4ms/step - loss: 1.1447 - accuracy: 0.5916 - precision_3: 0.1628 - recall_3: 0.7443 - val_loss: 1.3112 - val_accuracy: 0.5600 - val_precision_3: 0.1429 - val_recall_3: 0.6800\n",
      "Epoch 48/50\n",
      "103/103 [==============================] - 0s 4ms/step - loss: 1.1443 - accuracy: 0.5948 - precision_3: 0.1663 - recall_3: 0.7605 - val_loss: 1.3169 - val_accuracy: 0.5560 - val_precision_3: 0.1356 - val_recall_3: 0.6400\n",
      "Epoch 49/50\n",
      "103/103 [==============================] - 0s 4ms/step - loss: 1.1459 - accuracy: 0.5935 - precision_3: 0.1654 - recall_3: 0.7573 - val_loss: 1.3134 - val_accuracy: 0.5627 - val_precision_3: 0.1396 - val_recall_3: 0.6533\n",
      "Epoch 50/50\n",
      "103/103 [==============================] - 0s 4ms/step - loss: 1.1459 - accuracy: 0.5951 - precision_3: 0.1669 - recall_3: 0.7638 - val_loss: 1.3251 - val_accuracy: 0.6093 - val_precision_3: 0.1318 - val_recall_3: 0.5200\n"
     ]
    }
   ],
   "source": [
    "callbacks = []\n",
    "\n",
    "early_stop = keras.callbacks.EarlyStopping(patience=6, restore_best_weights=True)\n",
    "callbacks.append(early_stop)\n",
    "\n",
    "learning_rate_scheduler = keras.callbacks.ReduceLROnPlateau(patience=5, factor=.7)\n",
    "callbacks.append(early_stop)\n",
    "\n",
    "hist = model.fit(train_ds, epochs=50, validation_data=val_ds)"
   ]
  },
  {
   "cell_type": "code",
   "execution_count": 416,
   "id": "7a5d401f",
   "metadata": {},
   "outputs": [
    {
     "name": "stdout",
     "output_type": "stream",
     "text": [
      "33/33 [==============================] - 0s 3ms/step - loss: 1.2347 - accuracy: 0.5856 - precision_3: 0.1429 - recall_3: 0.6289\n",
      "Accuracy: 58.55669975280762%, precision: 14.28571492433548%, recall: 62.886595726013184%\n"
     ]
    }
   ],
   "source": [
    "metrics = model.evaluate(test_ds)\n",
    "print(f'Accuracy: {metrics[1]*100}%, precision: {metrics[2]*100}%, recall: {metrics[3]*100}%')"
   ]
  },
  {
   "cell_type": "code",
   "execution_count": null,
   "id": "fc6aca47",
   "metadata": {},
   "outputs": [],
   "source": []
  }
 ],
 "metadata": {
  "kernelspec": {
   "display_name": "tf",
   "language": "python",
   "name": "tf"
  },
  "language_info": {
   "codemirror_mode": {
    "name": "ipython",
    "version": 3
   },
   "file_extension": ".py",
   "mimetype": "text/x-python",
   "name": "python",
   "nbconvert_exporter": "python",
   "pygments_lexer": "ipython3",
   "version": "3.8.16"
  }
 },
 "nbformat": 4,
 "nbformat_minor": 5
}
