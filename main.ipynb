{
 "cells": [
  {
   "cell_type": "code",
   "execution_count": 1,
   "id": "24bc5905",
   "metadata": {},
   "outputs": [],
   "source": [
    "import numpy as np\n",
    "import pandas as pd\n",
    "\n",
    "import json"
   ]
  },
  {
   "cell_type": "markdown",
   "id": "eee2d905",
   "metadata": {},
   "source": [
    "### Loading data"
   ]
  },
  {
   "cell_type": "code",
   "execution_count": 2,
   "id": "24b1161f",
   "metadata": {},
   "outputs": [],
   "source": [
    "with open('data/machine_learning.json', 'r') as f:\n",
    "    projects = json.load(f)"
   ]
  },
  {
   "cell_type": "code",
   "execution_count": 3,
   "id": "1bacf34f",
   "metadata": {},
   "outputs": [
    {
     "data": {
      "text/plain": [
       "863"
      ]
     },
     "execution_count": 3,
     "metadata": {},
     "output_type": "execute_result"
    }
   ],
   "source": [
    "len(projects)"
   ]
  },
  {
   "cell_type": "code",
   "execution_count": 4,
   "id": "c61279a5",
   "metadata": {},
   "outputs": [],
   "source": [
    "data = []\n",
    "for project in projects:\n",
    "    base = [project['id'], project['title'], project['description'], project['budget']['minimum'],\n",
    "            project['budget']['maximum'], project['time_submitted']]\n",
    "    \n",
    "    project_bids = []\n",
    "        \n",
    "    for bid in project['bids']:\n",
    "        row = [*base]\n",
    "        \n",
    "        reputation = bid['reputation']['entire_history']['category_ratings']\n",
    "        \n",
    "#         quality\": 5.0,\n",
    "#             \"communication\": 5.0,\n",
    "#             \"expertise\": 5.0,\n",
    "#             \"professionalism\": 5.0,\n",
    "#             \"hire_again\n",
    "        row += [bid['score'], bid['highlighted'], bid['sealed'], bid['description'], bid['time_submitted'], \n",
    "                bid['amount'], bid['period'], reputation['quality'], reputation['communication'], \n",
    "                reputation['professionalism'], bid['award_status'] == 'awarded']\n",
    "        \n",
    "        project_bids.append(row)\n",
    "        \n",
    "    if [bid for bid in project_bids if bid[-1]]: # checking if there is awarded bid, if not skip\n",
    "        data+=project_bids"
   ]
  },
  {
   "cell_type": "code",
   "execution_count": 5,
   "id": "db080915",
   "metadata": {},
   "outputs": [],
   "source": [
    "data_columns = ['project_id', 'project_title', 'project_description', 'project_min_amount',\n",
    "                'project_max_amount', 'project_time_submitted', 'bid_score', 'bid_highlighted', 'bid_sealed',\n",
    "                'bid_description', 'bid_time_submitted', 'bid_amount', 'bid_period', 'bid_quality', \n",
    "                'bid_communication', 'bid_professionalism', 'bid_award_status']\n",
    "data = pd.DataFrame(columns=data_columns, data=data)"
   ]
  },
  {
   "cell_type": "code",
   "execution_count": 6,
   "id": "327513c5",
   "metadata": {},
   "outputs": [
    {
     "data": {
      "text/html": [
       "<div>\n",
       "<style scoped>\n",
       "    .dataframe tbody tr th:only-of-type {\n",
       "        vertical-align: middle;\n",
       "    }\n",
       "\n",
       "    .dataframe tbody tr th {\n",
       "        vertical-align: top;\n",
       "    }\n",
       "\n",
       "    .dataframe thead th {\n",
       "        text-align: right;\n",
       "    }\n",
       "</style>\n",
       "<table border=\"1\" class=\"dataframe\">\n",
       "  <thead>\n",
       "    <tr style=\"text-align: right;\">\n",
       "      <th></th>\n",
       "      <th>project_id</th>\n",
       "      <th>project_min_amount</th>\n",
       "      <th>project_max_amount</th>\n",
       "      <th>project_time_submitted</th>\n",
       "      <th>bid_score</th>\n",
       "      <th>bid_time_submitted</th>\n",
       "      <th>bid_amount</th>\n",
       "      <th>bid_period</th>\n",
       "      <th>bid_quality</th>\n",
       "      <th>bid_communication</th>\n",
       "      <th>bid_professionalism</th>\n",
       "    </tr>\n",
       "  </thead>\n",
       "  <tbody>\n",
       "    <tr>\n",
       "      <th>count</th>\n",
       "      <td>9.557000e+03</td>\n",
       "      <td>9557.000000</td>\n",
       "      <td>9557.000000</td>\n",
       "      <td>9.557000e+03</td>\n",
       "      <td>9557.000000</td>\n",
       "      <td>9.557000e+03</td>\n",
       "      <td>9557.000000</td>\n",
       "      <td>9557.000000</td>\n",
       "      <td>9557.000000</td>\n",
       "      <td>9557.000000</td>\n",
       "      <td>9557.000000</td>\n",
       "    </tr>\n",
       "    <tr>\n",
       "      <th>mean</th>\n",
       "      <td>3.405405e+07</td>\n",
       "      <td>382.678874</td>\n",
       "      <td>1529.513760</td>\n",
       "      <td>1.656576e+09</td>\n",
       "      <td>1.117307</td>\n",
       "      <td>1.656589e+09</td>\n",
       "      <td>998.448533</td>\n",
       "      <td>5.344460</td>\n",
       "      <td>4.030914</td>\n",
       "      <td>4.038101</td>\n",
       "      <td>4.034074</td>\n",
       "    </tr>\n",
       "    <tr>\n",
       "      <th>std</th>\n",
       "      <td>8.963263e+05</td>\n",
       "      <td>2038.137641</td>\n",
       "      <td>5941.043069</td>\n",
       "      <td>9.331853e+06</td>\n",
       "      <td>5.763419</td>\n",
       "      <td>9.331402e+06</td>\n",
       "      <td>4567.718632</td>\n",
       "      <td>15.226042</td>\n",
       "      <td>1.817168</td>\n",
       "      <td>1.819760</td>\n",
       "      <td>1.820191</td>\n",
       "    </tr>\n",
       "    <tr>\n",
       "      <th>min</th>\n",
       "      <td>3.250751e+07</td>\n",
       "      <td>8.000000</td>\n",
       "      <td>12.000000</td>\n",
       "      <td>1.640887e+09</td>\n",
       "      <td>0.396905</td>\n",
       "      <td>1.640888e+09</td>\n",
       "      <td>0.000000</td>\n",
       "      <td>1.000000</td>\n",
       "      <td>0.000000</td>\n",
       "      <td>0.000000</td>\n",
       "      <td>0.000000</td>\n",
       "    </tr>\n",
       "    <tr>\n",
       "      <th>25%</th>\n",
       "      <td>3.333857e+07</td>\n",
       "      <td>10.000000</td>\n",
       "      <td>30.000000</td>\n",
       "      <td>1.648574e+09</td>\n",
       "      <td>0.671246</td>\n",
       "      <td>1.648583e+09</td>\n",
       "      <td>20.000000</td>\n",
       "      <td>2.000000</td>\n",
       "      <td>4.477253</td>\n",
       "      <td>4.474072</td>\n",
       "      <td>4.461725</td>\n",
       "    </tr>\n",
       "    <tr>\n",
       "      <th>50%</th>\n",
       "      <td>3.396145e+07</td>\n",
       "      <td>30.000000</td>\n",
       "      <td>250.000000</td>\n",
       "      <td>1.655875e+09</td>\n",
       "      <td>0.737846</td>\n",
       "      <td>1.655876e+09</td>\n",
       "      <td>100.000000</td>\n",
       "      <td>5.000000</td>\n",
       "      <td>4.907784</td>\n",
       "      <td>4.919204</td>\n",
       "      <td>4.921129</td>\n",
       "    </tr>\n",
       "    <tr>\n",
       "      <th>75%</th>\n",
       "      <td>3.483296e+07</td>\n",
       "      <td>50.000000</td>\n",
       "      <td>250.000000</td>\n",
       "      <td>1.664823e+09</td>\n",
       "      <td>0.848181</td>\n",
       "      <td>1.664823e+09</td>\n",
       "      <td>250.000000</td>\n",
       "      <td>7.000000</td>\n",
       "      <td>5.000000</td>\n",
       "      <td>5.000000</td>\n",
       "      <td>5.000000</td>\n",
       "    </tr>\n",
       "    <tr>\n",
       "      <th>max</th>\n",
       "      <td>3.718741e+07</td>\n",
       "      <td>37500.000000</td>\n",
       "      <td>75000.000000</td>\n",
       "      <td>1.694663e+09</td>\n",
       "      <td>99.000000</td>\n",
       "      <td>1.694711e+09</td>\n",
       "      <td>150000.000000</td>\n",
       "      <td>999.000000</td>\n",
       "      <td>5.000000</td>\n",
       "      <td>5.000000</td>\n",
       "      <td>5.000000</td>\n",
       "    </tr>\n",
       "  </tbody>\n",
       "</table>\n",
       "</div>"
      ],
      "text/plain": [
       "         project_id  project_min_amount  project_max_amount   \n",
       "count  9.557000e+03         9557.000000         9557.000000  \\\n",
       "mean   3.405405e+07          382.678874         1529.513760   \n",
       "std    8.963263e+05         2038.137641         5941.043069   \n",
       "min    3.250751e+07            8.000000           12.000000   \n",
       "25%    3.333857e+07           10.000000           30.000000   \n",
       "50%    3.396145e+07           30.000000          250.000000   \n",
       "75%    3.483296e+07           50.000000          250.000000   \n",
       "max    3.718741e+07        37500.000000        75000.000000   \n",
       "\n",
       "       project_time_submitted    bid_score  bid_time_submitted     bid_amount   \n",
       "count            9.557000e+03  9557.000000        9.557000e+03    9557.000000  \\\n",
       "mean             1.656576e+09     1.117307        1.656589e+09     998.448533   \n",
       "std              9.331853e+06     5.763419        9.331402e+06    4567.718632   \n",
       "min              1.640887e+09     0.396905        1.640888e+09       0.000000   \n",
       "25%              1.648574e+09     0.671246        1.648583e+09      20.000000   \n",
       "50%              1.655875e+09     0.737846        1.655876e+09     100.000000   \n",
       "75%              1.664823e+09     0.848181        1.664823e+09     250.000000   \n",
       "max              1.694663e+09    99.000000        1.694711e+09  150000.000000   \n",
       "\n",
       "        bid_period  bid_quality  bid_communication  bid_professionalism  \n",
       "count  9557.000000  9557.000000        9557.000000          9557.000000  \n",
       "mean      5.344460     4.030914           4.038101             4.034074  \n",
       "std      15.226042     1.817168           1.819760             1.820191  \n",
       "min       1.000000     0.000000           0.000000             0.000000  \n",
       "25%       2.000000     4.477253           4.474072             4.461725  \n",
       "50%       5.000000     4.907784           4.919204             4.921129  \n",
       "75%       7.000000     5.000000           5.000000             5.000000  \n",
       "max     999.000000     5.000000           5.000000             5.000000  "
      ]
     },
     "execution_count": 6,
     "metadata": {},
     "output_type": "execute_result"
    }
   ],
   "source": [
    "data.describe()"
   ]
  },
  {
   "cell_type": "code",
   "execution_count": 7,
   "id": "f022c603",
   "metadata": {},
   "outputs": [
    {
     "data": {
      "text/plain": [
       "0.053743435231163435"
      ]
     },
     "execution_count": 7,
     "metadata": {},
     "output_type": "execute_result"
    }
   ],
   "source": [
    "sum(abs(data['bid_quality'] - data['bid_communication'])) / len(data)"
   ]
  },
  {
   "cell_type": "markdown",
   "id": "b7e5e9ce",
   "metadata": {},
   "source": [
    "bid_quality and bid_communication are very similar, but in the same time, each of them have the difference which can have the impact on the final choosen bid"
   ]
  },
  {
   "cell_type": "code",
   "execution_count": 8,
   "id": "ac691658",
   "metadata": {},
   "outputs": [
    {
     "data": {
      "text/plain": [
       "-38"
      ]
     },
     "execution_count": 8,
     "metadata": {},
     "output_type": "execute_result"
    }
   ],
   "source": [
    "len(data['project_id'].unique()) - sum(data['bid_award_status'])"
   ]
  },
  {
   "cell_type": "code",
   "execution_count": 9,
   "id": "80e6b518",
   "metadata": {},
   "outputs": [
    {
     "data": {
      "text/plain": [
       "(0, 8787)"
      ]
     },
     "execution_count": 9,
     "metadata": {},
     "output_type": "execute_result"
    }
   ],
   "source": [
    "sum(data.duplicated()), sum(data['project_id'].duplicated())"
   ]
  },
  {
   "cell_type": "markdown",
   "id": "7fe65cf2",
   "metadata": {},
   "source": [
    "### Looking at boolean properties of bids"
   ]
  },
  {
   "cell_type": "code",
   "execution_count": 10,
   "id": "0bf65642",
   "metadata": {},
   "outputs": [
    {
     "name": "stdout",
     "output_type": "stream",
     "text": [
      "Bids len: 9557\n"
     ]
    },
    {
     "data": {
      "text/plain": [
       "(8.45453594224129, '%')"
      ]
     },
     "execution_count": 10,
     "metadata": {},
     "output_type": "execute_result"
    }
   ],
   "source": [
    "print('Bids len:', len(data))\n",
    "sum(data['bid_award_status']) / len(data) * 100, '%'"
   ]
  },
  {
   "cell_type": "code",
   "execution_count": 11,
   "id": "35a8575f",
   "metadata": {},
   "outputs": [
    {
     "name": "stdout",
     "output_type": "stream",
     "text": [
      "Len of highlighted bids: 22\n"
     ]
    },
    {
     "data": {
      "text/plain": [
       "(36.36363636363637, '%')"
      ]
     },
     "execution_count": 11,
     "metadata": {},
     "output_type": "execute_result"
    }
   ],
   "source": [
    "print('Len of highlighted bids:', sum(data['bid_highlighted']))\n",
    "sum(data.loc[data['bid_highlighted']]['bid_award_status']) / sum(data['bid_highlighted']) * 100, '%'"
   ]
  },
  {
   "cell_type": "code",
   "execution_count": 12,
   "id": "d2564072",
   "metadata": {},
   "outputs": [
    {
     "name": "stdout",
     "output_type": "stream",
     "text": [
      "Len of sealed bids: 1316\n"
     ]
    },
    {
     "data": {
      "text/plain": [
       "(10.638297872340425, '%')"
      ]
     },
     "execution_count": 12,
     "metadata": {},
     "output_type": "execute_result"
    }
   ],
   "source": [
    "print('Len of sealed bids:', sum(data['bid_sealed']))\n",
    "sum(data.loc[data['bid_sealed']]['bid_award_status']) / sum(data['bid_sealed']) * 100, '%'"
   ]
  },
  {
   "cell_type": "code",
   "execution_count": 13,
   "id": "0f089fe8",
   "metadata": {},
   "outputs": [],
   "source": [
    "data = data.drop(['bid_highlighted'], axis=1)"
   ]
  },
  {
   "cell_type": "markdown",
   "id": "100d453c",
   "metadata": {},
   "source": [
    "highlighted is negligible because of the a very little amount of such bids compared to all others, while sealed can play a little role"
   ]
  },
  {
   "cell_type": "markdown",
   "id": "2713cefe",
   "metadata": {},
   "source": [
    "### Adding features"
   ]
  },
  {
   "cell_type": "code",
   "execution_count": 14,
   "id": "1362b933",
   "metadata": {},
   "outputs": [],
   "source": [
    "data['project/bid_amount_proportion'] = data['bid_amount'] / data['project_min_amount']\n",
    "data = data.drop(['bid_amount', 'project_min_amount', 'project_max_amount'], axis=1)"
   ]
  },
  {
   "cell_type": "code",
   "execution_count": 15,
   "id": "3eeafd90",
   "metadata": {},
   "outputs": [],
   "source": [
    "# default bid period = 7days\n",
    "data['bid_delay'] = (data['bid_time_submitted'] - data['project_time_submitted']) / (3600*24*7) \n",
    "data = data.drop(['project_time_submitted', 'bid_time_submitted'], axis=1)"
   ]
  },
  {
   "cell_type": "markdown",
   "id": "77e263dd",
   "metadata": {},
   "source": [
    "### Transform text data in features"
   ]
  },
  {
   "cell_type": "code",
   "execution_count": 16,
   "id": "6a9e3481",
   "metadata": {},
   "outputs": [],
   "source": [
    "proportions = []\n",
    "\n",
    "projects_titles_words = data['project_title'].apply(lambda x: x.split() if x else []).apply(set)\n",
    "bid_descrs_words = data['bid_description'].apply(lambda x: x.split() if x else []).apply(set)\n",
    "\n",
    "for project_title_set, bid_descr_set in zip(projects_titles_words, bid_descrs_words):\n",
    "    words_checked = [word in bid_descr_set for word in project_title_set]\n",
    "    proportions.append(sum(words_checked) / len(words_checked))\n",
    "    \n",
    "data['same_words_title/bid_proportion'] = proportions"
   ]
  },
  {
   "cell_type": "code",
   "execution_count": 17,
   "id": "22ff5229",
   "metadata": {},
   "outputs": [],
   "source": [
    "proportions = []\n",
    "\n",
    "projects_descrs_words = data['project_description'].apply(lambda x: x.split() if x else []).apply(set)\n",
    "bid_descrs_words = data['bid_description'].apply(lambda x: x.split() if x else []).apply(set)\n",
    "\n",
    "for project_descr_set, bid_descr_set in zip(projects_descrs_words, bid_descrs_words):\n",
    "    words_checked = [word in bid_descr_set for word in project_descr_set]\n",
    "    proportions.append(sum(words_checked) / len(words_checked))\n",
    "    \n",
    "data['same_words_descr/bid_proportion'] = proportions"
   ]
  },
  {
   "cell_type": "code",
   "execution_count": 18,
   "id": "b121932e",
   "metadata": {},
   "outputs": [],
   "source": [
    "data['bid_descr_len'] = data['bid_description'].apply(lambda x: len(x.split()) if x else 0)"
   ]
  },
  {
   "cell_type": "code",
   "execution_count": 19,
   "id": "3743b610",
   "metadata": {},
   "outputs": [],
   "source": [
    "proj_descr_len = data['project_description'].apply(lambda x: len(x.split()) if x else 0)"
   ]
  },
  {
   "cell_type": "code",
   "execution_count": 20,
   "id": "37750012",
   "metadata": {},
   "outputs": [],
   "source": [
    "data['proj/bid_lens_proportion'] = data['bid_descr_len'] / proj_descr_len"
   ]
  },
  {
   "cell_type": "code",
   "execution_count": 21,
   "id": "c3062b05",
   "metadata": {},
   "outputs": [],
   "source": [
    "greetings = ['good afternoon', 'good morning', 'how are you', 'how do you do', 'dear sir',\n",
    "             'good night', 'hi', 'hello', 'pleased to meet you']\n",
    "\n",
    "data['bid_greetings'] = data['bid_description'].apply(lambda x: x.lower() if x else '').apply(\n",
    "    lambda x: any([x.find(greeting) != -1  for greeting in greetings]))"
   ]
  },
  {
   "cell_type": "code",
   "execution_count": 22,
   "id": "0c6e6b10",
   "metadata": {},
   "outputs": [
    {
     "data": {
      "text/plain": [
       "2092"
      ]
     },
     "execution_count": 22,
     "metadata": {},
     "output_type": "execute_result"
    }
   ],
   "source": [
    "len(data) - sum(data['bid_greetings']) # without greeting"
   ]
  },
  {
   "cell_type": "markdown",
   "id": "dced57e7",
   "metadata": {},
   "source": [
    "### Look at correlations with new added features"
   ]
  },
  {
   "cell_type": "code",
   "execution_count": 23,
   "id": "ea39b6c2",
   "metadata": {},
   "outputs": [],
   "source": [
    "data = data.drop(['project_title', 'project_description', 'bid_description'], axis=1)"
   ]
  },
  {
   "cell_type": "code",
   "execution_count": 24,
   "id": "3eae591c",
   "metadata": {},
   "outputs": [
    {
     "data": {
      "text/plain": [
       "bid_award_status                   1.000000\n",
       "bid_communication                  0.119845\n",
       "bid_professionalism                0.118945\n",
       "bid_quality                        0.118228\n",
       "bid_score                          0.091682\n",
       "project/bid_amount_proportion      0.066815\n",
       "bid_delay                          0.062646\n",
       "bid_descr_len                      0.039891\n",
       "bid_sealed                         0.031368\n",
       "bid_greetings                      0.031045\n",
       "same_words_title/bid_proportion    0.021741\n",
       "same_words_descr/bid_proportion    0.018940\n",
       "project_id                         0.018423\n",
       "bid_period                         0.015225\n",
       "proj/bid_lens_proportion           0.014532\n",
       "Name: bid_award_status, dtype: float64"
      ]
     },
     "execution_count": 24,
     "metadata": {},
     "output_type": "execute_result"
    }
   ],
   "source": [
    "corr_matrix = data.corr()\n",
    "corr_matrix[\"bid_award_status\"].abs().sort_values(ascending=False)"
   ]
  },
  {
   "cell_type": "markdown",
   "id": "21be9cf8",
   "metadata": {},
   "source": [
    "### Adding categorical features"
   ]
  },
  {
   "cell_type": "markdown",
   "id": "5d330dfd",
   "metadata": {},
   "source": [
    "cut function generate bins with equal sizes"
   ]
  },
  {
   "cell_type": "code",
   "execution_count": 25,
   "id": "be95e45c",
   "metadata": {},
   "outputs": [],
   "source": [
    "data['bin_quality'] = pd.cut(data['bid_quality'], bins=2, \n",
    "                             labels=False, include_lowest=True).astype( bool )"
   ]
  },
  {
   "cell_type": "code",
   "execution_count": 26,
   "id": "9e5d5f83",
   "metadata": {},
   "outputs": [],
   "source": [
    "data['bid_communication'] = pd.cut(data['bid_communication'], bins=2, \n",
    "                             labels=False, include_lowest=True).astype( bool )"
   ]
  },
  {
   "cell_type": "code",
   "execution_count": 27,
   "id": "f59689a0",
   "metadata": {},
   "outputs": [],
   "source": [
    "data['bid_professionalism'] = pd.cut(data['bid_professionalism'], bins=2, \n",
    "                             labels=False, include_lowest=True).astype( bool )"
   ]
  },
  {
   "cell_type": "markdown",
   "id": "0e0bbabc",
   "metadata": {},
   "source": [
    "### Looking at linear dependencies"
   ]
  },
  {
   "cell_type": "code",
   "execution_count": 28,
   "id": "9b864e7d",
   "metadata": {},
   "outputs": [
    {
     "data": {
      "text/plain": [
       "(0.39690506293117, 99.0)"
      ]
     },
     "execution_count": 28,
     "metadata": {},
     "output_type": "execute_result"
    }
   ],
   "source": [
    "min(data['bid_score']), max(data['bid_score'])"
   ]
  },
  {
   "cell_type": "code",
   "execution_count": 29,
   "id": "aee6b308",
   "metadata": {},
   "outputs": [
    {
     "data": {
      "text/plain": [
       "33"
      ]
     },
     "execution_count": 29,
     "metadata": {},
     "output_type": "execute_result"
    }
   ],
   "source": [
    "sum(data['bid_score'] > 50.)"
   ]
  },
  {
   "cell_type": "code",
   "execution_count": 30,
   "id": "a8f97ca0",
   "metadata": {},
   "outputs": [],
   "source": [
    "data = data.drop(np.where(data['bid_score'] > 50.)[0], axis=0).reset_index(drop=True)"
   ]
  },
  {
   "cell_type": "code",
   "execution_count": 31,
   "id": "cba776dd",
   "metadata": {},
   "outputs": [],
   "source": [
    "import matplotlib.pyplot as plt\n",
    "\n",
    "def take_proportion_importance(prop_name):\n",
    "\n",
    "    score_mean = np.mean(data[prop_name])\n",
    "\n",
    "    big_score = data[prop_name] >= score_mean\n",
    "    bid_score_percents = sum(data.loc[big_score]['bid_award_status']) / sum(big_score) * 100\n",
    "\n",
    "    little_score = data[prop_name] < score_mean\n",
    "    little_score_percents = sum(data.loc[little_score]['bid_award_status']) / sum(little_score) * 100\n",
    "\n",
    "    print((bid_score_percents, sum(big_score)), (little_score_percents, sum(little_score)))"
   ]
  },
  {
   "cell_type": "markdown",
   "id": "2a7181a1",
   "metadata": {},
   "source": [
    "bid_score also doesn't influence a lot on awardness of the bid"
   ]
  },
  {
   "cell_type": "code",
   "execution_count": 32,
   "id": "286e4744",
   "metadata": {},
   "outputs": [
    {
     "name": "stdout",
     "output_type": "stream",
     "text": [
      "(8.796930665935873, 3649) (8.0, 5875)\n"
     ]
    },
    {
     "data": {
      "text/plain": [
       "[<matplotlib.lines.Line2D at 0x7fdfcd4cb2e0>]"
      ]
     },
     "execution_count": 32,
     "metadata": {},
     "output_type": "execute_result"
    },
    {
     "data": {
      "image/png": "[encoded data removed]",
      "text/plain": [
       "<Figure size 640x480 with 1 Axes>"
      ]
     },
     "metadata": {},
     "output_type": "display_data"
    }
   ],
   "source": [
    "take_proportion_importance('bid_score')\n",
    "plt.plot(data['bid_score'], data['bid_award_status'], 'ro')"
   ]
  },
  {
   "cell_type": "code",
   "execution_count": 33,
   "id": "32f62bc2",
   "metadata": {},
   "outputs": [
    {
     "name": "stdout",
     "output_type": "stream",
     "text": [
      "(4.1679250981576565, 3311) (10.51022050539192, 6213)\n"
     ]
    },
    {
     "data": {
      "text/plain": [
       "[<matplotlib.lines.Line2D at 0x7fdfcb46c400>]"
      ]
     },
     "execution_count": 33,
     "metadata": {},
     "output_type": "execute_result"
    },
    {
     "data": {
      "image/png": "[encoded data removed]",
      "text/plain": [
       "<Figure size 640x480 with 1 Axes>"
      ]
     },
     "metadata": {},
     "output_type": "display_data"
    }
   ],
   "source": [
    "take_proportion_importance('project/bid_amount_proportion')\n",
    "plt.plot(data['project/bid_amount_proportion'], data['bid_award_status'], 'ro')"
   ]
  },
  {
   "cell_type": "code",
   "execution_count": 34,
   "id": "237b206d",
   "metadata": {},
   "outputs": [
    {
     "name": "stdout",
     "output_type": "stream",
     "text": [
      "(10.170293282876063, 2114) (7.773279352226721, 7410)\n"
     ]
    }
   ],
   "source": [
    "take_proportion_importance('bid_delay')"
   ]
  },
  {
   "cell_type": "markdown",
   "id": "44ea48e3",
   "metadata": {},
   "source": [
    "### prepare data"
   ]
  },
  {
   "cell_type": "code",
   "execution_count": 35,
   "id": "5258e85c",
   "metadata": {},
   "outputs": [
    {
     "name": "stdout",
     "output_type": "stream",
     "text": [
      "bid_score\n"
     ]
    },
    {
     "data": {
      "image/png": "[encoded data removed]",
      "text/plain": [
       "<Figure size 640x480 with 1 Axes>"
      ]
     },
     "metadata": {},
     "output_type": "display_data"
    },
    {
     "name": "stdout",
     "output_type": "stream",
     "text": [
      "bid_period\n"
     ]
    },
    {
     "data": {
      "image/png": "[encoded data removed]",
      "text/plain": [
       "<Figure size 640x480 with 1 Axes>"
      ]
     },
     "metadata": {},
     "output_type": "display_data"
    },
    {
     "name": "stdout",
     "output_type": "stream",
     "text": [
      "bid_quality\n"
     ]
    },
    {
     "data": {
      "image/png": "[encoded data removed]",
      "text/plain": [
       "<Figure size 640x480 with 1 Axes>"
      ]
     },
     "metadata": {},
     "output_type": "display_data"
    },
    {
     "name": "stdout",
     "output_type": "stream",
     "text": [
      "project/bid_amount_proportion\n"
     ]
    },
    {
     "data": {
      "image/png": "[encoded data removed]",
      "text/plain": [
       "<Figure size 640x480 with 1 Axes>"
      ]
     },
     "metadata": {},
     "output_type": "display_data"
    },
    {
     "name": "stdout",
     "output_type": "stream",
     "text": [
      "bid_delay\n"
     ]
    },
    {
     "data": {
      "image/png": "[encoded data removed]",
      "text/plain": [
       "<Figure size 640x480 with 1 Axes>"
      ]
     },
     "metadata": {},
     "output_type": "display_data"
    },
    {
     "name": "stdout",
     "output_type": "stream",
     "text": [
      "same_words_title/bid_proportion\n"
     ]
    },
    {
     "data": {
      "image/png": "[encoded data removed]",
      "text/plain": [
       "<Figure size 640x480 with 1 Axes>"
      ]
     },
     "metadata": {},
     "output_type": "display_data"
    },
    {
     "name": "stdout",
     "output_type": "stream",
     "text": [
      "same_words_descr/bid_proportion\n"
     ]
    },
    {
     "data": {
      "image/png": "[encoded data removed]",
      "text/plain": [
       "<Figure size 640x480 with 1 Axes>"
      ]
     },
     "metadata": {},
     "output_type": "display_data"
    },
    {
     "name": "stdout",
     "output_type": "stream",
     "text": [
      "bid_descr_len\n"
     ]
    },
    {
     "data": {
      "image/png": "[encoded data removed]",
      "text/plain": [
       "<Figure size 640x480 with 1 Axes>"
      ]
     },
     "metadata": {},
     "output_type": "display_data"
    },
    {
     "name": "stdout",
     "output_type": "stream",
     "text": [
      "proj/bid_lens_proportion\n"
     ]
    },
    {
     "data": {
      "image/png": "[encoded data removed]",
      "text/plain": [
       "<Figure size 640x480 with 1 Axes>"
      ]
     },
     "metadata": {},
     "output_type": "display_data"
    }
   ],
   "source": [
    "for column in data.select_dtypes(include=['number']).columns:\n",
    "    if column in ['project_id']: continue\n",
    "        \n",
    "#     plt.figure(figsize=(10,2))\n",
    "    print(column)\n",
    "    data[column].plot.hist()\n",
    "    plt.show()"
   ]
  },
  {
   "cell_type": "code",
   "execution_count": 36,
   "id": "ac9a45a8",
   "metadata": {},
   "outputs": [],
   "source": [
    "from sklearn.model_selection import StratifiedShuffleSplit\n",
    "\n",
    "sss = StratifiedShuffleSplit(n_splits=1, test_size=.2)\n",
    "\n",
    "X = data.drop(['project_id', 'bid_award_status'], axis=1)\n",
    "project_ids = data['project_id'].values\n",
    "\n",
    "X_num, X_cat = X.select_dtypes(include=['number']).values, X.select_dtypes(exclude=['number']).values\n",
    "\n",
    "y = data['bid_award_status'].to_numpy()\n",
    "\n",
    "for train_index, test_index in sss.split(X,y):\n",
    "    X_train_num, X_test_num  = X_num[train_index], X_num[test_index]\n",
    "    X_train_cat, X_test_cat = X_cat[train_index], X_cat[test_index]\n",
    "    \n",
    "    y_train, y_test = y[train_index], y[test_index]\n",
    "    \n",
    "    project_ids = np.append(project_ids[train_index], project_ids[test_index])"
   ]
  },
  {
   "cell_type": "code",
   "execution_count": 37,
   "id": "ab16f971",
   "metadata": {},
   "outputs": [],
   "source": [
    "from sklearn.preprocessing import MinMaxScaler, StandardScaler\n",
    "\n",
    "scaler = StandardScaler()\n",
    "\n",
    "X_train_num = scaler.fit_transform(X_train_num)\n",
    "X_test_num = scaler.transform(X_test_num)"
   ]
  },
  {
   "cell_type": "code",
   "execution_count": 38,
   "id": "a23389bd",
   "metadata": {},
   "outputs": [],
   "source": [
    "X_train, X_test = np.c_[X_train_num, X_train_cat], np.c_[X_test_num, X_test_cat]"
   ]
  },
  {
   "cell_type": "code",
   "execution_count": 39,
   "id": "0a8dd4e5",
   "metadata": {},
   "outputs": [],
   "source": [
    "# for train_index, val_index in sss.split(X_train, y_train):\n",
    "#     X_val, y_val = X_train[val_index], y_train[val_index]\n",
    "#     X_train, y_train = X_train[train_index], y_train[train_index]"
   ]
  },
  {
   "cell_type": "markdown",
   "id": "7a0cc917",
   "metadata": {},
   "source": [
    "### Algorithms checking"
   ]
  },
  {
   "cell_type": "code",
   "execution_count": 62,
   "id": "aada6a37",
   "metadata": {
    "scrolled": true
   },
   "outputs": [
    {
     "name": "stdout",
     "output_type": "stream",
     "text": [
      "LogisticRegression\n",
      "accuracy 51.29%\n",
      "precision 12.18%\n",
      "recall 78.48%\n",
      "\n",
      "RandomForestClassifier\n",
      "accuracy 91.55%\n",
      "precision 28.57%\n",
      "recall 1.27%\n",
      "\n",
      "GradientBoostingClassifier\n",
      "accuracy 91.76%\n",
      "precision 52.94%\n",
      "recall 5.7%\n",
      "\n",
      "SVC\n",
      "accuracy 58.64%\n",
      "precision 14.29%\n",
      "recall 79.75%\n",
      "\n",
      "LinearSVC\n"
     ]
    },
    {
     "name": "stderr",
     "output_type": "stream",
     "text": [
      "/home/hacker/_sources/_apps/anaconda3/envs/tf/lib/python3.8/site-packages/sklearn/svm/_base.py:1244: ConvergenceWarning: Liblinear failed to converge, increase the number of iterations.\n",
      "  warnings.warn(\n"
     ]
    },
    {
     "name": "stdout",
     "output_type": "stream",
     "text": [
      "accuracy 49.87%\n",
      "precision 12.23%\n",
      "recall 81.65%\n",
      "\n",
      "KNeighborsClassifier\n",
      "accuracy 91.02%\n",
      "precision 24.0%\n",
      "recall 3.8%\n",
      "\n",
      "GaussianNB\n",
      "accuracy 32.6%\n",
      "precision 10.18%\n",
      "recall 91.14%\n",
      "\n"
     ]
    }
   ],
   "source": [
    "from sklearn.linear_model import LogisticRegression\n",
    "from sklearn.ensemble import RandomForestClassifier, GradientBoostingClassifier\n",
    "from sklearn.neighbors import KNeighborsClassifier\n",
    "from sklearn.naive_bayes import GaussianNB\n",
    "from sklearn.svm import LinearSVC, SVC\n",
    "\n",
    "from functools import partial\n",
    "\n",
    "from sklearn.metrics import accuracy_score, precision_score, recall_score\n",
    "\n",
    "def get_metrics(y,pred):\n",
    "    for metric in [accuracy_score, precision_score, recall_score]:\n",
    "        if metric.__name__ == 'accuracy_score':\n",
    "            result = metric(y, pred)\n",
    "        else:\n",
    "            result = metric(y, pred, zero_division=0)\n",
    "        print(metric.__name__[:-6], f'{round(result*100,2)}%')\n",
    "\n",
    "trained_models = [] # for future hard voting\n",
    "\n",
    "models = [partial(LogisticRegression, max_iter=10_000), RandomForestClassifier, GradientBoostingClassifier, \n",
    "          SVC, partial(LinearSVC, max_iter=10_000), KNeighborsClassifier, GaussianNB]\n",
    "for model in models:\n",
    "        \n",
    "    try:\n",
    "        model = model(class_weight='balanced')\n",
    "    except:\n",
    "        model = model()\n",
    "    \n",
    "    print(type(model).__name__)\n",
    "        \n",
    "    model.fit(X_train, y_train)\n",
    "    trained_models.append(model)\n",
    "    \n",
    "    pred = model.predict(X_test)\n",
    "    \n",
    "    get_metrics(y_test,pred)\n",
    "        \n",
    "    print()"
   ]
  },
  {
   "cell_type": "markdown",
   "id": "61b3d811",
   "metadata": {},
   "source": [
    "- for precision: the best is Gradient Boosting. With this model, only for 2 of 20 project will be given result, but one of two of such prediction will be correct\n",
    "\n",
    "- for recall: the best is Gaussian Naive Bayes. In the predictions of such model, it will be appear 90% of awarded bids, but only 10% of all positive predictions will be correct"
   ]
  },
  {
   "cell_type": "markdown",
   "id": "ceed1e83",
   "metadata": {},
   "source": [
    "### Looking at correct predictions of the winner"
   ]
  },
  {
   "cell_type": "code",
   "execution_count": null,
   "id": "15a9c7de",
   "metadata": {},
   "outputs": [],
   "source": [
    "X = np.append(X_train, X_test, axis=0)\n",
    "y = np.append(y_train, y_test, axis=0)\n",
    "\n",
    "def get_accuracies(y,pred):\n",
    "    top_accuracy, top_2_accuracy = [],[]\n",
    "    for project_id in set(project_ids):\n",
    "        indexes = project_ids == project_id\n",
    "        \n",
    "        if sum(indexes) < 10: continue\n",
    "        projects_n+=1\n",
    "        \n",
    "        y_project,pred_project = y[indexes], pred[indexes]\n",
    "        \n",
    "        # choosing the best bid (along predictions)\n",
    "        top_accuracy.append( y_project[np.argmax(pred_project)] )\n",
    "        \n",
    "        # choosing the top 2 best bids (along predictions)\n",
    "        sorted_pred = np.argsort(pred_project)[:-2 -1:-1]\n",
    "        top_2_accuracy.append( any(y_project[ sorted_pred ]) )\n",
    "        \n",
    "    top_accuracy = np.mean(top_accuracy) * 100\n",
    "    top_2_accuracy = np.mean(top_2_accuracy) * 100\n",
    "\n",
    "    return top_accuracy, top_2_accuracy"
   ]
  },
  {
   "cell_type": "code",
   "execution_count": 81,
   "id": "274ffbff",
   "metadata": {},
   "outputs": [
    {
     "name": "stdout",
     "output_type": "stream",
     "text": [
      "model name: LogisticRegression, top accuracy: 12.89%, top 2 accuracy: 23.28%\n",
      "model name: RandomForestClassifier, top accuracy: 80.46%, top 2 accuracy: 88.36%\n",
      "model name: GradientBoostingClassifier, top accuracy: 12.68%, top 2 accuracy: 17.67%\n",
      "model name: SVC, top accuracy: 14.97%, top 2 accuracy: 26.20%\n",
      "model name: LinearSVC, top accuracy: 13.10%, top 2 accuracy: 21.62%\n",
      "model name: KNeighborsClassifier, top accuracy: 16.22%, top 2 accuracy: 20.79%\n",
      "model name: GaussianNB, top accuracy: 10.19%, top 2 accuracy: 18.30%\n",
      "Projects test number 481\n"
     ]
    }
   ],
   "source": [
    "for model in trained_models:\n",
    "    pred = model.predict(X)\n",
    "    \n",
    "    top_accuracy, top_2_accuracy = get_accuracies(y, pred)\n",
    "    \n",
    "    print('model name: {}, top accuracy: {:.2f}%, top 2 accuracy: {:.2f}%'.format(\n",
    "        type(model).__name__,top_accuracy,top_2_accuracy))\n",
    "    \n",
    "print('Projects test number', len(set(project_ids)))"
   ]
  },
  {
   "cell_type": "markdown",
   "id": "04261bb3",
   "metadata": {},
   "source": [
    "- as conclusion for entire project, the best model is Random Forest. So for each project the model will predict correctly the awarded bin, with 80% probability, or 88% if to look at the first and second biggest probabilities"
   ]
  },
  {
   "cell_type": "markdown",
   "id": "8ecc48bb",
   "metadata": {},
   "source": [
    "### Further training of  models (SVC - Support Vector Classification)"
   ]
  },
  {
   "cell_type": "code",
   "execution_count": 337,
   "id": "e8ded682",
   "metadata": {},
   "outputs": [
    {
     "name": "stdout",
     "output_type": "stream",
     "text": [
      "Fitting 3 folds for each of 10 candidates, totalling 30 fits\n",
      "[CV] END .....C=2.9795712456729833, gamma=0.0022469075884805; total time=   1.6s\n",
      "[CV] END .....C=2.9795712456729833, gamma=0.0022469075884805; total time=   1.6s\n",
      "[CV] END .....C=2.9795712456729833, gamma=0.0022469075884805; total time=   1.6s\n",
      "[CV] END ....C=12.513403566980532, gamma=0.02955194223498697; total time=   1.5s\n",
      "[CV] END ....C=12.513403566980532, gamma=0.02955194223498697; total time=   1.5s\n",
      "[CV] END ....C=12.513403566980532, gamma=0.02955194223498697; total time=   1.5s\n",
      "[CV] END ...C=3.524400448502831, gamma=0.0002197222920863366; total time=   1.9s\n",
      "[CV] END ...C=3.524400448502831, gamma=0.0002197222920863366; total time=   1.9s\n",
      "[CV] END ...C=3.524400448502831, gamma=0.0002197222920863366; total time=   1.8s\n",
      "[CV] END ...C=10.761106844109145, gamma=0.011009214500460713; total time=   1.5s\n",
      "[CV] END ...C=10.761106844109145, gamma=0.011009214500460713; total time=   1.8s\n",
      "[CV] END ...C=10.761106844109145, gamma=0.011009214500460713; total time=   1.6s\n",
      "[CV] END ...C=10.371403177427645, gamma=0.009470962799019675; total time=   1.5s\n",
      "[CV] END ...C=10.371403177427645, gamma=0.009470962799019675; total time=   1.5s\n",
      "[CV] END ...C=10.371403177427645, gamma=0.009470962799019675; total time=   1.5s\n",
      "[CV] END ....C=9.025426205131973, gamma=0.001115179296341253; total time=   1.7s\n",
      "[CV] END ....C=9.025426205131973, gamma=0.001115179296341253; total time=   1.6s\n",
      "[CV] END ....C=9.025426205131973, gamma=0.001115179296341253; total time=   1.8s\n",
      "[CV] END ...C=7.5962885964891225, gamma=0.011107929299450354; total time=   1.6s\n",
      "[CV] END ...C=7.5962885964891225, gamma=0.011107929299450354; total time=   1.7s\n",
      "[CV] END ...C=7.5962885964891225, gamma=0.011107929299450354; total time=   1.6s\n",
      "[CV] END ....C=8.47815316091619, gamma=0.0007511673332018612; total time=   1.7s\n",
      "[CV] END ....C=8.47815316091619, gamma=0.0007511673332018612; total time=   1.7s\n",
      "[CV] END ....C=8.47815316091619, gamma=0.0007511673332018612; total time=   1.7s\n",
      "[CV] END ......C=1.36392599622528, gamma=0.07586795381188935; total time=   1.6s\n",
      "[CV] END ......C=1.36392599622528, gamma=0.07586795381188935; total time=   1.6s\n",
      "[CV] END ......C=1.36392599622528, gamma=0.07586795381188935; total time=   2.1s\n",
      "[CV] END ...C=7.3308049907478745, gamma=0.045798151396616624; total time=   2.0s\n",
      "[CV] END ...C=7.3308049907478745, gamma=0.045798151396616624; total time=   1.9s\n",
      "[CV] END ...C=7.3308049907478745, gamma=0.045798151396616624; total time=   1.8s\n"
     ]
    },
    {
     "data": {
      "text/html": [
       "<style>#sk-container-id-11 {color: black;background-color: white;}#sk-container-id-11 pre{padding: 0;}#sk-container-id-11 div.sk-toggleable {background-color: white;}#sk-container-id-11 label.sk-toggleable__label {cursor: pointer;display: block;width: 100%;margin-bottom: 0;padding: 0.3em;box-sizing: border-box;text-align: center;}#sk-container-id-11 label.sk-toggleable__label-arrow:before {content: \"▸\";float: left;margin-right: 0.25em;color: #696969;}#sk-container-id-11 label.sk-toggleable__label-arrow:hover:before {color: black;}#sk-container-id-11 div.sk-estimator:hover label.sk-toggleable__label-arrow:before {color: black;}#sk-container-id-11 div.sk-toggleable__content {max-height: 0;max-width: 0;overflow: hidden;text-align: left;background-color: #f0f8ff;}#sk-container-id-11 div.sk-toggleable__content pre {margin: 0.2em;color: black;border-radius: 0.25em;background-color: #f0f8ff;}#sk-container-id-11 input.sk-toggleable__control:checked~div.sk-toggleable__content {max-height: 200px;max-width: 100%;overflow: auto;}#sk-container-id-11 input.sk-toggleable__control:checked~label.sk-toggleable__label-arrow:before {content: \"▾\";}#sk-container-id-11 div.sk-estimator input.sk-toggleable__control:checked~label.sk-toggleable__label {background-color: #d4ebff;}#sk-container-id-11 div.sk-label input.sk-toggleable__control:checked~label.sk-toggleable__label {background-color: #d4ebff;}#sk-container-id-11 input.sk-hidden--visually {border: 0;clip: rect(1px 1px 1px 1px);clip: rect(1px, 1px, 1px, 1px);height: 1px;margin: -1px;overflow: hidden;padding: 0;position: absolute;width: 1px;}#sk-container-id-11 div.sk-estimator {font-family: monospace;background-color: #f0f8ff;border: 1px dotted black;border-radius: 0.25em;box-sizing: border-box;margin-bottom: 0.5em;}#sk-container-id-11 div.sk-estimator:hover {background-color: #d4ebff;}#sk-container-id-11 div.sk-parallel-item::after {content: \"\";width: 100%;border-bottom: 1px solid gray;flex-grow: 1;}#sk-container-id-11 div.sk-label:hover label.sk-toggleable__label {background-color: #d4ebff;}#sk-container-id-11 div.sk-serial::before {content: \"\";position: absolute;border-left: 1px solid gray;box-sizing: border-box;top: 0;bottom: 0;left: 50%;z-index: 0;}#sk-container-id-11 div.sk-serial {display: flex;flex-direction: column;align-items: center;background-color: white;padding-right: 0.2em;padding-left: 0.2em;position: relative;}#sk-container-id-11 div.sk-item {position: relative;z-index: 1;}#sk-container-id-11 div.sk-parallel {display: flex;align-items: stretch;justify-content: center;background-color: white;position: relative;}#sk-container-id-11 div.sk-item::before, #sk-container-id-11 div.sk-parallel-item::before {content: \"\";position: absolute;border-left: 1px solid gray;box-sizing: border-box;top: 0;bottom: 0;left: 50%;z-index: -1;}#sk-container-id-11 div.sk-parallel-item {display: flex;flex-direction: column;z-index: 1;position: relative;background-color: white;}#sk-container-id-11 div.sk-parallel-item:first-child::after {align-self: flex-end;width: 50%;}#sk-container-id-11 div.sk-parallel-item:last-child::after {align-self: flex-start;width: 50%;}#sk-container-id-11 div.sk-parallel-item:only-child::after {width: 0;}#sk-container-id-11 div.sk-dashed-wrapped {border: 1px dashed gray;margin: 0 0.4em 0.5em 0.4em;box-sizing: border-box;padding-bottom: 0.4em;background-color: white;}#sk-container-id-11 div.sk-label label {font-family: monospace;font-weight: bold;display: inline-block;line-height: 1.2em;}#sk-container-id-11 div.sk-label-container {text-align: center;}#sk-container-id-11 div.sk-container {/* jupyter's `normalize.less` sets `[hidden] { display: none; }` but bootstrap.min.css set `[hidden] { display: none !important; }` so we also need the `!important` here to be able to override the default hidden behavior on the sphinx rendered scikit-learn.org. See: https://github.com/scikit-learn/scikit-learn/issues/21755 */display: inline-block !important;position: relative;}#sk-container-id-11 div.sk-text-repr-fallback {display: none;}</style><div id=\"sk-container-id-11\" class=\"sk-top-container\"><div class=\"sk-text-repr-fallback\"><pre>RandomizedSearchCV(cv=3, estimator=SVC(class_weight=&#x27;balanced&#x27;),\n",
       "                   param_distributions={&#x27;C&#x27;: &lt;scipy.stats._distn_infrastructure.rv_continuous_frozen object at 0x7fe6ec333790&gt;,\n",
       "                                        &#x27;gamma&#x27;: &lt;scipy.stats._distn_infrastructure.rv_continuous_frozen object at 0x7fe6d3099af0&gt;},\n",
       "                   scoring=&#x27;f1&#x27;, verbose=2)</pre><b>In a Jupyter environment, please rerun this cell to show the HTML representation or trust the notebook. <br />On GitHub, the HTML representation is unable to render, please try loading this page with nbviewer.org.</b></div><div class=\"sk-container\" hidden><div class=\"sk-item sk-dashed-wrapped\"><div class=\"sk-label-container\"><div class=\"sk-label sk-toggleable\"><input class=\"sk-toggleable__control sk-hidden--visually\" id=\"sk-estimator-id-21\" type=\"checkbox\" ><label for=\"sk-estimator-id-21\" class=\"sk-toggleable__label sk-toggleable__label-arrow\">RandomizedSearchCV</label><div class=\"sk-toggleable__content\"><pre>RandomizedSearchCV(cv=3, estimator=SVC(class_weight=&#x27;balanced&#x27;),\n",
       "                   param_distributions={&#x27;C&#x27;: &lt;scipy.stats._distn_infrastructure.rv_continuous_frozen object at 0x7fe6ec333790&gt;,\n",
       "                                        &#x27;gamma&#x27;: &lt;scipy.stats._distn_infrastructure.rv_continuous_frozen object at 0x7fe6d3099af0&gt;},\n",
       "                   scoring=&#x27;f1&#x27;, verbose=2)</pre></div></div></div><div class=\"sk-parallel\"><div class=\"sk-parallel-item\"><div class=\"sk-item\"><div class=\"sk-label-container\"><div class=\"sk-label sk-toggleable\"><input class=\"sk-toggleable__control sk-hidden--visually\" id=\"sk-estimator-id-22\" type=\"checkbox\" ><label for=\"sk-estimator-id-22\" class=\"sk-toggleable__label sk-toggleable__label-arrow\">estimator: SVC</label><div class=\"sk-toggleable__content\"><pre>SVC(class_weight=&#x27;balanced&#x27;)</pre></div></div></div><div class=\"sk-serial\"><div class=\"sk-item\"><div class=\"sk-estimator sk-toggleable\"><input class=\"sk-toggleable__control sk-hidden--visually\" id=\"sk-estimator-id-23\" type=\"checkbox\" ><label for=\"sk-estimator-id-23\" class=\"sk-toggleable__label sk-toggleable__label-arrow\">SVC</label><div class=\"sk-toggleable__content\"><pre>SVC(class_weight=&#x27;balanced&#x27;)</pre></div></div></div></div></div></div></div></div></div></div>"
      ],
      "text/plain": [
       "RandomizedSearchCV(cv=3, estimator=SVC(class_weight='balanced'),\n",
       "                   param_distributions={'C': <scipy.stats._distn_infrastructure.rv_continuous_frozen object at 0x7fe6ec333790>,\n",
       "                                        'gamma': <scipy.stats._distn_infrastructure.rv_continuous_frozen object at 0x7fe6d3099af0>},\n",
       "                   scoring='f1', verbose=2)"
      ]
     },
     "execution_count": 337,
     "metadata": {},
     "output_type": "execute_result"
    }
   ],
   "source": [
    "from sklearn.model_selection import RandomizedSearchCV\n",
    "from scipy.stats import reciprocal, uniform\n",
    "\n",
    "svc = SVC(class_weight='balanced')\n",
    "\n",
    "params_distributions = {\"gamma\": reciprocal(.0001, 0.5), \"C\": uniform(1,15)}\n",
    "rnd_search_cv = RandomizedSearchCV(svc, params_distributions, n_iter=10, verbose=2, cv=3, scoring='f1')\n",
    "rnd_search_cv.fit(X_train, y_train)"
   ]
  },
  {
   "cell_type": "code",
   "execution_count": 338,
   "id": "dc9d433b",
   "metadata": {},
   "outputs": [
    {
     "data": {
      "text/plain": [
       "18.34"
      ]
     },
     "execution_count": 338,
     "metadata": {},
     "output_type": "execute_result"
    }
   ],
   "source": [
    "round(rnd_search_cv.best_score_*100,2)"
   ]
  },
  {
   "cell_type": "code",
   "execution_count": 339,
   "id": "c5389e20",
   "metadata": {},
   "outputs": [
    {
     "data": {
      "text/html": [
       "<style>#sk-container-id-12 {color: black;background-color: white;}#sk-container-id-12 pre{padding: 0;}#sk-container-id-12 div.sk-toggleable {background-color: white;}#sk-container-id-12 label.sk-toggleable__label {cursor: pointer;display: block;width: 100%;margin-bottom: 0;padding: 0.3em;box-sizing: border-box;text-align: center;}#sk-container-id-12 label.sk-toggleable__label-arrow:before {content: \"▸\";float: left;margin-right: 0.25em;color: #696969;}#sk-container-id-12 label.sk-toggleable__label-arrow:hover:before {color: black;}#sk-container-id-12 div.sk-estimator:hover label.sk-toggleable__label-arrow:before {color: black;}#sk-container-id-12 div.sk-toggleable__content {max-height: 0;max-width: 0;overflow: hidden;text-align: left;background-color: #f0f8ff;}#sk-container-id-12 div.sk-toggleable__content pre {margin: 0.2em;color: black;border-radius: 0.25em;background-color: #f0f8ff;}#sk-container-id-12 input.sk-toggleable__control:checked~div.sk-toggleable__content {max-height: 200px;max-width: 100%;overflow: auto;}#sk-container-id-12 input.sk-toggleable__control:checked~label.sk-toggleable__label-arrow:before {content: \"▾\";}#sk-container-id-12 div.sk-estimator input.sk-toggleable__control:checked~label.sk-toggleable__label {background-color: #d4ebff;}#sk-container-id-12 div.sk-label input.sk-toggleable__control:checked~label.sk-toggleable__label {background-color: #d4ebff;}#sk-container-id-12 input.sk-hidden--visually {border: 0;clip: rect(1px 1px 1px 1px);clip: rect(1px, 1px, 1px, 1px);height: 1px;margin: -1px;overflow: hidden;padding: 0;position: absolute;width: 1px;}#sk-container-id-12 div.sk-estimator {font-family: monospace;background-color: #f0f8ff;border: 1px dotted black;border-radius: 0.25em;box-sizing: border-box;margin-bottom: 0.5em;}#sk-container-id-12 div.sk-estimator:hover {background-color: #d4ebff;}#sk-container-id-12 div.sk-parallel-item::after {content: \"\";width: 100%;border-bottom: 1px solid gray;flex-grow: 1;}#sk-container-id-12 div.sk-label:hover label.sk-toggleable__label {background-color: #d4ebff;}#sk-container-id-12 div.sk-serial::before {content: \"\";position: absolute;border-left: 1px solid gray;box-sizing: border-box;top: 0;bottom: 0;left: 50%;z-index: 0;}#sk-container-id-12 div.sk-serial {display: flex;flex-direction: column;align-items: center;background-color: white;padding-right: 0.2em;padding-left: 0.2em;position: relative;}#sk-container-id-12 div.sk-item {position: relative;z-index: 1;}#sk-container-id-12 div.sk-parallel {display: flex;align-items: stretch;justify-content: center;background-color: white;position: relative;}#sk-container-id-12 div.sk-item::before, #sk-container-id-12 div.sk-parallel-item::before {content: \"\";position: absolute;border-left: 1px solid gray;box-sizing: border-box;top: 0;bottom: 0;left: 50%;z-index: -1;}#sk-container-id-12 div.sk-parallel-item {display: flex;flex-direction: column;z-index: 1;position: relative;background-color: white;}#sk-container-id-12 div.sk-parallel-item:first-child::after {align-self: flex-end;width: 50%;}#sk-container-id-12 div.sk-parallel-item:last-child::after {align-self: flex-start;width: 50%;}#sk-container-id-12 div.sk-parallel-item:only-child::after {width: 0;}#sk-container-id-12 div.sk-dashed-wrapped {border: 1px dashed gray;margin: 0 0.4em 0.5em 0.4em;box-sizing: border-box;padding-bottom: 0.4em;background-color: white;}#sk-container-id-12 div.sk-label label {font-family: monospace;font-weight: bold;display: inline-block;line-height: 1.2em;}#sk-container-id-12 div.sk-label-container {text-align: center;}#sk-container-id-12 div.sk-container {/* jupyter's `normalize.less` sets `[hidden] { display: none; }` but bootstrap.min.css set `[hidden] { display: none !important; }` so we also need the `!important` here to be able to override the default hidden behavior on the sphinx rendered scikit-learn.org. See: https://github.com/scikit-learn/scikit-learn/issues/21755 */display: inline-block !important;position: relative;}#sk-container-id-12 div.sk-text-repr-fallback {display: none;}</style><div id=\"sk-container-id-12\" class=\"sk-top-container\"><div class=\"sk-text-repr-fallback\"><pre>SVC(C=7.3308049907478745, class_weight=&#x27;balanced&#x27;, gamma=0.045798151396616624)</pre><b>In a Jupyter environment, please rerun this cell to show the HTML representation or trust the notebook. <br />On GitHub, the HTML representation is unable to render, please try loading this page with nbviewer.org.</b></div><div class=\"sk-container\" hidden><div class=\"sk-item\"><div class=\"sk-estimator sk-toggleable\"><input class=\"sk-toggleable__control sk-hidden--visually\" id=\"sk-estimator-id-24\" type=\"checkbox\" checked><label for=\"sk-estimator-id-24\" class=\"sk-toggleable__label sk-toggleable__label-arrow\">SVC</label><div class=\"sk-toggleable__content\"><pre>SVC(C=7.3308049907478745, class_weight=&#x27;balanced&#x27;, gamma=0.045798151396616624)</pre></div></div></div></div></div>"
      ],
      "text/plain": [
       "SVC(C=7.3308049907478745, class_weight='balanced', gamma=0.045798151396616624)"
      ]
     },
     "execution_count": 339,
     "metadata": {},
     "output_type": "execute_result"
    }
   ],
   "source": [
    "best_estimator = rnd_search_cv.best_estimator_\n",
    "best_estimator"
   ]
  },
  {
   "cell_type": "code",
   "execution_count": 340,
   "id": "d1809b6f",
   "metadata": {},
   "outputs": [
    {
     "name": "stdout",
     "output_type": "stream",
     "text": [
      "accuracy 56.58%\n",
      "precision 9.96%\n",
      "recall 71.72%\n"
     ]
    }
   ],
   "source": [
    "pred = best_estimator.predict(X_test)\n",
    "get_metrics(y_test,pred)"
   ]
  },
  {
   "cell_type": "markdown",
   "id": "35ab6b2a",
   "metadata": {},
   "source": [
    "### Further training RandomForests"
   ]
  },
  {
   "cell_type": "code",
   "execution_count": 341,
   "id": "1b2a60c3",
   "metadata": {},
   "outputs": [
    {
     "name": "stdout",
     "output_type": "stream",
     "text": [
      "Fitting 3 folds for each of 10 candidates, totalling 30 fits\n",
      "[CV] END .....................max_features=2, n_estimators=5; total time=   0.1s\n",
      "[CV] END .....................max_features=2, n_estimators=5; total time=   0.1s\n",
      "[CV] END .....................max_features=2, n_estimators=5; total time=   0.1s\n",
      "[CV] END ....................max_features=2, n_estimators=20; total time=   0.2s\n",
      "[CV] END ....................max_features=2, n_estimators=20; total time=   0.2s\n",
      "[CV] END ....................max_features=2, n_estimators=20; total time=   0.2s\n",
      "[CV] END ...................max_features=2, n_estimators=100; total time=   0.8s\n",
      "[CV] END ...................max_features=2, n_estimators=100; total time=   0.8s\n",
      "[CV] END ...................max_features=2, n_estimators=100; total time=   0.8s\n",
      "[CV] END .....................max_features=4, n_estimators=5; total time=   0.1s\n",
      "[CV] END .....................max_features=4, n_estimators=5; total time=   0.1s\n",
      "[CV] END .....................max_features=4, n_estimators=5; total time=   0.1s\n",
      "[CV] END ....................max_features=4, n_estimators=20; total time=   0.2s\n",
      "[CV] END ....................max_features=4, n_estimators=20; total time=   0.2s\n",
      "[CV] END ....................max_features=4, n_estimators=20; total time=   0.2s\n",
      "[CV] END ...................max_features=4, n_estimators=100; total time=   1.1s\n",
      "[CV] END ...................max_features=4, n_estimators=100; total time=   1.1s\n",
      "[CV] END ...................max_features=4, n_estimators=100; total time=   1.1s\n",
      "[CV] END ....................max_depth=2, min_samples_leaf=2; total time=   0.5s\n",
      "[CV] END ....................max_depth=2, min_samples_leaf=2; total time=   0.5s\n",
      "[CV] END ....................max_depth=2, min_samples_leaf=2; total time=   0.4s\n",
      "[CV] END ....................max_depth=2, min_samples_leaf=4; total time=   0.4s\n",
      "[CV] END ....................max_depth=2, min_samples_leaf=4; total time=   0.5s\n",
      "[CV] END ....................max_depth=2, min_samples_leaf=4; total time=   0.4s\n",
      "[CV] END ....................max_depth=3, min_samples_leaf=2; total time=   0.5s\n",
      "[CV] END ....................max_depth=3, min_samples_leaf=2; total time=   0.5s\n",
      "[CV] END ....................max_depth=3, min_samples_leaf=2; total time=   0.5s\n",
      "[CV] END ....................max_depth=3, min_samples_leaf=4; total time=   0.5s\n",
      "[CV] END ....................max_depth=3, min_samples_leaf=4; total time=   0.5s\n",
      "[CV] END ....................max_depth=3, min_samples_leaf=4; total time=   0.5s\n"
     ]
    },
    {
     "data": {
      "text/html": [
       "<style>#sk-container-id-13 {color: black;background-color: white;}#sk-container-id-13 pre{padding: 0;}#sk-container-id-13 div.sk-toggleable {background-color: white;}#sk-container-id-13 label.sk-toggleable__label {cursor: pointer;display: block;width: 100%;margin-bottom: 0;padding: 0.3em;box-sizing: border-box;text-align: center;}#sk-container-id-13 label.sk-toggleable__label-arrow:before {content: \"▸\";float: left;margin-right: 0.25em;color: #696969;}#sk-container-id-13 label.sk-toggleable__label-arrow:hover:before {color: black;}#sk-container-id-13 div.sk-estimator:hover label.sk-toggleable__label-arrow:before {color: black;}#sk-container-id-13 div.sk-toggleable__content {max-height: 0;max-width: 0;overflow: hidden;text-align: left;background-color: #f0f8ff;}#sk-container-id-13 div.sk-toggleable__content pre {margin: 0.2em;color: black;border-radius: 0.25em;background-color: #f0f8ff;}#sk-container-id-13 input.sk-toggleable__control:checked~div.sk-toggleable__content {max-height: 200px;max-width: 100%;overflow: auto;}#sk-container-id-13 input.sk-toggleable__control:checked~label.sk-toggleable__label-arrow:before {content: \"▾\";}#sk-container-id-13 div.sk-estimator input.sk-toggleable__control:checked~label.sk-toggleable__label {background-color: #d4ebff;}#sk-container-id-13 div.sk-label input.sk-toggleable__control:checked~label.sk-toggleable__label {background-color: #d4ebff;}#sk-container-id-13 input.sk-hidden--visually {border: 0;clip: rect(1px 1px 1px 1px);clip: rect(1px, 1px, 1px, 1px);height: 1px;margin: -1px;overflow: hidden;padding: 0;position: absolute;width: 1px;}#sk-container-id-13 div.sk-estimator {font-family: monospace;background-color: #f0f8ff;border: 1px dotted black;border-radius: 0.25em;box-sizing: border-box;margin-bottom: 0.5em;}#sk-container-id-13 div.sk-estimator:hover {background-color: #d4ebff;}#sk-container-id-13 div.sk-parallel-item::after {content: \"\";width: 100%;border-bottom: 1px solid gray;flex-grow: 1;}#sk-container-id-13 div.sk-label:hover label.sk-toggleable__label {background-color: #d4ebff;}#sk-container-id-13 div.sk-serial::before {content: \"\";position: absolute;border-left: 1px solid gray;box-sizing: border-box;top: 0;bottom: 0;left: 50%;z-index: 0;}#sk-container-id-13 div.sk-serial {display: flex;flex-direction: column;align-items: center;background-color: white;padding-right: 0.2em;padding-left: 0.2em;position: relative;}#sk-container-id-13 div.sk-item {position: relative;z-index: 1;}#sk-container-id-13 div.sk-parallel {display: flex;align-items: stretch;justify-content: center;background-color: white;position: relative;}#sk-container-id-13 div.sk-item::before, #sk-container-id-13 div.sk-parallel-item::before {content: \"\";position: absolute;border-left: 1px solid gray;box-sizing: border-box;top: 0;bottom: 0;left: 50%;z-index: -1;}#sk-container-id-13 div.sk-parallel-item {display: flex;flex-direction: column;z-index: 1;position: relative;background-color: white;}#sk-container-id-13 div.sk-parallel-item:first-child::after {align-self: flex-end;width: 50%;}#sk-container-id-13 div.sk-parallel-item:last-child::after {align-self: flex-start;width: 50%;}#sk-container-id-13 div.sk-parallel-item:only-child::after {width: 0;}#sk-container-id-13 div.sk-dashed-wrapped {border: 1px dashed gray;margin: 0 0.4em 0.5em 0.4em;box-sizing: border-box;padding-bottom: 0.4em;background-color: white;}#sk-container-id-13 div.sk-label label {font-family: monospace;font-weight: bold;display: inline-block;line-height: 1.2em;}#sk-container-id-13 div.sk-label-container {text-align: center;}#sk-container-id-13 div.sk-container {/* jupyter's `normalize.less` sets `[hidden] { display: none; }` but bootstrap.min.css set `[hidden] { display: none !important; }` so we also need the `!important` here to be able to override the default hidden behavior on the sphinx rendered scikit-learn.org. See: https://github.com/scikit-learn/scikit-learn/issues/21755 */display: inline-block !important;position: relative;}#sk-container-id-13 div.sk-text-repr-fallback {display: none;}</style><div id=\"sk-container-id-13\" class=\"sk-top-container\"><div class=\"sk-text-repr-fallback\"><pre>RandomizedSearchCV(cv=3,\n",
       "                   estimator=RandomForestClassifier(class_weight=&#x27;balanced&#x27;),\n",
       "                   param_distributions=[{&#x27;max_features&#x27;: [2, 4],\n",
       "                                         &#x27;n_estimators&#x27;: [5, 20, 100]},\n",
       "                                        {&#x27;max_depth&#x27;: [2, 3],\n",
       "                                         &#x27;min_samples_leaf&#x27;: [2, 4]}],\n",
       "                   scoring=&#x27;recall&#x27;, verbose=2)</pre><b>In a Jupyter environment, please rerun this cell to show the HTML representation or trust the notebook. <br />On GitHub, the HTML representation is unable to render, please try loading this page with nbviewer.org.</b></div><div class=\"sk-container\" hidden><div class=\"sk-item sk-dashed-wrapped\"><div class=\"sk-label-container\"><div class=\"sk-label sk-toggleable\"><input class=\"sk-toggleable__control sk-hidden--visually\" id=\"sk-estimator-id-25\" type=\"checkbox\" ><label for=\"sk-estimator-id-25\" class=\"sk-toggleable__label sk-toggleable__label-arrow\">RandomizedSearchCV</label><div class=\"sk-toggleable__content\"><pre>RandomizedSearchCV(cv=3,\n",
       "                   estimator=RandomForestClassifier(class_weight=&#x27;balanced&#x27;),\n",
       "                   param_distributions=[{&#x27;max_features&#x27;: [2, 4],\n",
       "                                         &#x27;n_estimators&#x27;: [5, 20, 100]},\n",
       "                                        {&#x27;max_depth&#x27;: [2, 3],\n",
       "                                         &#x27;min_samples_leaf&#x27;: [2, 4]}],\n",
       "                   scoring=&#x27;recall&#x27;, verbose=2)</pre></div></div></div><div class=\"sk-parallel\"><div class=\"sk-parallel-item\"><div class=\"sk-item\"><div class=\"sk-label-container\"><div class=\"sk-label sk-toggleable\"><input class=\"sk-toggleable__control sk-hidden--visually\" id=\"sk-estimator-id-26\" type=\"checkbox\" ><label for=\"sk-estimator-id-26\" class=\"sk-toggleable__label sk-toggleable__label-arrow\">estimator: RandomForestClassifier</label><div class=\"sk-toggleable__content\"><pre>RandomForestClassifier(class_weight=&#x27;balanced&#x27;)</pre></div></div></div><div class=\"sk-serial\"><div class=\"sk-item\"><div class=\"sk-estimator sk-toggleable\"><input class=\"sk-toggleable__control sk-hidden--visually\" id=\"sk-estimator-id-27\" type=\"checkbox\" ><label for=\"sk-estimator-id-27\" class=\"sk-toggleable__label sk-toggleable__label-arrow\">RandomForestClassifier</label><div class=\"sk-toggleable__content\"><pre>RandomForestClassifier(class_weight=&#x27;balanced&#x27;)</pre></div></div></div></div></div></div></div></div></div></div>"
      ],
      "text/plain": [
       "RandomizedSearchCV(cv=3,\n",
       "                   estimator=RandomForestClassifier(class_weight='balanced'),\n",
       "                   param_distributions=[{'max_features': [2, 4],\n",
       "                                         'n_estimators': [5, 20, 100]},\n",
       "                                        {'max_depth': [2, 3],\n",
       "                                         'min_samples_leaf': [2, 4]}],\n",
       "                   scoring='recall', verbose=2)"
      ]
     },
     "execution_count": 341,
     "metadata": {},
     "output_type": "execute_result"
    }
   ],
   "source": [
    "from sklearn.model_selection import GridSearchCV\n",
    "\n",
    "svc = RandomForestClassifier(class_weight='balanced')\n",
    "\n",
    "params_grid = [{\"n_estimators\": [5,20,100], \"max_features\": [2,4]},\n",
    "               {\"min_samples_leaf\": [2,4], \"max_depth\": [2,3]}]\n",
    "\n",
    "grid_search_cv = RandomizedSearchCV(svc, params_grid, n_iter=10, verbose=2, cv=3, scoring='recall')\n",
    "grid_search_cv.fit(X_train, y_train)"
   ]
  },
  {
   "cell_type": "code",
   "execution_count": 342,
   "id": "f517aae0",
   "metadata": {},
   "outputs": [
    {
     "data": {
      "text/html": [
       "<style>#sk-container-id-14 {color: black;background-color: white;}#sk-container-id-14 pre{padding: 0;}#sk-container-id-14 div.sk-toggleable {background-color: white;}#sk-container-id-14 label.sk-toggleable__label {cursor: pointer;display: block;width: 100%;margin-bottom: 0;padding: 0.3em;box-sizing: border-box;text-align: center;}#sk-container-id-14 label.sk-toggleable__label-arrow:before {content: \"▸\";float: left;margin-right: 0.25em;color: #696969;}#sk-container-id-14 label.sk-toggleable__label-arrow:hover:before {color: black;}#sk-container-id-14 div.sk-estimator:hover label.sk-toggleable__label-arrow:before {color: black;}#sk-container-id-14 div.sk-toggleable__content {max-height: 0;max-width: 0;overflow: hidden;text-align: left;background-color: #f0f8ff;}#sk-container-id-14 div.sk-toggleable__content pre {margin: 0.2em;color: black;border-radius: 0.25em;background-color: #f0f8ff;}#sk-container-id-14 input.sk-toggleable__control:checked~div.sk-toggleable__content {max-height: 200px;max-width: 100%;overflow: auto;}#sk-container-id-14 input.sk-toggleable__control:checked~label.sk-toggleable__label-arrow:before {content: \"▾\";}#sk-container-id-14 div.sk-estimator input.sk-toggleable__control:checked~label.sk-toggleable__label {background-color: #d4ebff;}#sk-container-id-14 div.sk-label input.sk-toggleable__control:checked~label.sk-toggleable__label {background-color: #d4ebff;}#sk-container-id-14 input.sk-hidden--visually {border: 0;clip: rect(1px 1px 1px 1px);clip: rect(1px, 1px, 1px, 1px);height: 1px;margin: -1px;overflow: hidden;padding: 0;position: absolute;width: 1px;}#sk-container-id-14 div.sk-estimator {font-family: monospace;background-color: #f0f8ff;border: 1px dotted black;border-radius: 0.25em;box-sizing: border-box;margin-bottom: 0.5em;}#sk-container-id-14 div.sk-estimator:hover {background-color: #d4ebff;}#sk-container-id-14 div.sk-parallel-item::after {content: \"\";width: 100%;border-bottom: 1px solid gray;flex-grow: 1;}#sk-container-id-14 div.sk-label:hover label.sk-toggleable__label {background-color: #d4ebff;}#sk-container-id-14 div.sk-serial::before {content: \"\";position: absolute;border-left: 1px solid gray;box-sizing: border-box;top: 0;bottom: 0;left: 50%;z-index: 0;}#sk-container-id-14 div.sk-serial {display: flex;flex-direction: column;align-items: center;background-color: white;padding-right: 0.2em;padding-left: 0.2em;position: relative;}#sk-container-id-14 div.sk-item {position: relative;z-index: 1;}#sk-container-id-14 div.sk-parallel {display: flex;align-items: stretch;justify-content: center;background-color: white;position: relative;}#sk-container-id-14 div.sk-item::before, #sk-container-id-14 div.sk-parallel-item::before {content: \"\";position: absolute;border-left: 1px solid gray;box-sizing: border-box;top: 0;bottom: 0;left: 50%;z-index: -1;}#sk-container-id-14 div.sk-parallel-item {display: flex;flex-direction: column;z-index: 1;position: relative;background-color: white;}#sk-container-id-14 div.sk-parallel-item:first-child::after {align-self: flex-end;width: 50%;}#sk-container-id-14 div.sk-parallel-item:last-child::after {align-self: flex-start;width: 50%;}#sk-container-id-14 div.sk-parallel-item:only-child::after {width: 0;}#sk-container-id-14 div.sk-dashed-wrapped {border: 1px dashed gray;margin: 0 0.4em 0.5em 0.4em;box-sizing: border-box;padding-bottom: 0.4em;background-color: white;}#sk-container-id-14 div.sk-label label {font-family: monospace;font-weight: bold;display: inline-block;line-height: 1.2em;}#sk-container-id-14 div.sk-label-container {text-align: center;}#sk-container-id-14 div.sk-container {/* jupyter's `normalize.less` sets `[hidden] { display: none; }` but bootstrap.min.css set `[hidden] { display: none !important; }` so we also need the `!important` here to be able to override the default hidden behavior on the sphinx rendered scikit-learn.org. See: https://github.com/scikit-learn/scikit-learn/issues/21755 */display: inline-block !important;position: relative;}#sk-container-id-14 div.sk-text-repr-fallback {display: none;}</style><div id=\"sk-container-id-14\" class=\"sk-top-container\"><div class=\"sk-text-repr-fallback\"><pre>RandomForestClassifier(class_weight=&#x27;balanced&#x27;, max_depth=2, min_samples_leaf=2)</pre><b>In a Jupyter environment, please rerun this cell to show the HTML representation or trust the notebook. <br />On GitHub, the HTML representation is unable to render, please try loading this page with nbviewer.org.</b></div><div class=\"sk-container\" hidden><div class=\"sk-item\"><div class=\"sk-estimator sk-toggleable\"><input class=\"sk-toggleable__control sk-hidden--visually\" id=\"sk-estimator-id-28\" type=\"checkbox\" checked><label for=\"sk-estimator-id-28\" class=\"sk-toggleable__label sk-toggleable__label-arrow\">RandomForestClassifier</label><div class=\"sk-toggleable__content\"><pre>RandomForestClassifier(class_weight=&#x27;balanced&#x27;, max_depth=2, min_samples_leaf=2)</pre></div></div></div></div></div>"
      ],
      "text/plain": [
       "RandomForestClassifier(class_weight='balanced', max_depth=2, min_samples_leaf=2)"
      ]
     },
     "execution_count": 342,
     "metadata": {},
     "output_type": "execute_result"
    }
   ],
   "source": [
    "best_estimator = grid_search_cv.best_estimator_\n",
    "best_estimator"
   ]
  },
  {
   "cell_type": "code",
   "execution_count": 343,
   "id": "02a38326",
   "metadata": {},
   "outputs": [
    {
     "name": "stdout",
     "output_type": "stream",
     "text": [
      "accuracy 44.98%\n",
      "precision 8.88%\n",
      "recall 81.82%\n"
     ]
    }
   ],
   "source": [
    "pred = best_estimator.predict(X_test)\n",
    "get_metrics(y_test,pred)"
   ]
  },
  {
   "cell_type": "markdown",
   "id": "f05e7f0c",
   "metadata": {},
   "source": [
    "### Hard voting"
   ]
  },
  {
   "cell_type": "code",
   "execution_count": 64,
   "id": "fc6aca47",
   "metadata": {},
   "outputs": [
    {
     "name": "stderr",
     "output_type": "stream",
     "text": [
      "/home/hacker/_sources/_apps/anaconda3/envs/tf/lib/python3.8/site-packages/sklearn/svm/_base.py:1244: ConvergenceWarning: Liblinear failed to converge, increase the number of iterations.\n",
      "  warnings.warn(\n"
     ]
    },
    {
     "name": "stdout",
     "output_type": "stream",
     "text": [
      "accuracy 62.78%\n",
      "precision 14.81%\n",
      "recall 73.42%\n"
     ]
    }
   ],
   "source": [
    "from sklearn.ensemble import VotingClassifier\n",
    "\n",
    "vot_clf = VotingClassifier([(type(model).__name__, model) for model in trained_models],\n",
    "                           voting='hard')\n",
    "vot_clf.fit(X_train, y_train)\n",
    "\n",
    "pred = vot_clf.predict(X_test)\n",
    "get_metrics(y_test, pred)"
   ]
  },
  {
   "cell_type": "code",
   "execution_count": null,
   "id": "22a0d88e",
   "metadata": {},
   "outputs": [],
   "source": []
  }
 ],
 "metadata": {
  "kernelspec": {
   "display_name": "tf",
   "language": "python",
   "name": "tf"
  },
  "language_info": {
   "codemirror_mode": {
    "name": "ipython",
    "version": 3
   },
   "file_extension": ".py",
   "mimetype": "text/x-python",
   "name": "python",
   "nbconvert_exporter": "python",
   "pygments_lexer": "ipython3",
   "version": "3.8.16"
  }
 },
 "nbformat": 4,
 "nbformat_minor": 5
}
