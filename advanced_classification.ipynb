{
 "cells": [
  {
   "cell_type": "code",
   "execution_count": 4,
   "id": "08b80c28",
   "metadata": {
    "executionInfo": {
     "elapsed": 3577,
     "status": "ok",
     "timestamp": 1701873927276,
     "user": {
      "displayName": "English Molecule",
      "userId": "15680542099001298495"
     },
     "user_tz": -60
    },
    "id": "08b80c28"
   },
   "outputs": [],
   "source": [
    "import tensorflow as tf\n",
    "from tensorflow import keras\n",
    "\n",
    "import numpy as np\n",
    "import utils"
   ]
  },
  {
   "cell_type": "markdown",
   "id": "RHOMElo3BIPR",
   "metadata": {
    "id": "RHOMElo3BIPR"
   },
   "source": [
    "### Prepare data"
   ]
  },
  {
   "cell_type": "code",
   "execution_count": null,
   "id": "dfc7c2b2",
   "metadata": {},
   "outputs": [],
   "source": [
    "pretrained_embeddings_model_name = 'ml_projects_vector_embeddings_model'\n",
    "custom_embeddings_model_name = 'ml_projects_custom_embeddings_model'\n",
    "\n",
    "pipeline_name = 'pipeline'"
   ]
  },
  {
   "cell_type": "code",
   "execution_count": 5,
   "id": "9fa1ae98",
   "metadata": {
    "executionInfo": {
     "elapsed": 1513,
     "status": "ok",
     "timestamp": 1701873928770,
     "user": {
      "displayName": "English Molecule",
      "userId": "15680542099001298495"
     },
     "user_tz": -60
    },
    "id": "9fa1ae98"
   },
   "outputs": [],
   "source": [
    "with open('config.json', 'r') as f:\n",
    "    dataset_name = json.load(f)['dataset_name']\n",
    "\n",
    "data = utils.load_bids_df(dataset_name)\n",
    "data['bid_description'] = data['bid_description'].fillna('')"
   ]
  },
  {
   "cell_type": "code",
   "execution_count": 6,
   "id": "f-tJYwM9GxfD",
   "metadata": {
    "executionInfo": {
     "elapsed": 18,
     "status": "ok",
     "timestamp": 1701873928773,
     "user": {
      "displayName": "English Molecule",
      "userId": "15680542099001298495"
     },
     "user_tz": -60
    },
    "id": "f-tJYwM9GxfD"
   },
   "outputs": [],
   "source": [
    "X_1, X_2 = data['project_description'].values, data['bid_description'].values\n",
    "y = data['bid_award_status'].values\n",
    "\n",
    "pos_weight = len(y) / sum(y)\n",
    "sample_weight = y * pos_weight + 1."
   ]
  },
  {
   "cell_type": "code",
   "execution_count": 7,
   "id": "9I5Rg-EHSmPb",
   "metadata": {
    "executionInfo": {
     "elapsed": 1549,
     "status": "ok",
     "timestamp": 1701873930309,
     "user": {
      "displayName": "English Molecule",
      "userId": "15680542099001298495"
     },
     "user_tz": -60
    },
    "id": "9I5Rg-EHSmPb"
   },
   "outputs": [],
   "source": [
    "from sklearn.preprocessing import KBinsDiscretizer\n",
    "from sklearn.preprocessing import StandardScaler\n",
    "\n",
    "cat_columns = ['bid_quality', 'bid_communication', 'bid_professionalism']\n",
    "\n",
    "k_bins = KBinsDiscretizer(2, encode='ordinal',strategy='uniform', subsample=None)\n",
    "data_cat = k_bins.fit_transform(data[cat_columns]).astype(bool)\n",
    "\n",
    "for i, col in enumerate(cat_columns):\n",
    "    data[col] = data_cat[:, i]\n",
    "\n",
    "df_prepared = utils.prepare_df(data)\n",
    "df_prepared = df_prepared.drop(['project_id', 'bid_award_status'], axis=1)\n",
    "\n",
    "cols_num = df_prepared.select_dtypes(include=['number']).columns\n",
    "cols_cat = df_prepared.select_dtypes(exclude=['number']).columns\n",
    "\n",
    "scaler = StandardScaler()\n",
    "X_num = scaler.fit_transform(df_prepared[cols_num])\n",
    "\n",
    "X_3 = np.append(X_num, df_prepared[cols_cat], axis=1).astype('float32')"
   ]
  },
  {
   "cell_type": "markdown",
   "id": "tQF6KrT0PFlJ",
   "metadata": {
    "id": "tQF6KrT0PFlJ"
   },
   "source": [
    "#### basic evaluation functions"
   ]
  },
  {
   "cell_type": "code",
   "execution_count": null,
   "id": "XuolU9yloxCj",
   "metadata": {
    "id": "XuolU9yloxCj"
   },
   "outputs": [],
   "source": [
    "def evaluate_model(model, test_set):\n",
    "    metrics = model.evaluate(test_set)\n",
    "    metrics = np.array(metrics)\n",
    "    metrics[1:] *= 100\n",
    "    print(\"loss: {:.2f}, accuracy: {:.2f}%, precision: {:.2f}%, recall: {:.2f}%\".format(*metrics))"
   ]
  },
  {
   "cell_type": "code",
   "execution_count": null,
   "id": "8Tar3DH93vxv",
   "metadata": {
    "id": "8Tar3DH93vxv"
   },
   "outputs": [],
   "source": [
    "def get_accuracies(y,pred,project_ids,to=2):\n",
    "    top_accuracy, top_2_accuracy = [],[]\n",
    "    for project_id in set(project_ids):\n",
    "        indexes = project_ids == project_id\n",
    "\n",
    "        y_project,pred_project = y[indexes].reshape(-1), pred[indexes].reshape(-1)\n",
    "\n",
    "        if sum(y_project) == 0 or len(y_project) < to or sum(pred_project) == 0: continue\n",
    "\n",
    "        # choosing the best bid (along predictions)\n",
    "        sorted_pred = np.argsort(pred_project)[:-to -1:-1]\n",
    "        top_accuracy.append( y_project[sorted_pred[0]] )\n",
    "\n",
    "        # choosing the top 2 best bids (along predictions)\n",
    "        top_2_accuracy.append( any(y_project[ sorted_pred ]) )\n",
    "\n",
    "    top_accuracy = np.mean(top_accuracy) * 100\n",
    "    top_2_accuracy = np.mean(top_2_accuracy) * 100\n",
    "\n",
    "    return top_accuracy, top_2_accuracy"
   ]
  },
  {
   "cell_type": "markdown",
   "id": "T5LrU86VC4kl",
   "metadata": {
    "id": "T5LrU86VC4kl"
   },
   "source": [
    "### Train model"
   ]
  },
  {
   "cell_type": "code",
   "execution_count": null,
   "id": "tI9802j3IFc0",
   "metadata": {
    "id": "tI9802j3IFc0"
   },
   "outputs": [],
   "source": [
    "ds = tf.data.Dataset.from_tensor_slices(((X_1, X_2, ), y, sample_weight))\n",
    "\n",
    "train_size,val_size = int(.7*len(data)), int(.15*len(data))\n",
    "\n",
    "train_ds = ds.take(train_size).shuffle(1000).batch(32).prefetch(1)\n",
    "val_ds = ds.skip(train_size)\n",
    "\n",
    "test_ds = val_ds.skip(val_size).batch(32).prefetch(1)\n",
    "val_ds = val_ds.take(val_size).batch(32).prefetch(1)"
   ]
  },
  {
   "cell_type": "code",
   "execution_count": null,
   "id": "wGDvoA3VKHZG",
   "metadata": {
    "id": "wGDvoA3VKHZG"
   },
   "outputs": [],
   "source": [
    "import tensorflow_hub as hub\n",
    "\n",
    "embed_1 = keras.models.Sequential([\n",
    "  hub.KerasLayer('https://tfhub.dev/google/tf2-preview/nnlm-en-dim128/1',\n",
    "                 dtype=tf.string, input_shape=[], output_shape=[128],\n",
    "                 name='embed_1', trainable=False),\n",
    "])\n",
    "embed_2 = keras.models.Sequential([\n",
    "  hub.KerasLayer('https://tfhub.dev/google/tf2-preview/nnlm-en-dim128/1',\n",
    "                 dtype=tf.string, input_shape=[], output_shape=[128],\n",
    "                 name='embed_2', trainable=False),\n",
    "])"
   ]
  },
  {
   "cell_type": "code",
   "execution_count": null,
   "id": "9df7bd98",
   "metadata": {
    "id": "9df7bd98"
   },
   "outputs": [],
   "source": [
    "concat = keras.layers.Concatenate()([embed_1.output, embed_2.output])\n",
    "\n",
    "x = keras.layers.Dropout(.2)(concat)\n",
    "\n",
    "x = keras.layers.Dense(32, activation='relu')(x)\n",
    "x = keras.layers.Dense(16, activation='relu')(x)\n",
    "outputs = keras.layers.Dense(1, activation='sigmoid')(x)\n",
    "\n",
    "model = keras.models.Model(inputs=[embed_1.input, embed_2.input,],\n",
    "                           outputs=[outputs])\n",
    "\n",
    "model.compile(loss='binary_crossentropy', optimizer=keras.optimizers.Adam(learning_rate=1e-3),\n",
    "              metrics=['accuracy', keras.metrics.Precision(),\n",
    "                       keras.metrics.Recall()], weighted_metrics=[])\n",
    "\n",
    "early_stop = keras.callbacks.EarlyStopping(monitor='val_accuracy', patience=16,\n",
    "                                           restore_best_weights=True)\n",
    "lr_scheduler = keras.callbacks.ReduceLROnPlateau(monitor='val_accuracy',\n",
    "                                                 patience=3, factor=.8)"
   ]
  },
  {
   "cell_type": "code",
   "execution_count": null,
   "id": "6OVy8W2XAscD",
   "metadata": {
    "colab": {
     "base_uri": "https://localhost:8080/"
    },
    "executionInfo": {
     "elapsed": 119410,
     "status": "ok",
     "timestamp": 1701715772280,
     "user": {
      "displayName": "English Molecule",
      "userId": "15680542099001298495"
     },
     "user_tz": -60
    },
    "id": "6OVy8W2XAscD",
    "outputId": "ca92fc8d-65f7-4933-a2bf-b560ebc1c9b0"
   },
   "outputs": [
    {
     "name": "stdout",
     "output_type": "stream",
     "text": [
      "Epoch 1/100\n",
      "210/210 [==============================] - 14s 28ms/step - loss: 1.3649 - accuracy: 0.5488 - precision: 0.0900 - recall: 0.4936 - val_loss: 1.4259 - val_accuracy: 0.1933 - val_precision: 0.0931 - val_recall: 0.8797\n",
      "Epoch 2/100\n",
      "210/210 [==============================] - 1s 7ms/step - loss: 1.3336 - accuracy: 0.4492 - precision: 0.1006 - recall: 0.7195 - val_loss: 1.4196 - val_accuracy: 0.1214 - val_precision: 0.0950 - val_recall: 0.9925\n",
      "Epoch 3/100\n",
      "210/210 [==============================] - 3s 12ms/step - loss: 1.3161 - accuracy: 0.4533 - precision: 0.1030 - recall: 0.7341 - val_loss: 1.4094 - val_accuracy: 0.4445 - val_precision: 0.1123 - val_recall: 0.7218\n",
      "Epoch 4/100\n",
      "210/210 [==============================] - 5s 23ms/step - loss: 1.2993 - accuracy: 0.4824 - precision: 0.1075 - recall: 0.7268 - val_loss: 1.4515 - val_accuracy: 0.6253 - val_precision: 0.1203 - val_recall: 0.4812\n",
      "Epoch 5/100\n",
      "210/210 [==============================] - 2s 11ms/step - loss: 1.2712 - accuracy: 0.5271 - precision: 0.1158 - recall: 0.7177 - val_loss: 1.3909 - val_accuracy: 0.3971 - val_precision: 0.1108 - val_recall: 0.7820\n",
      "Epoch 6/100\n",
      "210/210 [==============================] - 1s 7ms/step - loss: 1.2514 - accuracy: 0.5276 - precision: 0.1215 - recall: 0.7632 - val_loss: 1.3924 - val_accuracy: 0.3803 - val_precision: 0.1088 - val_recall: 0.7895\n",
      "Epoch 7/100\n",
      "210/210 [==============================] - 1s 6ms/step - loss: 1.2524 - accuracy: 0.5182 - precision: 0.1167 - recall: 0.7413 - val_loss: 1.4060 - val_accuracy: 0.5178 - val_precision: 0.1220 - val_recall: 0.6767\n",
      "Epoch 8/100\n",
      "210/210 [==============================] - 2s 7ms/step - loss: 1.2320 - accuracy: 0.5377 - precision: 0.1221 - recall: 0.7486 - val_loss: 1.3903 - val_accuracy: 0.4634 - val_precision: 0.1169 - val_recall: 0.7293\n",
      "Epoch 9/100\n",
      "210/210 [==============================] - 2s 7ms/step - loss: 1.2141 - accuracy: 0.5488 - precision: 0.1285 - recall: 0.7778 - val_loss: 1.3986 - val_accuracy: 0.5150 - val_precision: 0.1213 - val_recall: 0.6767\n",
      "Epoch 10/100\n",
      "210/210 [==============================] - 2s 10ms/step - loss: 1.1855 - accuracy: 0.5841 - precision: 0.1376 - recall: 0.7723 - val_loss: 1.4236 - val_accuracy: 0.5506 - val_precision: 0.1270 - val_recall: 0.6541\n",
      "Epoch 11/100\n",
      "210/210 [==============================] - 2s 10ms/step - loss: 1.1712 - accuracy: 0.5959 - precision: 0.1420 - recall: 0.7778 - val_loss: 1.4063 - val_accuracy: 0.5241 - val_precision: 0.1245 - val_recall: 0.6842\n",
      "Epoch 12/100\n",
      "210/210 [==============================] - 2s 7ms/step - loss: 1.1698 - accuracy: 0.6044 - precision: 0.1418 - recall: 0.7559 - val_loss: 1.4017 - val_accuracy: 0.5324 - val_precision: 0.1245 - val_recall: 0.6692\n",
      "Epoch 13/100\n",
      "210/210 [==============================] - 1s 6ms/step - loss: 1.1355 - accuracy: 0.6216 - precision: 0.1493 - recall: 0.7687 - val_loss: 1.4171 - val_accuracy: 0.4955 - val_precision: 0.1208 - val_recall: 0.7068\n",
      "Epoch 14/100\n",
      "210/210 [==============================] - 2s 11ms/step - loss: 1.1178 - accuracy: 0.6304 - precision: 0.1545 - recall: 0.7832 - val_loss: 1.5104 - val_accuracy: 0.6727 - val_precision: 0.1332 - val_recall: 0.4586\n",
      "Epoch 15/100\n",
      "210/210 [==============================] - 1s 7ms/step - loss: 1.0992 - accuracy: 0.6515 - precision: 0.1630 - recall: 0.7851 - val_loss: 1.5295 - val_accuracy: 0.6476 - val_precision: 0.1324 - val_recall: 0.5038\n",
      "Epoch 16/100\n",
      "210/210 [==============================] - 2s 7ms/step - loss: 1.0889 - accuracy: 0.6554 - precision: 0.1639 - recall: 0.7796 - val_loss: 1.4193 - val_accuracy: 0.4424 - val_precision: 0.1207 - val_recall: 0.7970\n",
      "Epoch 17/100\n",
      "210/210 [==============================] - 2s 10ms/step - loss: 1.0869 - accuracy: 0.6544 - precision: 0.1655 - recall: 0.7942 - val_loss: 1.4333 - val_accuracy: 0.5806 - val_precision: 0.1297 - val_recall: 0.6165\n",
      "Epoch 18/100\n",
      "210/210 [==============================] - 2s 10ms/step - loss: 1.0479 - accuracy: 0.6680 - precision: 0.1714 - recall: 0.7942 - val_loss: 1.4593 - val_accuracy: 0.5897 - val_precision: 0.1348 - val_recall: 0.6316\n",
      "Epoch 19/100\n",
      "210/210 [==============================] - 2s 7ms/step - loss: 1.0295 - accuracy: 0.6721 - precision: 0.1738 - recall: 0.7978 - val_loss: 1.5306 - val_accuracy: 0.6629 - val_precision: 0.1414 - val_recall: 0.5188\n",
      "Epoch 20/100\n",
      "210/210 [==============================] - 2s 7ms/step - loss: 1.0147 - accuracy: 0.6838 - precision: 0.1786 - recall: 0.7923 - val_loss: 1.4813 - val_accuracy: 0.6134 - val_precision: 0.1377 - val_recall: 0.6015\n",
      "Epoch 21/100\n",
      "210/210 [==============================] - 2s 8ms/step - loss: 1.0256 - accuracy: 0.6816 - precision: 0.1783 - recall: 0.7978 - val_loss: 1.4944 - val_accuracy: 0.6099 - val_precision: 0.1353 - val_recall: 0.5940\n",
      "Epoch 22/100\n",
      "210/210 [==============================] - 1s 7ms/step - loss: 0.9856 - accuracy: 0.6973 - precision: 0.1881 - recall: 0.8106 - val_loss: 1.4704 - val_accuracy: 0.5304 - val_precision: 0.1240 - val_recall: 0.6692\n",
      "Epoch 23/100\n",
      "210/210 [==============================] - 1s 7ms/step - loss: 0.9693 - accuracy: 0.7012 - precision: 0.1902 - recall: 0.8106 - val_loss: 1.5668 - val_accuracy: 0.6225 - val_precision: 0.1318 - val_recall: 0.5489\n",
      "Epoch 24/100\n",
      "210/210 [==============================] - 2s 10ms/step - loss: 0.9582 - accuracy: 0.7171 - precision: 0.2022 - recall: 0.8306 - val_loss: 1.5236 - val_accuracy: 0.5778 - val_precision: 0.1301 - val_recall: 0.6241\n",
      "Epoch 25/100\n",
      "210/210 [==============================] - 2s 10ms/step - loss: 0.9232 - accuracy: 0.7243 - precision: 0.2063 - recall: 0.8288 - val_loss: 1.5428 - val_accuracy: 0.5652 - val_precision: 0.1242 - val_recall: 0.6090\n",
      "Epoch 26/100\n",
      "210/210 [==============================] - 3s 16ms/step - loss: 0.9097 - accuracy: 0.7260 - precision: 0.2092 - recall: 0.8415 - val_loss: 1.7007 - val_accuracy: 0.6916 - val_precision: 0.1295 - val_recall: 0.4060\n",
      "Epoch 27/100\n",
      "210/210 [==============================] - 1s 7ms/step - loss: 0.9145 - accuracy: 0.7260 - precision: 0.2044 - recall: 0.8087 - val_loss: 1.7044 - val_accuracy: 0.6650 - val_precision: 0.1269 - val_recall: 0.4436\n",
      "Epoch 28/100\n",
      "210/210 [==============================] - 3s 12ms/step - loss: 0.8862 - accuracy: 0.7405 - precision: 0.2186 - recall: 0.8397 - val_loss: 1.7353 - val_accuracy: 0.7097 - val_precision: 0.1325 - val_recall: 0.3835\n",
      "Epoch 29/100\n",
      "210/210 [==============================] - 2s 11ms/step - loss: 0.8856 - accuracy: 0.7369 - precision: 0.2177 - recall: 0.8506 - val_loss: 1.6785 - val_accuracy: 0.6790 - val_precision: 0.1407 - val_recall: 0.4812\n",
      "Epoch 30/100\n",
      "210/210 [==============================] - 2s 10ms/step - loss: 0.8514 - accuracy: 0.7574 - precision: 0.2296 - recall: 0.8306 - val_loss: 1.7160 - val_accuracy: 0.6595 - val_precision: 0.1325 - val_recall: 0.4812\n",
      "Epoch 31/100\n",
      "210/210 [==============================] - 2s 8ms/step - loss: 0.8400 - accuracy: 0.7595 - precision: 0.2350 - recall: 0.8561 - val_loss: 1.7875 - val_accuracy: 0.6281 - val_precision: 0.1269 - val_recall: 0.5113\n",
      "Epoch 32/100\n",
      "210/210 [==============================] - 1s 6ms/step - loss: 0.8336 - accuracy: 0.7464 - precision: 0.2268 - recall: 0.8670 - val_loss: 1.7623 - val_accuracy: 0.5939 - val_precision: 0.1252 - val_recall: 0.5639\n",
      "Epoch 33/100\n",
      "210/210 [==============================] - 1s 7ms/step - loss: 0.8264 - accuracy: 0.7541 - precision: 0.2324 - recall: 0.8670 - val_loss: 1.6840 - val_accuracy: 0.6064 - val_precision: 0.1278 - val_recall: 0.5564\n",
      "Epoch 34/100\n",
      "210/210 [==============================] - 1s 7ms/step - loss: 0.7920 - accuracy: 0.7656 - precision: 0.2438 - recall: 0.8834 - val_loss: 1.8109 - val_accuracy: 0.6832 - val_precision: 0.1377 - val_recall: 0.4586\n",
      "Epoch 35/100\n",
      "210/210 [==============================] - 2s 7ms/step - loss: 0.8160 - accuracy: 0.7650 - precision: 0.2413 - recall: 0.8689 - val_loss: 1.8118 - val_accuracy: 0.6727 - val_precision: 0.1379 - val_recall: 0.4812\n",
      "Epoch 36/100\n",
      "210/210 [==============================] - 2s 7ms/step - loss: 0.7887 - accuracy: 0.7701 - precision: 0.2460 - recall: 0.8725 - val_loss: 1.8060 - val_accuracy: 0.6643 - val_precision: 0.1360 - val_recall: 0.4887\n",
      "Epoch 37/100\n",
      "210/210 [==============================] - 2s 10ms/step - loss: 0.7845 - accuracy: 0.7693 - precision: 0.2438 - recall: 0.8616 - val_loss: 1.9913 - val_accuracy: 0.7013 - val_precision: 0.1429 - val_recall: 0.4436\n",
      "Epoch 38/100\n",
      "210/210 [==============================] - 2s 10ms/step - loss: 0.7988 - accuracy: 0.7716 - precision: 0.2454 - recall: 0.8597 - val_loss: 1.9466 - val_accuracy: 0.6978 - val_precision: 0.1377 - val_recall: 0.4286\n",
      "Epoch 39/100\n",
      "210/210 [==============================] - 2s 8ms/step - loss: 0.7760 - accuracy: 0.7814 - precision: 0.2550 - recall: 0.8652 - val_loss: 1.9607 - val_accuracy: 0.6895 - val_precision: 0.1338 - val_recall: 0.4286\n",
      "Epoch 40/100\n",
      "210/210 [==============================] - 1s 6ms/step - loss: 0.7756 - accuracy: 0.7804 - precision: 0.2543 - recall: 0.8670 - val_loss: 1.9558 - val_accuracy: 0.6978 - val_precision: 0.1305 - val_recall: 0.3985\n",
      "Epoch 41/100\n",
      "210/210 [==============================] - 1s 7ms/step - loss: 0.7681 - accuracy: 0.7876 - precision: 0.2602 - recall: 0.8616 - val_loss: 1.9826 - val_accuracy: 0.6957 - val_precision: 0.1418 - val_recall: 0.4511\n",
      "Epoch 42/100\n",
      "210/210 [==============================] - 1s 7ms/step - loss: 0.7635 - accuracy: 0.7868 - precision: 0.2595 - recall: 0.8616 - val_loss: 1.9418 - val_accuracy: 0.6992 - val_precision: 0.1418 - val_recall: 0.4436\n",
      "Epoch 43/100\n",
      "210/210 [==============================] - 2s 7ms/step - loss: 0.7392 - accuracy: 0.7977 - precision: 0.2736 - recall: 0.8852 - val_loss: 1.9654 - val_accuracy: 0.6615 - val_precision: 0.1333 - val_recall: 0.4812\n",
      "Epoch 44/100\n",
      "210/210 [==============================] - 3s 13ms/step - loss: 0.7236 - accuracy: 0.7959 - precision: 0.2703 - recall: 0.8743 - val_loss: 1.9876 - val_accuracy: 0.6769 - val_precision: 0.1382 - val_recall: 0.4737\n"
     ]
    },
    {
     "data": {
      "text/plain": [
       "<keras.src.callbacks.History at 0x7a00b45613c0>"
      ]
     },
     "execution_count": 19,
     "metadata": {},
     "output_type": "execute_result"
    }
   ],
   "source": [
    "model.fit(train_ds, epochs=100, validation_data=val_ds,\n",
    "          callbacks=[early_stop])"
   ]
  },
  {
   "cell_type": "code",
   "execution_count": null,
   "id": "aKkL7N8ao9Uy",
   "metadata": {
    "colab": {
     "base_uri": "https://localhost:8080/"
    },
    "executionInfo": {
     "elapsed": 326,
     "status": "ok",
     "timestamp": 1701715772593,
     "user": {
      "displayName": "English Molecule",
      "userId": "15680542099001298495"
     },
     "user_tz": -60
    },
    "id": "aKkL7N8ao9Uy",
    "outputId": "988085d9-e8a6-4fee-8837-81e40b82b308"
   },
   "outputs": [
    {
     "name": "stdout",
     "output_type": "stream",
     "text": [
      "45/45 [==============================] - 0s 7ms/step - loss: 1.6914 - accuracy: 0.7199 - precision: 0.1188 - recall: 0.3413\n",
      "loss: 1.69, accuracy: 71.99%, precision: 11.88%, recall: 34.13%\n"
     ]
    }
   ],
   "source": [
    "evaluate_model(model, test_ds)"
   ]
  },
  {
   "cell_type": "code",
   "execution_count": null,
   "id": "NfUu8xX96TvE",
   "metadata": {
    "colab": {
     "base_uri": "https://localhost:8080/"
    },
    "executionInfo": {
     "elapsed": 814,
     "status": "ok",
     "timestamp": 1701716001359,
     "user": {
      "displayName": "English Molecule",
      "userId": "15680542099001298495"
     },
     "user_tz": -60
    },
    "id": "NfUu8xX96TvE",
    "outputId": "0cd48248-91ee-4a23-da41-a10f102ff31d"
   },
   "outputs": [
    {
     "name": "stdout",
     "output_type": "stream",
     "text": [
      "45/45 [==============================] - 0s 9ms/step\n"
     ]
    },
    {
     "data": {
      "text/plain": [
       "(16.129032258064516, 29.838709677419356)"
      ]
     },
     "execution_count": 34,
     "metadata": {},
     "output_type": "execute_result"
    }
   ],
   "source": [
    "test_projects = data.iloc[train_size+val_size:].reset_index(drop=True)\n",
    "\n",
    "pred = model.predict(test_ds)\n",
    "\n",
    "get_accuracies(test_projects['bid_award_status'].values, pred,\n",
    "               test_projects['project_id'].values) # top 1 and top 2"
   ]
  },
  {
   "cell_type": "code",
   "execution_count": null,
   "id": "YdbpzikZ60QK",
   "metadata": {
    "colab": {
     "base_uri": "https://localhost:8080/"
    },
    "executionInfo": {
     "elapsed": 309,
     "status": "ok",
     "timestamp": 1701716011802,
     "user": {
      "displayName": "English Molecule",
      "userId": "15680542099001298495"
     },
     "user_tz": -60
    },
    "id": "YdbpzikZ60QK",
    "outputId": "d47acc48-c735-4c13-f8e5-c4b1f64f35bf"
   },
   "outputs": [
    {
     "data": {
      "text/plain": [
       "(16.129032258064516, 42.74193548387097)"
      ]
     },
     "execution_count": 36,
     "metadata": {},
     "output_type": "execute_result"
    }
   ],
   "source": [
    "get_accuracies(test_projects['bid_award_status'].values, pred,\n",
    "               test_projects['project_id'].values, to=3) # top 1 and top 3"
   ]
  },
  {
   "cell_type": "markdown",
   "id": "sL12s5tFk0Nf",
   "metadata": {
    "id": "sL12s5tFk0Nf"
   },
   "source": [
    "#### Combined model"
   ]
  },
  {
   "cell_type": "code",
   "execution_count": null,
   "id": "8UMLk_8yk7Xg",
   "metadata": {
    "id": "8UMLk_8yk7Xg"
   },
   "outputs": [],
   "source": [
    "ds = tf.data.Dataset.from_tensor_slices(((X_1, X_2, X_3), y, sample_weight))\n",
    "\n",
    "train_size,val_size = int(.7*len(data)), int(.15*len(data))\n",
    "\n",
    "train_ds = ds.take(train_size).shuffle(1000).batch(32).prefetch(1)\n",
    "val_ds = ds.skip(train_size)\n",
    "\n",
    "test_ds = val_ds.skip(val_size).batch(32).prefetch(1)\n",
    "val_ds = val_ds.take(val_size).batch(32).prefetch(1)"
   ]
  },
  {
   "cell_type": "code",
   "execution_count": null,
   "id": "LO8eh8VXkzqo",
   "metadata": {
    "id": "LO8eh8VXkzqo"
   },
   "outputs": [],
   "source": [
    "model.trainable = False\n",
    "\n",
    "input_2 = keras.layers.Input(shape=[14])\n",
    "\n",
    "concat = keras.layers.Concatenate()([model.output, input_2])\n",
    "\n",
    "x = keras.layers.Dense(8)(concat)\n",
    "output = keras.layers.Dense(1, activation='sigmoid')(x)\n",
    "\n",
    "combined_model = keras.models.Model(inputs=[embed_1.input, embed_2.input, input_2],\n",
    "                                    outputs=[output])"
   ]
  },
  {
   "cell_type": "code",
   "execution_count": null,
   "id": "MtYYq6QdlwMv",
   "metadata": {
    "id": "MtYYq6QdlwMv"
   },
   "outputs": [],
   "source": [
    "combined_model.compile(loss='binary_crossentropy', optimizer=keras.optimizers.Adam(learning_rate=1e-3),\n",
    "              metrics=['accuracy', keras.metrics.Precision(),\n",
    "                       keras.metrics.Recall()], weighted_metrics=[])\n",
    "\n",
    "early_stop = keras.callbacks.EarlyStopping(monitor='val_accuracy', patience=16,\n",
    "                                           restore_best_weights=True)\n",
    "lr_scheduler = keras.callbacks.ReduceLROnPlateau(monitor='val_accuracy',\n",
    "                                                 patience=3, factor=.8)"
   ]
  },
  {
   "cell_type": "code",
   "execution_count": null,
   "id": "-beh5SaBl9-Q",
   "metadata": {
    "colab": {
     "base_uri": "https://localhost:8080/"
    },
    "executionInfo": {
     "elapsed": 107416,
     "status": "ok",
     "timestamp": 1701716132020,
     "user": {
      "displayName": "English Molecule",
      "userId": "15680542099001298495"
     },
     "user_tz": -60
    },
    "id": "-beh5SaBl9-Q",
    "outputId": "e80d511e-290d-4585-b82e-aa488cad4a5b"
   },
   "outputs": [
    {
     "name": "stdout",
     "output_type": "stream",
     "text": [
      "Epoch 1/100\n",
      "210/210 [==============================] - 5s 19ms/step - loss: 1.3451 - accuracy: 0.5446 - precision_1: 0.1121 - recall_1: 0.6576 - val_loss: 1.4017 - val_accuracy: 0.3329 - val_precision_1: 0.1077 - val_recall_1: 0.8496\n",
      "Epoch 2/100\n",
      "210/210 [==============================] - 4s 21ms/step - loss: 1.1757 - accuracy: 0.5832 - precision_1: 0.1533 - recall_1: 0.9016 - val_loss: 1.3724 - val_accuracy: 0.4473 - val_precision_1: 0.1251 - val_recall_1: 0.8271\n",
      "Epoch 3/100\n",
      "210/210 [==============================] - 3s 17ms/step - loss: 1.0848 - accuracy: 0.6476 - precision_1: 0.1790 - recall_1: 0.9180 - val_loss: 1.3791 - val_accuracy: 0.5597 - val_precision_1: 0.1349 - val_recall_1: 0.6917\n",
      "Epoch 4/100\n",
      "210/210 [==============================] - 3s 16ms/step - loss: 1.0048 - accuracy: 0.7031 - precision_1: 0.2047 - recall_1: 0.9071 - val_loss: 1.3770 - val_accuracy: 0.5743 - val_precision_1: 0.1392 - val_recall_1: 0.6917\n",
      "Epoch 5/100\n",
      "210/210 [==============================] - 3s 16ms/step - loss: 0.9472 - accuracy: 0.7186 - precision_1: 0.2138 - recall_1: 0.9071 - val_loss: 1.4197 - val_accuracy: 0.6371 - val_precision_1: 0.1423 - val_recall_1: 0.5789\n",
      "Epoch 6/100\n",
      "210/210 [==============================] - 2s 11ms/step - loss: 0.9022 - accuracy: 0.7459 - precision_1: 0.2299 - recall_1: 0.8925 - val_loss: 1.4464 - val_accuracy: 0.6525 - val_precision_1: 0.1415 - val_recall_1: 0.5414\n",
      "Epoch 7/100\n",
      "210/210 [==============================] - 2s 11ms/step - loss: 0.8599 - accuracy: 0.7560 - precision_1: 0.2357 - recall_1: 0.8798 - val_loss: 1.4769 - val_accuracy: 0.6567 - val_precision_1: 0.1460 - val_recall_1: 0.5564\n",
      "Epoch 8/100\n",
      "210/210 [==============================] - 2s 11ms/step - loss: 0.8382 - accuracy: 0.7620 - precision_1: 0.2404 - recall_1: 0.8798 - val_loss: 1.5233 - val_accuracy: 0.6769 - val_precision_1: 0.1474 - val_recall_1: 0.5188\n",
      "Epoch 9/100\n",
      "210/210 [==============================] - 2s 12ms/step - loss: 0.8281 - accuracy: 0.7713 - precision_1: 0.2473 - recall_1: 0.8743 - val_loss: 1.5678 - val_accuracy: 0.6853 - val_precision_1: 0.1498 - val_recall_1: 0.5113\n",
      "Epoch 10/100\n",
      "210/210 [==============================] - 2s 10ms/step - loss: 0.8109 - accuracy: 0.7689 - precision_1: 0.2450 - recall_1: 0.8725 - val_loss: 1.5715 - val_accuracy: 0.6853 - val_precision_1: 0.1467 - val_recall_1: 0.4962\n",
      "Epoch 11/100\n",
      "210/210 [==============================] - 2s 10ms/step - loss: 0.7931 - accuracy: 0.7790 - precision_1: 0.2512 - recall_1: 0.8543 - val_loss: 1.5722 - val_accuracy: 0.6818 - val_precision_1: 0.1481 - val_recall_1: 0.5113\n",
      "Epoch 12/100\n",
      "210/210 [==============================] - 1s 7ms/step - loss: 0.7796 - accuracy: 0.7811 - precision_1: 0.2560 - recall_1: 0.8743 - val_loss: 1.5942 - val_accuracy: 0.6636 - val_precision_1: 0.1446 - val_recall_1: 0.5338\n",
      "Epoch 13/100\n",
      "210/210 [==============================] - 1s 6ms/step - loss: 0.7831 - accuracy: 0.7819 - precision_1: 0.2562 - recall_1: 0.8707 - val_loss: 1.6025 - val_accuracy: 0.6636 - val_precision_1: 0.1431 - val_recall_1: 0.5263\n",
      "Epoch 14/100\n",
      "210/210 [==============================] - 2s 11ms/step - loss: 0.7807 - accuracy: 0.7811 - precision_1: 0.2555 - recall_1: 0.8707 - val_loss: 1.6477 - val_accuracy: 0.6936 - val_precision_1: 0.1475 - val_recall_1: 0.4812\n",
      "Epoch 15/100\n",
      "210/210 [==============================] - 1s 6ms/step - loss: 0.7425 - accuracy: 0.7941 - precision_1: 0.2692 - recall_1: 0.8798 - val_loss: 1.6517 - val_accuracy: 0.6853 - val_precision_1: 0.1482 - val_recall_1: 0.5038\n",
      "Epoch 16/100\n",
      "210/210 [==============================] - 1s 7ms/step - loss: 0.7545 - accuracy: 0.7911 - precision_1: 0.2673 - recall_1: 0.8871 - val_loss: 1.6925 - val_accuracy: 0.6895 - val_precision_1: 0.1486 - val_recall_1: 0.4962\n",
      "Epoch 17/100\n",
      "210/210 [==============================] - 1s 7ms/step - loss: 0.7453 - accuracy: 0.7986 - precision_1: 0.2738 - recall_1: 0.8798 - val_loss: 1.6908 - val_accuracy: 0.6846 - val_precision_1: 0.1495 - val_recall_1: 0.5113\n",
      "Epoch 18/100\n",
      "210/210 [==============================] - 3s 15ms/step - loss: 0.7522 - accuracy: 0.7886 - precision_1: 0.2628 - recall_1: 0.8725 - val_loss: 1.7086 - val_accuracy: 0.7013 - val_precision_1: 0.1513 - val_recall_1: 0.4812\n",
      "Epoch 19/100\n",
      "210/210 [==============================] - 2s 10ms/step - loss: 0.7752 - accuracy: 0.7885 - precision_1: 0.2613 - recall_1: 0.8634 - val_loss: 1.6786 - val_accuracy: 0.7006 - val_precision_1: 0.1509 - val_recall_1: 0.4812\n",
      "Epoch 20/100\n",
      "210/210 [==============================] - 1s 6ms/step - loss: 0.7650 - accuracy: 0.7910 - precision_1: 0.2614 - recall_1: 0.8470 - val_loss: 1.7087 - val_accuracy: 0.6978 - val_precision_1: 0.1512 - val_recall_1: 0.4887\n",
      "Epoch 21/100\n",
      "210/210 [==============================] - 2s 11ms/step - loss: 0.7413 - accuracy: 0.7976 - precision_1: 0.2704 - recall_1: 0.8634 - val_loss: 1.7232 - val_accuracy: 0.7104 - val_precision_1: 0.1527 - val_recall_1: 0.4662\n",
      "Epoch 22/100\n",
      "210/210 [==============================] - 2s 9ms/step - loss: 0.7369 - accuracy: 0.8085 - precision_1: 0.2842 - recall_1: 0.8780 - val_loss: 1.7086 - val_accuracy: 0.7076 - val_precision_1: 0.1529 - val_recall_1: 0.4737\n",
      "Epoch 23/100\n",
      "210/210 [==============================] - 4s 20ms/step - loss: 0.7282 - accuracy: 0.8009 - precision_1: 0.2754 - recall_1: 0.8743 - val_loss: 1.7635 - val_accuracy: 0.7195 - val_precision_1: 0.1542 - val_recall_1: 0.4511\n",
      "Epoch 24/100\n",
      "210/210 [==============================] - 2s 10ms/step - loss: 0.7596 - accuracy: 0.7929 - precision_1: 0.2660 - recall_1: 0.8652 - val_loss: 1.7235 - val_accuracy: 0.7006 - val_precision_1: 0.1542 - val_recall_1: 0.4962\n",
      "Epoch 25/100\n",
      "210/210 [==============================] - 2s 10ms/step - loss: 0.7732 - accuracy: 0.7943 - precision_1: 0.2647 - recall_1: 0.8470 - val_loss: 1.6726 - val_accuracy: 0.6895 - val_precision_1: 0.1518 - val_recall_1: 0.5113\n",
      "Epoch 26/100\n",
      "210/210 [==============================] - 1s 7ms/step - loss: 0.7670 - accuracy: 0.7876 - precision_1: 0.2602 - recall_1: 0.8616 - val_loss: 1.7021 - val_accuracy: 0.7006 - val_precision_1: 0.1526 - val_recall_1: 0.4887\n",
      "Epoch 27/100\n",
      "210/210 [==============================] - 1s 7ms/step - loss: 0.7409 - accuracy: 0.8036 - precision_1: 0.2795 - recall_1: 0.8834 - val_loss: 1.7502 - val_accuracy: 0.7146 - val_precision_1: 0.1550 - val_recall_1: 0.4662\n",
      "Epoch 28/100\n",
      "210/210 [==============================] - 2s 11ms/step - loss: 0.7299 - accuracy: 0.8012 - precision_1: 0.2734 - recall_1: 0.8579 - val_loss: 1.8535 - val_accuracy: 0.7502 - val_precision_1: 0.1642 - val_recall_1: 0.4135\n",
      "Epoch 29/100\n",
      "210/210 [==============================] - 1s 6ms/step - loss: 0.7364 - accuracy: 0.7992 - precision_1: 0.2721 - recall_1: 0.8634 - val_loss: 1.7564 - val_accuracy: 0.7153 - val_precision_1: 0.1571 - val_recall_1: 0.4737\n",
      "Epoch 30/100\n",
      "210/210 [==============================] - 1s 7ms/step - loss: 0.7563 - accuracy: 0.7989 - precision_1: 0.2697 - recall_1: 0.8488 - val_loss: 1.7127 - val_accuracy: 0.7062 - val_precision_1: 0.1555 - val_recall_1: 0.4887\n",
      "Epoch 31/100\n",
      "210/210 [==============================] - 1s 7ms/step - loss: 0.7357 - accuracy: 0.8022 - precision_1: 0.2768 - recall_1: 0.8743 - val_loss: 1.6784 - val_accuracy: 0.6860 - val_precision_1: 0.1501 - val_recall_1: 0.5113\n",
      "Epoch 32/100\n",
      "210/210 [==============================] - 2s 10ms/step - loss: 0.7555 - accuracy: 0.7914 - precision_1: 0.2640 - recall_1: 0.8616 - val_loss: 1.7041 - val_accuracy: 0.6930 - val_precision_1: 0.1535 - val_recall_1: 0.5113\n",
      "Epoch 33/100\n",
      "210/210 [==============================] - 2s 10ms/step - loss: 0.7303 - accuracy: 0.8009 - precision_1: 0.2746 - recall_1: 0.8689 - val_loss: 1.7172 - val_accuracy: 0.7111 - val_precision_1: 0.1548 - val_recall_1: 0.4737\n",
      "Epoch 34/100\n",
      "210/210 [==============================] - 1s 7ms/step - loss: 0.7176 - accuracy: 0.8048 - precision_1: 0.2785 - recall_1: 0.8670 - val_loss: 1.7813 - val_accuracy: 0.7306 - val_precision_1: 0.1609 - val_recall_1: 0.4511\n",
      "Epoch 35/100\n",
      "210/210 [==============================] - 1s 7ms/step - loss: 0.7377 - accuracy: 0.8037 - precision_1: 0.2776 - recall_1: 0.8689 - val_loss: 1.7581 - val_accuracy: 0.7146 - val_precision_1: 0.1584 - val_recall_1: 0.4812\n",
      "Epoch 36/100\n",
      "210/210 [==============================] - 1s 6ms/step - loss: 0.7375 - accuracy: 0.7964 - precision_1: 0.2673 - recall_1: 0.8506 - val_loss: 1.7542 - val_accuracy: 0.7020 - val_precision_1: 0.1581 - val_recall_1: 0.5113\n",
      "Epoch 37/100\n",
      "210/210 [==============================] - 1s 6ms/step - loss: 0.7625 - accuracy: 0.7798 - precision_1: 0.2566 - recall_1: 0.8871 - val_loss: 1.7539 - val_accuracy: 0.7153 - val_precision_1: 0.1588 - val_recall_1: 0.4812\n",
      "Epoch 38/100\n",
      "210/210 [==============================] - 1s 6ms/step - loss: 0.7239 - accuracy: 0.8052 - precision_1: 0.2793 - recall_1: 0.8689 - val_loss: 1.7431 - val_accuracy: 0.7118 - val_precision_1: 0.1585 - val_recall_1: 0.4887\n",
      "Epoch 39/100\n",
      "210/210 [==============================] - 2s 8ms/step - loss: 0.7161 - accuracy: 0.8064 - precision_1: 0.2839 - recall_1: 0.8925 - val_loss: 1.7578 - val_accuracy: 0.7111 - val_precision_1: 0.1582 - val_recall_1: 0.4887\n",
      "Epoch 40/100\n",
      "210/210 [==============================] - 2s 11ms/step - loss: 0.7313 - accuracy: 0.8031 - precision_1: 0.2767 - recall_1: 0.8670 - val_loss: 1.7634 - val_accuracy: 0.7167 - val_precision_1: 0.1579 - val_recall_1: 0.4737\n",
      "Epoch 41/100\n",
      "210/210 [==============================] - 2s 9ms/step - loss: 0.7231 - accuracy: 0.8030 - precision_1: 0.2776 - recall_1: 0.8743 - val_loss: 1.7839 - val_accuracy: 0.7285 - val_precision_1: 0.1596 - val_recall_1: 0.4511\n",
      "Epoch 42/100\n",
      "210/210 [==============================] - 1s 6ms/step - loss: 0.7167 - accuracy: 0.8112 - precision_1: 0.2855 - recall_1: 0.8652 - val_loss: 1.7933 - val_accuracy: 0.7160 - val_precision_1: 0.1592 - val_recall_1: 0.4812\n",
      "Epoch 43/100\n",
      "210/210 [==============================] - 1s 6ms/step - loss: 0.7182 - accuracy: 0.8083 - precision_1: 0.2835 - recall_1: 0.8743 - val_loss: 1.7499 - val_accuracy: 0.7174 - val_precision_1: 0.1600 - val_recall_1: 0.4812\n",
      "Epoch 44/100\n",
      "210/210 [==============================] - 3s 12ms/step - loss: 0.7270 - accuracy: 0.8065 - precision_1: 0.2805 - recall_1: 0.8670 - val_loss: 1.7636 - val_accuracy: 0.7237 - val_precision_1: 0.1602 - val_recall_1: 0.4662\n"
     ]
    },
    {
     "data": {
      "text/plain": [
       "<keras.src.callbacks.History at 0x7a00b31cfeb0>"
      ]
     },
     "execution_count": 40,
     "metadata": {},
     "output_type": "execute_result"
    }
   ],
   "source": [
    "combined_model.fit(train_ds, epochs=100, validation_data=val_ds,\n",
    "          callbacks=[early_stop])"
   ]
  },
  {
   "cell_type": "code",
   "execution_count": null,
   "id": "EFRI4REIl--c",
   "metadata": {
    "colab": {
     "base_uri": "https://localhost:8080/"
    },
    "executionInfo": {
     "elapsed": 336,
     "status": "ok",
     "timestamp": 1701716132347,
     "user": {
      "displayName": "English Molecule",
      "userId": "15680542099001298495"
     },
     "user_tz": -60
    },
    "id": "EFRI4REIl--c",
    "outputId": "4f03e40a-462a-4af3-bace-5a96b560ea52"
   },
   "outputs": [
    {
     "name": "stdout",
     "output_type": "stream",
     "text": [
      "45/45 [==============================] - 0s 4ms/step - loss: 1.8276 - accuracy: 0.7686 - precision_1: 0.1589 - recall_1: 0.3810\n",
      "loss: 1.83, accuracy: 76.86%, precision: 15.89%, recall: 38.10%\n"
     ]
    }
   ],
   "source": [
    "evaluate_model(combined_model, test_ds)"
   ]
  },
  {
   "cell_type": "code",
   "execution_count": null,
   "id": "RI3otbNPLe4E",
   "metadata": {
    "colab": {
     "base_uri": "https://localhost:8080/"
    },
    "executionInfo": {
     "elapsed": 625,
     "status": "ok",
     "timestamp": 1701716133419,
     "user": {
      "displayName": "English Molecule",
      "userId": "15680542099001298495"
     },
     "user_tz": -60
    },
    "id": "RI3otbNPLe4E",
    "outputId": "67d1135d-a5b9-40a5-b2e3-74c14cf5d9e9"
   },
   "outputs": [
    {
     "name": "stdout",
     "output_type": "stream",
     "text": [
      "45/45 [==============================] - 0s 3ms/step\n"
     ]
    },
    {
     "data": {
      "text/plain": [
       "(21.774193548387096, 35.483870967741936)"
      ]
     },
     "execution_count": 42,
     "metadata": {},
     "output_type": "execute_result"
    }
   ],
   "source": [
    "test_projects = data.iloc[train_size+val_size:].reset_index(drop=True)\n",
    "\n",
    "pred = combined_model.predict(test_ds)\n",
    "\n",
    "get_accuracies(test_projects['bid_award_status'].values, pred,\n",
    "               test_projects['project_id'].values) # top 1 and top 2"
   ]
  },
  {
   "cell_type": "code",
   "execution_count": null,
   "id": "uJ8NQGIvLe4F",
   "metadata": {
    "colab": {
     "base_uri": "https://localhost:8080/"
    },
    "executionInfo": {
     "elapsed": 4,
     "status": "ok",
     "timestamp": 1701716133420,
     "user": {
      "displayName": "English Molecule",
      "userId": "15680542099001298495"
     },
     "user_tz": -60
    },
    "id": "uJ8NQGIvLe4F",
    "outputId": "f7195161-4285-4c3e-dcb4-17276cdbe64f"
   },
   "outputs": [
    {
     "data": {
      "text/plain": [
       "(21.774193548387096, 52.41935483870967)"
      ]
     },
     "execution_count": 43,
     "metadata": {},
     "output_type": "execute_result"
    }
   ],
   "source": [
    "get_accuracies(test_projects['bid_award_status'].values, pred,\n",
    "               test_projects['project_id'].values, to=3) # top 1 and top 3"
   ]
  },
  {
   "cell_type": "markdown",
   "id": "nfatn6tsW9-G",
   "metadata": {
    "id": "nfatn6tsW9-G"
   },
   "source": [
    "### Saving model and pipeline"
   ]
  },
  {
   "cell_type": "code",
   "execution_count": null,
   "id": "TPgiz87KFFQE",
   "metadata": {
    "colab": {
     "base_uri": "https://localhost:8080/"
    },
    "executionInfo": {
     "elapsed": 10457,
     "status": "ok",
     "timestamp": 1701716158907,
     "user": {
      "displayName": "English Molecule",
      "userId": "15680542099001298495"
     },
     "user_tz": -60
    },
    "id": "TPgiz87KFFQE",
    "outputId": "1f88e2e3-00d9-41d5-f165-32d3ac58611c"
   },
   "outputs": [
    {
     "name": "stderr",
     "output_type": "stream",
     "text": [
      "/usr/local/lib/python3.10/dist-packages/keras/src/engine/training.py:3079: UserWarning: You are saving your model as an HDF5 file via `model.save()`. This file format is considered legacy. We recommend using instead the native Keras format, e.g. `model.save('my_model.keras')`.\n",
      "  saving_api.save_model(\n"
     ]
    }
   ],
   "source": [
    "combined_model.save(f'models/{pretrained_embeddings_model_name}.h5')"
   ]
  },
  {
   "cell_type": "code",
   "execution_count": null,
   "id": "HeO20h-rXZzc",
   "metadata": {
    "id": "HeO20h-rXZzc"
   },
   "outputs": [],
   "source": [
    "from sklearn.pipeline import Pipeline\n",
    "from sklearn.compose import ColumnTransformer\n",
    "\n",
    "full_pipeline = ColumnTransformer([\n",
    "    ('scaler', scaler, cols_num),\n",
    "    ('sealed', 'passthrough', ['bid_sealed']),\n",
    "    ('cat_pipeline', k_bins, cat_columns),\n",
    "    ('greetings', 'passthrough', ['bid_greetings'])\n",
    "])\n",
    "full_pipeline = full_pipeline.fit(df_prepared)"
   ]
  },
  {
   "cell_type": "code",
   "execution_count": null,
   "id": "vLJdxl0LdQmJ",
   "metadata": {
    "colab": {
     "base_uri": "https://localhost:8080/"
    },
    "executionInfo": {
     "elapsed": 6,
     "status": "ok",
     "timestamp": 1701754630713,
     "user": {
      "displayName": "English Molecule",
      "userId": "15680542099001298495"
     },
     "user_tz": -60
    },
    "id": "vLJdxl0LdQmJ",
    "outputId": "bf776fa5-bdcb-44db-d46c-1a6e7466e28b"
   },
   "outputs": [
    {
     "data": {
      "text/plain": [
       "array([[ True,  True,  True, ...,  True,  True,  True],\n",
       "       [ True,  True,  True, ...,  True,  True,  True],\n",
       "       [ True,  True,  True, ...,  True,  True,  True],\n",
       "       ...,\n",
       "       [ True,  True,  True, ...,  True,  True,  True],\n",
       "       [ True,  True,  True, ...,  True,  True,  True],\n",
       "       [ True,  True,  True, ...,  True,  True,  True]])"
      ]
     },
     "execution_count": 30,
     "metadata": {},
     "output_type": "execute_result"
    }
   ],
   "source": [
    "full_pipeline.transform(df_prepared).astype('float32') == X_3 # for the whole dataset"
   ]
  },
  {
   "cell_type": "code",
   "execution_count": null,
   "id": "lSyhCu1PYp2u",
   "metadata": {
    "colab": {
     "base_uri": "https://localhost:8080/"
    },
    "executionInfo": {
     "elapsed": 358,
     "status": "ok",
     "timestamp": 1701754631941,
     "user": {
      "displayName": "English Molecule",
      "userId": "15680542099001298495"
     },
     "user_tz": -60
    },
    "id": "lSyhCu1PYp2u",
    "outputId": "a8fd355e-a0d3-4d1e-ca81-828d54017e76"
   },
   "outputs": [
    {
     "data": {
      "text/plain": [
       "['models/pipeline.json']"
      ]
     },
     "execution_count": 31,
     "metadata": {},
     "output_type": "execute_result"
    }
   ],
   "source": [
    "import joblib\n",
    "\n",
    "joblib.dump(full_pipeline, f'models/{pipeline_name}.json')"
   ]
  },
  {
   "cell_type": "markdown",
   "id": "Vj0vXctu30Uq",
   "metadata": {
    "id": "Vj0vXctu30Uq"
   },
   "source": [
    "### Custom embeddings"
   ]
  },
  {
   "cell_type": "code",
   "execution_count": null,
   "id": "b_3tZIFCFUxR",
   "metadata": {
    "id": "b_3tZIFCFUxR"
   },
   "outputs": [],
   "source": [
    "ds = tf.data.Dataset.from_tensor_slices(((X_1, X_2), y, sample_weight))\n",
    "\n",
    "train_size,val_size = int(.7*len(data)), int(.15*len(data))\n",
    "\n",
    "train_ds = ds.take(train_size)\n",
    "val_ds = ds.skip(train_size)\n",
    "\n",
    "test_ds = val_ds.skip(val_size)\n",
    "val_ds = val_ds.take(val_size)"
   ]
  },
  {
   "cell_type": "code",
   "execution_count": null,
   "id": "Y5jwrlcE4n1m",
   "metadata": {
    "id": "Y5jwrlcE4n1m"
   },
   "outputs": [],
   "source": [
    "def preprocess_batch(X_batch):\n",
    "    X_batch = tf.strings.substr(X_batch, 0, 300)\n",
    "    X_batch = tf.strings.regex_replace(X_batch, rb\"<br\\s*/?>\", b\" \")\n",
    "    X_batch = tf.strings.regex_replace(X_batch, b\"[^a-zA-Z']\", b\" \")\n",
    "    X_batch = tf.strings.split(X_batch)\n",
    "\n",
    "    return X_batch.to_tensor(default_value=b\"<pad>\")\n",
    "\n",
    "def preprocess(X_batch, y_batch, sample_weight):\n",
    "\n",
    "    X_1 = preprocess_batch(X_batch[0])\n",
    "    X_2 = preprocess_batch(X_batch[1])\n",
    "\n",
    "    return (X_1, X_2, *X_batch[2:]), y_batch, sample_weight"
   ]
  },
  {
   "cell_type": "code",
   "execution_count": null,
   "id": "YPsbzgzK4Q60",
   "metadata": {
    "id": "YPsbzgzK4Q60"
   },
   "outputs": [],
   "source": [
    "from collections import Counter\n",
    "\n",
    "vocabulary = Counter()\n",
    "for X_batch, y_batch, _ in ds.batch(32).map(preprocess):\n",
    "\n",
    "    for project_description in X_batch[0]:\n",
    "        vocabulary.update(list(project_description.numpy()))\n",
    "    for bid_description in X_batch[1]:\n",
    "        vocabulary.update(list(bid_description.numpy()))"
   ]
  },
  {
   "cell_type": "code",
   "execution_count": null,
   "id": "3x6IHcA5Ywel",
   "metadata": {
    "id": "3x6IHcA5Ywel"
   },
   "outputs": [],
   "source": [
    "vocab_size = 10000\n",
    "truncated_vocabulary = [\n",
    "    word for word, count in vocabulary.most_common()[:vocab_size]]"
   ]
  },
  {
   "cell_type": "code",
   "execution_count": null,
   "id": "aQKor2cCAG-m",
   "metadata": {
    "colab": {
     "base_uri": "https://localhost:8080/"
    },
    "executionInfo": {
     "elapsed": 9,
     "status": "ok",
     "timestamp": 1701749054024,
     "user": {
      "displayName": "English Molecule",
      "userId": "15680542099001298495"
     },
     "user_tz": -60
    },
    "id": "aQKor2cCAG-m",
    "outputId": "83206011-1ee6-477c-fe2c-769b7630ad9a"
   },
   "outputs": [
    {
     "name": "stdout",
     "output_type": "stream",
     "text": [
      "1\n",
      "348\n",
      "784\n",
      "10000\n"
     ]
    }
   ],
   "source": [
    "word_to_id = {word: index for index, word in enumerate(truncated_vocabulary)}\n",
    "for word in b\"I think it's impoossible\".split():\n",
    "    print(word_to_id.get(word) or vocab_size)"
   ]
  },
  {
   "cell_type": "code",
   "execution_count": null,
   "id": "dH5XaXaAAHPA",
   "metadata": {
    "id": "dH5XaXaAAHPA"
   },
   "outputs": [],
   "source": [
    "words = tf.constant(truncated_vocabulary)\n",
    "word_ids = tf.range(len(truncated_vocabulary), dtype=tf.int64)\n",
    "vocab_init = tf.lookup.KeyValueTensorInitializer(words, word_ids)\n",
    "num_oov_buckets = 1000\n",
    "table = tf.lookup.StaticVocabularyTable(vocab_init, num_oov_buckets)"
   ]
  },
  {
   "cell_type": "code",
   "execution_count": null,
   "id": "XAmlkVqbASgD",
   "metadata": {
    "colab": {
     "base_uri": "https://localhost:8080/"
    },
    "executionInfo": {
     "elapsed": 1540,
     "status": "ok",
     "timestamp": 1701749055558,
     "user": {
      "displayName": "English Molecule",
      "userId": "15680542099001298495"
     },
     "user_tz": -60
    },
    "id": "XAmlkVqbASgD",
    "outputId": "2d22c721-63fb-43f0-a1c3-72410200d42b"
   },
   "outputs": [
    {
     "data": {
      "text/plain": [
       "<tf.Tensor: shape=(1, 4), dtype=int64, numpy=array([[    1,   348,   784, 10737]])>"
      ]
     },
     "execution_count": 16,
     "metadata": {},
     "output_type": "execute_result"
    }
   ],
   "source": [
    "table.lookup(tf.constant([b\"I think it's impoossible\".split()]))"
   ]
  },
  {
   "cell_type": "code",
   "execution_count": null,
   "id": "_lCnVU-oAVM6",
   "metadata": {
    "id": "_lCnVU-oAVM6"
   },
   "outputs": [],
   "source": [
    "pad_token = table.lookup(tf.constant([b\"<pad>\".split()]))[0][0]\n",
    "\n",
    "def encode_words(X_batch, y_batch, sample_weight):\n",
    "  X_1 = table.lookup(X_batch[0])\n",
    "  X_2 = table.lookup(X_batch[1])\n",
    "\n",
    "  return (X_1,X_2, *X_batch[2:]), y_batch, sample_weight\n",
    "\n",
    "train_set = train_ds.batch(32).map(preprocess)\n",
    "train_set = train_set.map(encode_words).prefetch(1)"
   ]
  },
  {
   "cell_type": "code",
   "execution_count": null,
   "id": "l_FJvdcvC-H6",
   "metadata": {
    "id": "l_FJvdcvC-H6"
   },
   "outputs": [],
   "source": [
    "val_set = val_ds.batch(32).map(preprocess).map(encode_words).prefetch(1)\n",
    "test_set = test_ds.batch(32).map(preprocess).map(encode_words).prefetch(1)"
   ]
  },
  {
   "cell_type": "code",
   "execution_count": null,
   "id": "O1JYTdg9A9Rn",
   "metadata": {
    "colab": {
     "base_uri": "https://localhost:8080/"
    },
    "executionInfo": {
     "elapsed": 394,
     "status": "ok",
     "timestamp": 1701749056299,
     "user": {
      "displayName": "English Molecule",
      "userId": "15680542099001298495"
     },
     "user_tz": -60
    },
    "id": "O1JYTdg9A9Rn",
    "outputId": "800ad5ca-5be2-4434-9c7c-22535dceab65"
   },
   "outputs": [
    {
     "name": "stderr",
     "output_type": "stream",
     "text": [
      "WARNING:tensorflow:Layer gru_1.2 will not use cuDNN kernels since it doesn't meet the criteria. It will use a generic GPU kernel as fallback when running on GPU.\n",
      "WARNING:tensorflow:Layer gru_2 will not use cuDNN kernels since it doesn't meet the criteria. It will use a generic GPU kernel as fallback when running on GPU.\n"
     ]
    }
   ],
   "source": [
    "embed_size = 64\n",
    "embed_1 = keras.models.Sequential([\n",
    "    keras.layers.Embedding(vocab_size+num_oov_buckets, embed_size,\n",
    "                                 mask_zero=True, input_shape=[None]),\n",
    "])\n",
    "\n",
    "embed_2 = keras.models.Sequential([\n",
    "    keras.layers.Embedding(vocab_size+num_oov_buckets, embed_size,\n",
    "                                 mask_zero=True, input_shape=[None]),\n",
    "])\n",
    "\n",
    "concat = keras.layers.Concatenate(axis=1,\n",
    "                                  name=\"concat_1\")([embed_1.output, embed_2.output])\n",
    "\n",
    "x = keras.layers.GRU(128, return_sequences=True, name='gru_1.2', recurrent_dropout=.3)(concat)\n",
    "x = keras.layers.GRU(64, name='gru_2', recurrent_dropout=.3)(x)\n",
    "\n",
    "output = keras.layers.Dense(1, activation='sigmoid')(x)\n",
    "\n",
    "model = keras.models.Model(inputs=[embed_1.input, embed_2.input], outputs=[output])\n",
    "\n",
    "model.compile(optimizer='adam', loss='binary_crossentropy',\n",
    "              metrics=['accuracy', keras.metrics.Precision(), keras.metrics.Recall()],\n",
    "              weighted_metrics=[])"
   ]
  },
  {
   "cell_type": "code",
   "execution_count": null,
   "id": "VyCeAwjhGQkH",
   "metadata": {
    "colab": {
     "base_uri": "https://localhost:8080/"
    },
    "executionInfo": {
     "elapsed": 17,
     "status": "ok",
     "timestamp": 1701749056299,
     "user": {
      "displayName": "English Molecule",
      "userId": "15680542099001298495"
     },
     "user_tz": -60
    },
    "id": "VyCeAwjhGQkH",
    "outputId": "5ce92b5a-6809-4665-c382-553b44082c0f"
   },
   "outputs": [
    {
     "name": "stdout",
     "output_type": "stream",
     "text": [
      "Model: \"model\"\n",
      "__________________________________________________________________________________________________\n",
      " Layer (type)                Output Shape                 Param #   Connected to                  \n",
      "==================================================================================================\n",
      " embedding_input (InputLaye  [(None, None)]               0         []                            \n",
      " r)                                                                                               \n",
      "                                                                                                  \n",
      " embedding_1_input (InputLa  [(None, None)]               0         []                            \n",
      " yer)                                                                                             \n",
      "                                                                                                  \n",
      " embedding (Embedding)       (None, None, 64)             704000    ['embedding_input[0][0]']     \n",
      "                                                                                                  \n",
      " embedding_1 (Embedding)     (None, None, 64)             704000    ['embedding_1_input[0][0]']   \n",
      "                                                                                                  \n",
      " concat_1 (Concatenate)      (None, None, 64)             0         ['embedding[0][0]',           \n",
      "                                                                     'embedding_1[0][0]']         \n",
      "                                                                                                  \n",
      " gru_1.2 (GRU)               (None, None, 128)            74496     ['concat_1[0][0]']            \n",
      "                                                                                                  \n",
      " gru_2 (GRU)                 (None, 64)                   37248     ['gru_1.2[0][0]']             \n",
      "                                                                                                  \n",
      " dense (Dense)               (None, 1)                    65        ['gru_2[0][0]']               \n",
      "                                                                                                  \n",
      "==================================================================================================\n",
      "Total params: 1519809 (5.80 MB)\n",
      "Trainable params: 1519809 (5.80 MB)\n",
      "Non-trainable params: 0 (0.00 Byte)\n",
      "__________________________________________________________________________________________________\n"
     ]
    }
   ],
   "source": [
    "model.summary()"
   ]
  },
  {
   "cell_type": "code",
   "execution_count": null,
   "id": "MRSjU-xcBskq",
   "metadata": {
    "colab": {
     "base_uri": "https://localhost:8080/"
    },
    "executionInfo": {
     "elapsed": 1267563,
     "status": "ok",
     "timestamp": 1701750323856,
     "user": {
      "displayName": "English Molecule",
      "userId": "15680542099001298495"
     },
     "user_tz": -60
    },
    "id": "MRSjU-xcBskq",
    "outputId": "6fdb380e-70fa-4b17-8019-cbdaffe41d9a"
   },
   "outputs": [
    {
     "name": "stdout",
     "output_type": "stream",
     "text": [
      "Epoch 1/6\n",
      "210/210 [==============================] - 242s 1s/step - loss: 1.3404 - accuracy: 0.3785 - precision: 0.0933 - recall: 0.7541 - val_loss: 1.3826 - val_accuracy: 0.1940 - val_precision: 0.0976 - val_recall: 0.9323\n",
      "Epoch 2/6\n",
      "210/210 [==============================] - 197s 934ms/step - loss: 1.0321 - accuracy: 0.6992 - precision: 0.1883 - recall: 0.8051 - val_loss: 1.4550 - val_accuracy: 0.6539 - val_precision: 0.1318 - val_recall: 0.4887\n",
      "Epoch 3/6\n",
      "210/210 [==============================] - 193s 920ms/step - loss: 0.7595 - accuracy: 0.8000 - precision: 0.2747 - recall: 0.8761 - val_loss: 1.9163 - val_accuracy: 0.6371 - val_precision: 0.1257 - val_recall: 0.4887\n",
      "Epoch 4/6\n",
      "210/210 [==============================] - 193s 920ms/step - loss: 0.6293 - accuracy: 0.8303 - precision: 0.3148 - recall: 0.9071 - val_loss: 2.1160 - val_accuracy: 0.5269 - val_precision: 0.1146 - val_recall: 0.6090\n",
      "Epoch 5/6\n",
      "210/210 [==============================] - 193s 922ms/step - loss: 0.5589 - accuracy: 0.8448 - precision: 0.3380 - recall: 0.9290 - val_loss: 2.3802 - val_accuracy: 0.5680 - val_precision: 0.1143 - val_recall: 0.5414\n",
      "Epoch 6/6\n",
      "210/210 [==============================] - 196s 932ms/step - loss: 0.5387 - accuracy: 0.8399 - precision: 0.3310 - recall: 0.9308 - val_loss: 2.4105 - val_accuracy: 0.6357 - val_precision: 0.1179 - val_recall: 0.4511\n"
     ]
    },
    {
     "data": {
      "text/plain": [
       "<keras.src.callbacks.History at 0x793d0fd1f190>"
      ]
     },
     "execution_count": 21,
     "metadata": {},
     "output_type": "execute_result"
    }
   ],
   "source": [
    "early_stop = keras.callbacks.EarlyStopping(monitor='val_accuracy', patience=10,\n",
    "                                           restore_best_weights=True)\n",
    "\n",
    "model.fit(train_set, validation_data=val_set, epochs=6, callbacks=[early_stop])"
   ]
  },
  {
   "cell_type": "code",
   "execution_count": null,
   "id": "fGq-_dsoJCaZ",
   "metadata": {
    "colab": {
     "base_uri": "https://localhost:8080/"
    },
    "executionInfo": {
     "elapsed": 5174,
     "status": "ok",
     "timestamp": 1701750329019,
     "user": {
      "displayName": "English Molecule",
      "userId": "15680542099001298495"
     },
     "user_tz": -60
    },
    "id": "fGq-_dsoJCaZ",
    "outputId": "d18dfe35-5115-4a9d-aff7-23c96d999cf7"
   },
   "outputs": [
    {
     "name": "stdout",
     "output_type": "stream",
     "text": [
      "45/45 [==============================] - 3s 68ms/step - loss: 2.2980 - accuracy: 0.6341 - precision: 0.1141 - recall: 0.4683\n",
      "loss: 2.30, accuracy: 63.41%, precision: 11.41%, recall: 46.83%\n"
     ]
    }
   ],
   "source": [
    "evaluate_model(model, test_set)"
   ]
  },
  {
   "cell_type": "code",
   "execution_count": null,
   "id": "Bl96bnrjL-Fd",
   "metadata": {
    "colab": {
     "base_uri": "https://localhost:8080/"
    },
    "executionInfo": {
     "elapsed": 5239,
     "status": "ok",
     "timestamp": 1701750588931,
     "user": {
      "displayName": "English Molecule",
      "userId": "15680542099001298495"
     },
     "user_tz": -60
    },
    "id": "Bl96bnrjL-Fd",
    "outputId": "a1af2f31-56a0-4bd3-8f4d-1cc8ffe3be52"
   },
   "outputs": [
    {
     "name": "stdout",
     "output_type": "stream",
     "text": [
      "45/45 [==============================] - 3s 68ms/step\n"
     ]
    },
    {
     "data": {
      "text/plain": [
       "(25.0, 35.483870967741936)"
      ]
     },
     "execution_count": 28,
     "metadata": {},
     "output_type": "execute_result"
    }
   ],
   "source": [
    "test_projects = data.iloc[train_size+val_size:].reset_index(drop=True)\n",
    "\n",
    "pred = model.predict(test_set)\n",
    "\n",
    "get_accuracies(test_projects['bid_award_status'].values, pred,\n",
    "               test_projects['project_id'].values) # top 1 and top 2"
   ]
  },
  {
   "cell_type": "code",
   "execution_count": null,
   "id": "g3IWlNGKL-Fe",
   "metadata": {
    "colab": {
     "base_uri": "https://localhost:8080/"
    },
    "executionInfo": {
     "elapsed": 347,
     "status": "ok",
     "timestamp": 1701750591156,
     "user": {
      "displayName": "English Molecule",
      "userId": "15680542099001298495"
     },
     "user_tz": -60
    },
    "id": "g3IWlNGKL-Fe",
    "outputId": "ff98ccc2-a4b4-42ba-9a65-147f09e84619"
   },
   "outputs": [
    {
     "data": {
      "text/plain": [
       "(25.0, 45.96774193548387)"
      ]
     },
     "execution_count": 29,
     "metadata": {},
     "output_type": "execute_result"
    }
   ],
   "source": [
    "get_accuracies(test_projects['bid_award_status'].values, pred,\n",
    "               test_projects['project_id'].values, to=3) # top 1 and top 3"
   ]
  },
  {
   "cell_type": "code",
   "execution_count": null,
   "id": "r1_9vtUjR7jA",
   "metadata": {
    "id": "r1_9vtUjR7jA"
   },
   "outputs": [],
   "source": [
    "ds = tf.data.Dataset.from_tensor_slices(((X_1, X_2, X_3), y, sample_weight))\n",
    "\n",
    "train_size,val_size = int(.7*len(data)), int(.15*len(data))\n",
    "\n",
    "train_ds = ds.take(train_size)\n",
    "val_ds = ds.skip(train_size)\n",
    "\n",
    "test_ds = val_ds.skip(val_size)\n",
    "val_ds = val_ds.take(val_size)\n",
    "\n",
    "train_set = train_ds.batch(32).map(preprocess)\n",
    "train_set = train_set.map(encode_words).prefetch(1)\n",
    "\n",
    "val_set = val_ds.batch(32).map(preprocess).map(encode_words).prefetch(1)\n",
    "test_set = test_ds.batch(32).map(preprocess).map(encode_words).prefetch(1)"
   ]
  },
  {
   "cell_type": "code",
   "execution_count": null,
   "id": "3acB0rJLRzVa",
   "metadata": {
    "id": "3acB0rJLRzVa"
   },
   "outputs": [],
   "source": [
    "model.trainable = False\n",
    "\n",
    "input_2 = keras.layers.Input(shape=[14])\n",
    "\n",
    "concat = keras.layers.Concatenate()([model.output, input_2])\n",
    "\n",
    "x = keras.layers.Dense(8)(concat)\n",
    "output = keras.layers.Dense(1, activation='sigmoid')(x)\n",
    "\n",
    "combined_model = keras.models.Model(inputs=[embed_1.input, embed_2.input, input_2],\n",
    "                                    outputs=[output])"
   ]
  },
  {
   "cell_type": "code",
   "execution_count": null,
   "id": "sftPB3VKRzVb",
   "metadata": {
    "id": "sftPB3VKRzVb"
   },
   "outputs": [],
   "source": [
    "combined_model.compile(loss='binary_crossentropy', optimizer=keras.optimizers.Adam(learning_rate=1e-4),\n",
    "              metrics=['accuracy', keras.metrics.Precision(),\n",
    "                       keras.metrics.Recall()], weighted_metrics=[])"
   ]
  },
  {
   "cell_type": "code",
   "execution_count": null,
   "id": "Dk11PtDmRzVc",
   "metadata": {
    "colab": {
     "base_uri": "https://localhost:8080/"
    },
    "executionInfo": {
     "elapsed": 686249,
     "status": "ok",
     "timestamp": 1701751281278,
     "user": {
      "displayName": "English Molecule",
      "userId": "15680542099001298495"
     },
     "user_tz": -60
    },
    "id": "Dk11PtDmRzVc",
    "outputId": "385b8b03-ebbe-4d77-9eeb-a42932aff80b"
   },
   "outputs": [
    {
     "name": "stdout",
     "output_type": "stream",
     "text": [
      "Epoch 1/5\n",
      "210/210 [==============================] - 118s 540ms/step - loss: 2.0664 - accuracy: 0.4675 - precision_1: 0.0851 - recall_1: 0.5628 - val_loss: 2.3394 - val_accuracy: 0.5206 - val_precision_1: 0.0914 - val_recall_1: 0.4662\n",
      "Epoch 2/5\n",
      "210/210 [==============================] - 126s 603ms/step - loss: 1.9707 - accuracy: 0.4475 - precision_1: 0.0843 - recall_1: 0.5811 - val_loss: 2.2154 - val_accuracy: 0.5080 - val_precision_1: 0.0903 - val_recall_1: 0.4737\n",
      "Epoch 3/5\n",
      "210/210 [==============================] - 120s 570ms/step - loss: 1.8890 - accuracy: 0.4346 - precision_1: 0.0850 - recall_1: 0.6029 - val_loss: 2.1108 - val_accuracy: 0.4920 - val_precision_1: 0.0908 - val_recall_1: 0.4962\n",
      "Epoch 4/5\n",
      "210/210 [==============================] - 111s 529ms/step - loss: 1.8169 - accuracy: 0.4259 - precision_1: 0.0860 - recall_1: 0.6230 - val_loss: 2.0214 - val_accuracy: 0.4871 - val_precision_1: 0.0954 - val_recall_1: 0.5338\n",
      "Epoch 5/5\n",
      "210/210 [==============================] - 116s 551ms/step - loss: 1.7523 - accuracy: 0.4189 - precision_1: 0.0879 - recall_1: 0.6485 - val_loss: 1.9440 - val_accuracy: 0.4864 - val_precision_1: 0.0985 - val_recall_1: 0.5564\n"
     ]
    },
    {
     "data": {
      "text/plain": [
       "<keras.src.callbacks.History at 0x793d1296b490>"
      ]
     },
     "execution_count": 33,
     "metadata": {},
     "output_type": "execute_result"
    }
   ],
   "source": [
    "early_stop = keras.callbacks.EarlyStopping(monitor='val_accuracy', patience=10,\n",
    "                                           restore_best_weights=True)\n",
    "\n",
    "combined_model.fit(train_set, validation_data=val_set, epochs=5,\n",
    "                   callbacks=[early_stop])"
   ]
  },
  {
   "cell_type": "code",
   "execution_count": null,
   "id": "mLj5kJx6RzVc",
   "metadata": {
    "colab": {
     "base_uri": "https://localhost:8080/"
    },
    "executionInfo": {
     "elapsed": 10722,
     "status": "ok",
     "timestamp": 1701751604512,
     "user": {
      "displayName": "English Molecule",
      "userId": "15680542099001298495"
     },
     "user_tz": -60
    },
    "id": "mLj5kJx6RzVc",
    "outputId": "23beed17-8a9b-4941-e222-0f96e7e04cf3"
   },
   "outputs": [
    {
     "name": "stdout",
     "output_type": "stream",
     "text": [
      "45/45 [==============================] - 8s 179ms/step - loss: 1.8944 - accuracy: 0.5352 - precision_1: 0.0945 - recall_1: 0.5000\n",
      "loss: 1.89, accuracy: 53.52%, precision: 9.45%, recall: 50.00%\n"
     ]
    }
   ],
   "source": [
    "evaluate_model(combined_model, test_set)"
   ]
  },
  {
   "cell_type": "code",
   "execution_count": null,
   "id": "P4atMhYdSrrj",
   "metadata": {
    "colab": {
     "base_uri": "https://localhost:8080/"
    },
    "executionInfo": {
     "elapsed": 5902,
     "status": "ok",
     "timestamp": 1701751644942,
     "user": {
      "displayName": "English Molecule",
      "userId": "15680542099001298495"
     },
     "user_tz": -60
    },
    "id": "P4atMhYdSrrj",
    "outputId": "63ff6c6a-215a-433c-a2b5-15cfdac25017"
   },
   "outputs": [
    {
     "name": "stdout",
     "output_type": "stream",
     "text": [
      "45/45 [==============================] - 5s 94ms/step\n"
     ]
    },
    {
     "data": {
      "text/plain": [
       "(16.129032258064516, 27.419354838709676)"
      ]
     },
     "execution_count": 38,
     "metadata": {},
     "output_type": "execute_result"
    }
   ],
   "source": [
    "test_projects = data.iloc[train_size+val_size:].reset_index(drop=True)\n",
    "\n",
    "pred = combined_model.predict(test_set)\n",
    "\n",
    "get_accuracies(test_projects['bid_award_status'].values, pred,\n",
    "               test_projects['project_id'].values) # top 1 and top 2"
   ]
  },
  {
   "cell_type": "code",
   "execution_count": null,
   "id": "mhgoKt43TYsP",
   "metadata": {
    "colab": {
     "base_uri": "https://localhost:8080/"
    },
    "executionInfo": {
     "elapsed": 7,
     "status": "ok",
     "timestamp": 1701751659235,
     "user": {
      "displayName": "English Molecule",
      "userId": "15680542099001298495"
     },
     "user_tz": -60
    },
    "id": "mhgoKt43TYsP",
    "outputId": "b77b9f27-b550-49a7-df2a-a0386350785d"
   },
   "outputs": [
    {
     "data": {
      "text/plain": [
       "(16.129032258064516, 39.516129032258064)"
      ]
     },
     "execution_count": 39,
     "metadata": {},
     "output_type": "execute_result"
    }
   ],
   "source": [
    "get_accuracies(test_projects['bid_award_status'].values, pred,\n",
    "               test_projects['project_id'].values, to=3) # top 1 and top 2"
   ]
  },
  {
   "cell_type": "markdown",
   "id": "dj4qiHcSpZJv",
   "metadata": {
    "id": "dj4qiHcSpZJv"
   },
   "source": [
    "### Saving model and pipeline"
   ]
  },
  {
   "cell_type": "code",
   "execution_count": null,
   "id": "g_QQRTbwpZJw",
   "metadata": {
    "colab": {
     "base_uri": "https://localhost:8080/"
    },
    "executionInfo": {
     "elapsed": 240,
     "status": "ok",
     "timestamp": 1701751671371,
     "user": {
      "displayName": "English Molecule",
      "userId": "15680542099001298495"
     },
     "user_tz": -60
    },
    "id": "g_QQRTbwpZJw",
    "outputId": "d49721dd-fa99-4737-9a27-b518e4070908"
   },
   "outputs": [
    {
     "name": "stderr",
     "output_type": "stream",
     "text": [
      "/usr/local/lib/python3.10/dist-packages/keras/src/engine/training.py:3079: UserWarning: You are saving your model as an HDF5 file via `model.save()`. This file format is considered legacy. We recommend using instead the native Keras format, e.g. `model.save('my_model.keras')`.\n",
      "  saving_api.save_model(\n"
     ]
    }
   ],
   "source": [
    "combined_model.save(f'models/{custom_embeddings_model_name}.h5')"
   ]
  },
  {
   "cell_type": "code",
   "execution_count": null,
   "id": "K96nWtEGpZJw",
   "metadata": {
    "id": "K96nWtEGpZJw"
   },
   "outputs": [],
   "source": [
    "from sklearn.pipeline import Pipeline\n",
    "from sklearn.compose import ColumnTransformer\n",
    "\n",
    "full_pipeline = ColumnTransformer([\n",
    "    ('scaler', scaler, cols_num),\n",
    "    ('sealed', 'passthrough', ['bid_sealed']),\n",
    "    ('cat_pipeline', k_bins, cat_columns),\n",
    "    ('greetings', 'passthrough', ['bid_greetings'])\n",
    "])\n",
    "full_pipeline = full_pipeline.fit(df_prepared)"
   ]
  },
  {
   "cell_type": "code",
   "execution_count": null,
   "id": "48RZ4b4hpZJx",
   "metadata": {
    "colab": {
     "base_uri": "https://localhost:8080/"
    },
    "executionInfo": {
     "elapsed": 4,
     "status": "ok",
     "timestamp": 1701751676793,
     "user": {
      "displayName": "English Molecule",
      "userId": "15680542099001298495"
     },
     "user_tz": -60
    },
    "id": "48RZ4b4hpZJx",
    "outputId": "1ad3008f-557c-4e8a-f20a-8ba50ee9931f"
   },
   "outputs": [
    {
     "data": {
      "text/plain": [
       "['models/pipeline.json']"
      ]
     },
     "execution_count": 42,
     "metadata": {},
     "output_type": "execute_result"
    }
   ],
   "source": [
    "import joblib\n",
    "\n",
    "joblib.dump(full_pipeline, f'models/{pipeline_name}.json')"
   ]
  },
  {
   "cell_type": "code",
   "execution_count": null,
   "id": "NFEOnT3ML3_s",
   "metadata": {
    "id": "NFEOnT3ML3_s"
   },
   "outputs": [],
   "source": [
    "import json\n",
    "\n",
    "with open('models/vocabulary.json', 'w') as f:\n",
    "    json.dump([str(elem) for elem in truncated_vocabulary], f)"
   ]
  },
  {
   "cell_type": "code",
   "execution_count": null,
   "id": "XI-Tjd8pUCv6",
   "metadata": {
    "id": "XI-Tjd8pUCv6"
   },
   "outputs": [],
   "source": []
  }
 ],
 "metadata": {
  "accelerator": "GPU",
  "colab": {
   "collapsed_sections": [
    "tQF6KrT0PFlJ",
    "T5LrU86VC4kl"
   ],
   "gpuType": "T4",
   "provenance": []
  },
  "kernelspec": {
   "display_name": "tf",
   "language": "python",
   "name": "tf"
  },
  "language_info": {
   "codemirror_mode": {
    "name": "ipython",
    "version": 3
   },
   "file_extension": ".py",
   "mimetype": "text/x-python",
   "name": "python",
   "nbconvert_exporter": "python",
   "pygments_lexer": "ipython3",
   "version": "3.8.16"
  }
 },
 "nbformat": 4,
 "nbformat_minor": 5
}
